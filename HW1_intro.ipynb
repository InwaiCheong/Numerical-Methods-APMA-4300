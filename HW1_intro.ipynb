{
 "cells": [
  {
   "cell_type": "markdown",
   "metadata": {},
   "source": [
    "Before you turn this problem in, make sure everything runs as expected. First, **restart the kernel** (in the menubar, select Kernel$\\rightarrow$Restart) and then **run all cells** (in the menubar, select Cell$\\rightarrow$Run All).\n",
    "\n",
    "Make sure you fill in any place that says `YOUR CODE HERE` or \"YOUR ANSWER HERE\", as well as your name and collaborators below:"
   ]
  },
  {
   "cell_type": "code",
   "execution_count": 1,
   "metadata": {},
   "outputs": [],
   "source": [
    "NAME = \"In Wai Cheong\"\n",
    "COLLABORATORS = \"\""
   ]
  },
  {
   "cell_type": "markdown",
   "metadata": {},
   "source": [
    "---"
   ]
  },
  {
   "cell_type": "code",
   "execution_count": 2,
   "metadata": {},
   "outputs": [],
   "source": [
    "from __future__ import print_function\n",
    "%matplotlib inline\n",
    "%precision 16\n",
    "import numpy\n",
    "import matplotlib.pyplot as plt"
   ]
  },
  {
   "cell_type": "markdown",
   "metadata": {
    "deletable": false,
    "editable": false,
    "nbgrader": {
     "cell_type": "markdown",
     "checksum": "5da3d6ae4a6d37e87ea88a8408508475",
     "grade": false,
     "grade_id": "cell8438889984008151",
     "locked": true,
     "schema_version": 3,
     "solution": false
    }
   },
   "source": [
    "# Homework 1:  Introduction"
   ]
  },
  {
   "cell_type": "markdown",
   "metadata": {
    "deletable": false,
    "editable": false,
    "nbgrader": {
     "cell_type": "markdown",
     "checksum": "c667879bcea53a67911245e81e8ecc09",
     "grade": false,
     "grade_id": "cell6823144658916374",
     "locked": true,
     "schema_version": 3,
     "solution": false
    }
   },
   "source": [
    "## Question 1 - Basic Linear Algebra\n",
    "\n",
    "Write out the solution (by-hand) to the following sets of equations.  **FULLY** justify your solution (do not just write the answer).\n",
    "\n",
    "If you want to review some of these concepts check out Strang's [Linear Algebra](https://clio.columbia.edu/catalog/10612929) text or for only the fundamentals check out Strang's [The Fundamental Theorem of Linear Algebra](http://www.jstor.org/stable/2324660?seq=1#page_scan_tab_contents)"
   ]
  },
  {
   "cell_type": "markdown",
   "metadata": {
    "deletable": false,
    "editable": false,
    "nbgrader": {
     "cell_type": "markdown",
     "checksum": "2ae27fff6a03b7de5ff2e2dc3b70cedc",
     "grade": false,
     "grade_id": "cell2016497183447183",
     "locked": true,
     "schema_version": 3,
     "solution": false
    }
   },
   "source": [
    "**(a)** (5) Solve $A x = \\mathbf{b}$ where\n",
    "$$\n",
    "    A = \\begin{bmatrix}\n",
    "        2 & 1 \\\\\n",
    "        1 & 3\n",
    "    \\end{bmatrix} ~~~~ \n",
    "    \\mathbf{b} = \\begin{bmatrix}\n",
    "        1 \\\\\n",
    "        -2\n",
    "    \\end{bmatrix}\n",
    "$$"
   ]
  },
  {
   "cell_type": "markdown",
   "metadata": {
    "deletable": false,
    "nbgrader": {
     "cell_type": "markdown",
     "checksum": "f74ae27d7e7de90898de4a3c30ba2e83",
     "grade": true,
     "grade_id": "cell1448053803160613",
     "locked": false,
     "points": 5,
     "schema_version": 3,
     "solution": true
    }
   },
   "source": [
    "### Solution\n",
    "\n",
    "Create the augmented matrix:\n",
    "\n",
    "\\begin{bmatrix}\n",
    "2 & 1 & 1 \\\\\n",
    "1 & 3 & -2\n",
    "\\end{bmatrix}\n",
    "\n",
    "Swap row 1 and row 2:\n",
    "\n",
    "\\begin{bmatrix}\n",
    "1 & 3 & -2 \\\\\n",
    "2 & 1 & 1\n",
    "\\end{bmatrix}\n",
    "\n",
    "Doing $R_2=R_2-2R_1$ gives:\n",
    "\n",
    "\\begin{bmatrix}\n",
    "1 & 3 & -2 \\\\\n",
    "0 & -5 & 5\n",
    "\\end{bmatrix}\n",
    "\n",
    "Dividing row 2 by $-5$:\n",
    "\n",
    "\\begin{bmatrix}\n",
    "1 & 3 & -2 \\\\\n",
    "0 & 1 & -1\n",
    "\\end{bmatrix}\n",
    "\n",
    "Doing $R_1=R_1-3R_2$:\n",
    "\n",
    "\\begin{bmatrix}\n",
    "1 & 0 & 1 \\\\\n",
    "0 & 1 & 1\n",
    "\\end{bmatrix}\n",
    "\n",
    "This gives us:\n",
    "\n",
    "$$\n",
    "\\begin{pmatrix}\n",
    " 1 & 0\\\\ \n",
    "0 & 1 \n",
    "\\end{pmatrix}\\begin{pmatrix}\n",
    "x_1\\\\ \n",
    "x_2\n",
    "\\end{pmatrix}=\\begin{pmatrix}\n",
    "1\\\\ \n",
    "-1\n",
    "\\end{pmatrix}\n",
    "$$\n",
    "\n",
    "This gives us our solution:\n",
    "\n",
    "$$\n",
    "x_1=1,x_2=-1\n",
    "$$\n",
    "\n",
    "\n"
   ]
  },
  {
   "cell_type": "markdown",
   "metadata": {
    "deletable": false,
    "editable": false,
    "nbgrader": {
     "cell_type": "markdown",
     "checksum": "04c1d84d159c07e51b85b05584426d9d",
     "grade": false,
     "grade_id": "cell5967828987159757",
     "locked": true,
     "schema_version": 3,
     "solution": false
    }
   },
   "source": [
    "**(b)** (5) Solve the system of equations:\n",
    "\\begin{align}\n",
    "    2x + 3y &= 1 \\\\\n",
    "    6x + 9y &= 3\n",
    "\\end{align}"
   ]
  },
  {
   "cell_type": "markdown",
   "metadata": {
    "deletable": false,
    "nbgrader": {
     "cell_type": "markdown",
     "checksum": "92141e837c28779faa0eacf9efc4bbdc",
     "grade": true,
     "grade_id": "cell9290127908697658",
     "locked": false,
     "points": 5,
     "schema_version": 3,
     "solution": true
    }
   },
   "source": [
    "### Solution\n",
    "\n",
    "The augmented matrix:\n",
    "\n",
    "\\begin{bmatrix}\n",
    "2 & 3 & 1 \\\\\n",
    "6 & 9 & 3\n",
    "\\end{bmatrix}\n",
    "\n",
    "Dividing row 2 by $3$ gives us:\n",
    "\n",
    "\\begin{bmatrix}\n",
    "2 & 3 & 1 \\\\\n",
    "2 & 3 & 1\n",
    "\\end{bmatrix}\n",
    "\n",
    "Performing the operation $R_2 = R_2 - R_1$:\n",
    "\n",
    "\\begin{bmatrix}\n",
    "2 & 3 & 1 \\\\\n",
    "0 & 0 & 0\n",
    "\\end{bmatrix}\n",
    "\n",
    "Diving the first row by $2$:\n",
    "\n",
    "\\begin{bmatrix}\n",
    "1 & \\frac{3}{2} & \\frac{1}{2} \\\\\n",
    "0 & 0 & 0\n",
    "\\end{bmatrix}\n",
    "\n",
    "We get:\n",
    "\n",
    "$$\n",
    "\\begin{pmatrix}\n",
    " 1 & \\frac{3}{2}\\\\ \n",
    "0 & 0 \n",
    "\\end{pmatrix}\\begin{pmatrix}\n",
    "x_1\\\\ \n",
    "x_2\n",
    "\\end{pmatrix}=\\begin{pmatrix}\n",
    "\\frac{1}{2}\\\\ \n",
    "0\n",
    "\\end{pmatrix}\n",
    "$$\n",
    "\n",
    "$x_2$ is our free variable so our solution is:\n",
    "\n",
    "$$\n",
    "x_1=\\frac{1}{2}-\\frac{3}{2}x_2\n",
    "$$"
   ]
  },
  {
   "cell_type": "markdown",
   "metadata": {
    "deletable": false,
    "editable": false,
    "nbgrader": {
     "cell_type": "markdown",
     "checksum": "1b5bd30d687fc5b3d357ac4c48a25188",
     "grade": false,
     "grade_id": "cell5933027027760471",
     "locked": true,
     "schema_version": 3,
     "solution": false
    }
   },
   "source": [
    "**(c)** (5) Why will I not be able to solve $A\\mathbf{x}=\\mathbf{b}$ for\n",
    "\n",
    "$$\n",
    "    A = \\begin{bmatrix}\n",
    "        2 & 1 \\\\\n",
    "        1 & 3 \\\\\n",
    "        0 & 4\n",
    "    \\end{bmatrix} ~~~~ \n",
    "    \\mathbf{b} = \\begin{bmatrix}\n",
    "        2 \\\\\n",
    "        0 \\\\\n",
    "        1\n",
    "    \\end{bmatrix}?\n",
    "$$\n",
    "\n",
    "Describe why this is a problem in terms of the column, row, left-null, and null spaces of $A$ and how that relates to the vector $\\mathbf{b}$."
   ]
  },
  {
   "cell_type": "markdown",
   "metadata": {
    "deletable": false,
    "nbgrader": {
     "cell_type": "markdown",
     "checksum": "a96870b6270e88853f17d3ff502d8cbf",
     "grade": true,
     "grade_id": "cell2638454345631698",
     "locked": false,
     "points": 5,
     "schema_version": 3,
     "solution": true
    }
   },
   "source": [
    "### Solution\n",
    "\n",
    "There exists no solutions because the $\\mathbf{b}$ matrix is not in the vector space of the column or row vectors of generated by $A$. Also, the nullspace of $A$ is formed by the basis: \n",
    "\n",
    "\\begin{bmatrix}\n",
    "0 \\\\\n",
    "0 \\\\\n",
    "\\end{bmatrix}\n",
    "\n",
    "and thus has only the trivial solution $x_1 = x_2 = 0$\n",
    "\n",
    "Also, we have that $x_2 = \\frac{1}{4}$ and if we substitute it back to $x_1+3x_2=0$ we get $x_1=-\\frac{3}{4}$ and doing\n",
    "$2(-\\frac{3}{4})+\\frac{1}{4}=2$ is a false statement."
   ]
  },
  {
   "cell_type": "markdown",
   "metadata": {
    "deletable": false,
    "editable": false,
    "nbgrader": {
     "cell_type": "markdown",
     "checksum": "17ff1e94ffc3803fe3856995b1b80c71",
     "grade": false,
     "grade_id": "cell4384914739699754",
     "locked": true,
     "schema_version": 3,
     "solution": false
    }
   },
   "source": [
    "## Question 2 -- a simple python function"
   ]
  },
  {
   "cell_type": "markdown",
   "metadata": {
    "deletable": false,
    "editable": false,
    "nbgrader": {
     "cell_type": "markdown",
     "checksum": "b1014fc20fac505bf86733dd30aa7857",
     "grade": false,
     "grade_id": "cell1244223495354736",
     "locked": true,
     "schema_version": 3,
     "solution": false
    }
   },
   "source": [
    "**(a)** (10) Write a function that computes\n",
    "$$\n",
    "    \\sum^\\infty_{n=1} \\frac{a^n}{b^{n-1}}\n",
    "$$\n",
    "until the difference between subsequent partial sums is less than the given tolerance $T$.  Return the computed sum.  Make sure to include a way for the function to exit if the partial sums do not satisfy the above criteria (the sum may not be convergent for instance)."
   ]
  },
  {
   "cell_type": "code",
   "execution_count": 3,
   "metadata": {
    "deletable": false,
    "nbgrader": {
     "cell_type": "code",
     "checksum": "20ae2dcfdc7388f9ee886485609f51fb",
     "grade": false,
     "grade_id": "cell3621925556728684",
     "locked": false,
     "schema_version": 3,
     "solution": true
    }
   },
   "outputs": [],
   "source": [
    "def compute_sum(a, b, tolerance=1e-5):\n",
    "    \"\"\"Compute the sum $\\sum^\\infty_{n=1} a^n / b^{n-1} until the partial sums are less than *tolerance*.\n",
    "    \n",
    "    Returns the computed sum and raises a *ValueError* if the sum appears to be diverging.\n",
    "    \"\"\"\n",
    "    \n",
    "    n=1\n",
    "    computed_sum = 0\n",
    "    previous_sum = 0\n",
    "    diff = 1e5\n",
    "    \n",
    "    if abs(a)>abs(b):\n",
    "        raise ValueError(\"Series Diverges\")\n",
    "        \n",
    "    while abs(diff) >= tolerance: \n",
    "        previous_sum = computed_sum\n",
    "        computed_sum += (a**n) / (b**(n-1))\n",
    "        diff = computed_sum - previous_sum\n",
    "        n=n+1\n",
    "      \n",
    "    return computed_sum"
   ]
  },
  {
   "cell_type": "code",
   "execution_count": 4,
   "metadata": {
    "deletable": false,
    "editable": false,
    "nbgrader": {
     "cell_type": "code",
     "checksum": "9cdfbbb5ffc21daf532fe139133be6af",
     "grade": true,
     "grade_id": "cell5655123106444739",
     "locked": true,
     "points": 10,
     "schema_version": 3,
     "solution": false
    }
   },
   "outputs": [],
   "source": [
    "numpy.testing.assert_allclose(compute_sum(-2.0, 3.0, 1e-16), -1.2)\n",
    "numpy.testing.assert_allclose(compute_sum(1.0, 2.0, 1e-16), 2.0)\n",
    "try:\n",
    "    compute_sum(2.0, 1.0, 1e-16)\n",
    "except ValueError:\n",
    "    pass\n",
    "else:\n",
    "    assert False"
   ]
  },
  {
   "cell_type": "markdown",
   "metadata": {
    "deletable": false,
    "editable": false,
    "nbgrader": {
     "cell_type": "markdown",
     "checksum": "9b49fec14ea4e31b34245749c919fe9d",
     "grade": false,
     "grade_id": "cell6074787325159711",
     "locked": true,
     "schema_version": 3,
     "solution": false
    }
   },
   "source": [
    "**(b)** (5) Explore different tolerances for your function above for $a=-2$ and $b=3$.  Plot the value of the tolerance\n",
    "$$\n",
    "    \\left| ~ \\sum^\\infty_{n=1} \\frac{a^n}{b^{n-1}} - (-1.2) ~\\right |\n",
    "$$\n",
    "versus the difference.  The plotting command `loglog` may be useful to effectively visualize the problem.  What do you observe?\n",
    "\n",
    "Hint:  Try using tolerances in the range $T \\in [10^{-30}, 10^{-2}]$.  Use the functions `logspace` to generate well spaced points and `loglog` to plot the data."
   ]
  },
  {
   "cell_type": "code",
   "execution_count": 5,
   "metadata": {
    "deletable": false,
    "nbgrader": {
     "cell_type": "code",
     "checksum": "7bf34706375e686c04187e6c7ca7b8e3",
     "grade": true,
     "grade_id": "cell5235988218415515",
     "locked": false,
     "points": 4,
     "schema_version": 3,
     "solution": true
    }
   },
   "outputs": [
    {
     "data": {
      "text/plain": [
       "[<matplotlib.lines.Line2D at 0x7f9c80633470>]"
      ]
     },
     "execution_count": 5,
     "metadata": {},
     "output_type": "execute_result"
    },
    {
     "data": {
      "image/png": "[encoded data removed]",
      "text/plain": [
       "<Figure size 432x288 with 1 Axes>"
      ]
     },
     "metadata": {
      "needs_background": "light"
     },
     "output_type": "display_data"
    }
   ],
   "source": [
    "# YOUR CODE HERE\n",
    "\n",
    "lst = []\n",
    "tol2 = numpy.logspace(-30, -2,100)\n",
    "for i in tol2:\n",
    "    tolerance2 = numpy.abs(compute_sum(-2,3,tolerance=i) - (-1.2))\n",
    "    lst.append(tolerance2)\n",
    "\n",
    "plt.title(\"Tolerance vs Difference Plot\")\n",
    "plt.xlabel(\"Tolerance\")\n",
    "plt.ylabel(\"Difference\")\n",
    "plt.grid()\n",
    "plt.loglog(tol2,lst,'red')"
   ]
  },
  {
   "cell_type": "markdown",
   "metadata": {
    "deletable": false,
    "nbgrader": {
     "cell_type": "markdown",
     "checksum": "20cd990f272495dc908b1210c6e7e0c0",
     "grade": true,
     "grade_id": "cell9513987934167870",
     "locked": false,
     "points": 1,
     "schema_version": 3,
     "solution": true
    }
   },
   "source": [
    "aosfjadspfj"
   ]
  },
  {
   "cell_type": "markdown",
   "metadata": {
    "deletable": false,
    "editable": false,
    "nbgrader": {
     "cell_type": "markdown",
     "checksum": "3e85921a321fc81df2ab4b835e92f357",
     "grade": false,
     "grade_id": "cell4028669518644633",
     "locked": true,
     "schema_version": 3,
     "solution": false
    }
   },
   "source": [
    "## Question 3 - Taylor Series"
   ]
  },
  {
   "cell_type": "markdown",
   "metadata": {
    "deletable": false,
    "editable": false,
    "nbgrader": {
     "cell_type": "markdown",
     "checksum": "cd401fe02f2208894336118eeba221eb",
     "grade": false,
     "grade_id": "cell8219538542602342",
     "locked": true,
     "schema_version": 3,
     "solution": false
    }
   },
   "source": [
    "(7) Compute the first 3 terms of the Taylor series of the function\n",
    "$$\n",
    "    f(x) = e^{-x^2} \\sin( x - \\pi)\n",
    "$$\n",
    "centered at $x_0 = \\pi$."
   ]
  },
  {
   "cell_type": "markdown",
   "metadata": {
    "deletable": false,
    "nbgrader": {
     "cell_type": "markdown",
     "checksum": "584c9440793a332c83dbe65cd02c80d7",
     "grade": true,
     "grade_id": "cell5045118735142062",
     "locked": false,
     "points": 7,
     "schema_version": 3,
     "solution": true
    }
   },
   "source": [
    "### Solution:\n",
    "\n",
    "The first three terms of a Taylor series centered at $x_0=a$ is:\n",
    "\n",
    "$$\n",
    "f(x)=\\displaystyle\\sum_{n=0}^{2} \\frac{f^{(n)}(a)}{n!}(x-a)^n\n",
    "$$\n",
    "$$\n",
    "=f(a)+f'(a)(x-a)+\\frac{f''(a)}{2!}(x-a)^2\n",
    "$$\n",
    "\n",
    "For our function and it being centered about $x_0=\\pi$:\n",
    "\n",
    "$$\n",
    "f(x)=f(\\pi) + f'(\\pi)(x-\\pi)+\\frac{f''(\\pi)}{2!}(x-\\pi)^2\n",
    "$$\n",
    "\n",
    "Computing the 1st and 2nd derivatives of $f(x)$ yields:\n",
    "\n",
    "$$\n",
    "f'(x)=-e^{-x^2}(cos(x)-2xsin(x)\n",
    "$$\n",
    "$$\n",
    "f''(x)=e^{-x^2}[(3-4x^2)sin(x)+4xcos(x)]\n",
    "$$\n",
    "\n",
    "Evaluating our $f(x)$, 1st, and 2nd derivatives at $x=\\pi$\n",
    "\n",
    "$$\n",
    "f(\\pi)=0\n",
    "$$\n",
    "$$\n",
    "f'(\\pi)=e^{-\\pi^2}\n",
    "$$\n",
    "$$\n",
    "f''(\\pi)=-4e^{-\\pi^2}\\pi\n",
    "$$\n",
    "\n",
    "Putting it together:\n",
    "\n",
    "$$\n",
    "f(x)=0+e^{-\\pi^2}(x-\\pi)-\\frac{4e^{-\\pi^2}\\pi}{2}(x-\\pi)^2\n",
    "$$\n",
    "\n",
    "Cleaning up:\n",
    "\n",
    "$$\n",
    "f(x)=e^{-\\pi^2}(x-\\pi)-2e^{-\\pi^2}\\pi(x-\\pi)^2\n",
    "$$"
   ]
  },
  {
   "cell_type": "markdown",
   "metadata": {
    "deletable": false,
    "editable": false,
    "nbgrader": {
     "cell_type": "markdown",
     "checksum": "22723c187775d8904032761e1d3a8c0f",
     "grade": false,
     "grade_id": "cell4028669518647563",
     "locked": true,
     "schema_version": 3,
     "solution": false
    }
   },
   "source": [
    "## Question 4 - Basic ODE's"
   ]
  },
  {
   "cell_type": "markdown",
   "metadata": {
    "deletable": false,
    "editable": false,
    "nbgrader": {
     "cell_type": "markdown",
     "checksum": "ce2bb620bb0ad12ef67816462648f710",
     "grade": false,
     "grade_id": "cell7388927421453205",
     "locked": true,
     "schema_version": 3,
     "solution": false
    }
   },
   "source": [
    "(8) Solve the ODE (by hand)\n",
    "$$\n",
    "    u'' + u' + \\frac{5}{4} u = 0\n",
    "$$\n",
    "with initial conditions $u(0) = 3$ and $u'(0) = 1$.  Comment on its behavior as $t \\rightarrow \\infty$."
   ]
  },
  {
   "cell_type": "markdown",
   "metadata": {
    "deletable": false,
    "nbgrader": {
     "cell_type": "markdown",
     "checksum": "67ee6d23eaf50a4d0631f602af13612d",
     "grade": true,
     "grade_id": "cell8510568627368116",
     "locked": false,
     "points": 6,
     "schema_version": 3,
     "solution": true
    }
   },
   "source": [
    "### Solution:\n",
    "\n",
    "Since this is a second-order linear differential equation, and it's homogeneous - we can write down its corresponding auxiliary polynomial:\n",
    "\n",
    "$$\n",
    "m^2+m+\\frac{5}{4}m = 0\n",
    "$$\n",
    "\n",
    "Solving using the quadratic formula, we get the nonreal solution:\n",
    "\n",
    "$$\n",
    "m=-\\frac{1}{2} \\pm i\n",
    "$$\n",
    "\n",
    "Since both roots are not real, the corresponding general solution to this equation is:\n",
    "\n",
    "$$\n",
    "u(t)=e^{-\\frac{1}{2}t}(c_1sin(t)+c_2cos(t))\n",
    "$$\n",
    "\n",
    "With our boundary value $u(0)=3$ we get $c_2=3$:\n",
    "\n",
    "$$\n",
    "u(t)=3e^{-\\frac{1}{2}t}cos(t)+c_1e^{-\\frac{1}{2}t}sin(t)\n",
    "$$\n",
    "\n",
    "Taking the derivative with respect to $x$ gives us:\n",
    "\n",
    "$$\n",
    "u'(t)=-\\frac{1}{2}e^{-\\frac{1}{2}t}[c_1(sin(t)-2cos(t))+3(2sin(t)+cos(t))]\n",
    "$$\n",
    "\n",
    "With our boundary value $u'(0)=1$ we get $c_1=\\frac{5}{2}$ we gives us our solution:\n",
    "\n",
    "$$\n",
    "u(t)=e^{-\\frac{1}{2}t}(\\frac{5}{2}sin(t)+3cost)\n",
    "$$\n",
    "\n",
    "As $t \\rightarrow \\infty$, $u(t)$ approaches $0$."
   ]
  },
  {
   "cell_type": "markdown",
   "metadata": {
    "deletable": false,
    "editable": false,
    "nbgrader": {
     "cell_type": "markdown",
     "checksum": "e663752a161361fc627e39b35f0a2bd5",
     "grade": false,
     "grade_id": "cell-1b99ca0e971047fb",
     "locked": true,
     "schema_version": 3,
     "solution": false,
     "task": false
    }
   },
   "source": [
    "Plot the solution $u(t)$"
   ]
  },
  {
   "cell_type": "code",
   "execution_count": 6,
   "metadata": {
    "deletable": false,
    "nbgrader": {
     "cell_type": "code",
     "checksum": "c902aa23f1da8b332819e93ae85008a7",
     "grade": true,
     "grade_id": "cell9191289374012808",
     "locked": false,
     "points": 2,
     "schema_version": 3,
     "solution": true
    }
   },
   "outputs": [
    {
     "data": {
      "image/png": "[encoded data removed]",
      "text/plain": [
       "<Figure size 432x288 with 1 Axes>"
      ]
     },
     "metadata": {
      "needs_background": "light"
     },
     "output_type": "display_data"
    }
   ],
   "source": [
    "plt.title(\"Plot of u(t)\")\n",
    "plt.xlabel(\"t\", fontsize=15)\n",
    "plt.ylabel(\"u(t)\", fontsize=15)\n",
    "x = numpy.arange(-20, 5, 0.1)\n",
    "y = numpy.exp(-0.5*x)*(2.5*numpy.sin(x)+3*numpy.cos(x))\n",
    "plt.plot(x,y)\n",
    "plt.grid()\n",
    "plt.show()"
   ]
  },
  {
   "cell_type": "markdown",
   "metadata": {
    "deletable": false,
    "editable": false,
    "nbgrader": {
     "cell_type": "markdown",
     "checksum": "521ec6f40b3c9e3f90dddf9b3a6d0299",
     "grade": false,
     "grade_id": "cell3807292108265957",
     "locked": true,
     "schema_version": 3,
     "solution": false
    }
   },
   "source": [
    "## Question 5 - using matplotlib\n",
    "\n",
    "(5) Plot something \"fun\" making sure to label the axes and colorbar if appropriate.  Use the [matplotlib gallery](http://matplotlib.org/gallery.html) for inspiration."
   ]
  },
  {
   "cell_type": "code",
   "execution_count": 7,
   "metadata": {
    "deletable": false,
    "nbgrader": {
     "cell_type": "code",
     "checksum": "704de1896d27c6af92c761d1ece041e8",
     "grade": true,
     "grade_id": "cell2439477339694822",
     "locked": false,
     "points": 5,
     "schema_version": 3,
     "solution": true
    }
   },
   "outputs": [
    {
     "data": {
      "image/png": "[encoded data removed]",
      "text/plain": [
       "<Figure size 432x288 with 1 Axes>"
      ]
     },
     "metadata": {
      "needs_background": "light"
     },
     "output_type": "display_data"
    }
   ],
   "source": [
    "#Wanted to make a 3d plot of an object\n",
    "from mpl_toolkits import mplot3d\n",
    "\n",
    "x = numpy.linspace(-7,7,30)\n",
    "y = numpy.linspace(-7,7,30)\n",
    "X,Y = numpy.meshgrid(x,y)\n",
    "Z = 1-abs(X+Y)-abs(Y-X)\n",
    "\n",
    "fig = plt.figure()\n",
    "ax = plt.axes(projection='3d')\n",
    "ax.contour3D(X, Y, Z, 100, cmap=\"gist_heat\")\n",
    "ax.set_xlabel('x')\n",
    "ax.set_ylabel('y')\n",
    "ax.set_zlabel('z')\n",
    "ax.set_title(\"It's a Lava Pyramid, kinda cool, no?\")\n",
    "plt.show()"
   ]
  },
  {
   "cell_type": "markdown",
   "metadata": {
    "deletable": false,
    "editable": false,
    "nbgrader": {
     "cell_type": "markdown",
     "checksum": "daa4b0633461223033e43917361d37f5",
     "grade": false,
     "grade_id": "cell-ade3b6426b1ed3ab",
     "locked": true,
     "schema_version": 3,
     "solution": false
    }
   },
   "source": [
    "## Question 6 - The Trouble with Tribbles\n",
    "\n",
    "**The Problem**\n",
    "The number of tribbles (furry animals from Star Trek) is modeled by Spock to be exponential.  Spock predicts that in a 3 day period that the tribbles will go from an initial population number of $N_0 = 1$ to $N(3) = 1,771,561$ tribbles.  The assumptions that Spock made are the following:\n",
    " - The tribbles reproduce every 12 hours.\n",
    " - Tribbles reproduce asexually so that 1 tribble will produce 10 more tribbles leading to a total of 11 tribbles.\n",
    "\n",
    "**(a)** (2) Write a function that confirms Spock's estimate"
   ]
  },
  {
   "cell_type": "code",
   "execution_count": 8,
   "metadata": {
    "deletable": false,
    "nbgrader": {
     "cell_type": "code",
     "checksum": "250009673351f7b4fa6f3f48f0a1cd92",
     "grade": false,
     "grade_id": "cell-ced77d94995c3603",
     "locked": false,
     "schema_version": 3,
     "solution": true,
     "task": false
    }
   },
   "outputs": [],
   "source": [
    "def N(t):\n",
    "    \"\"\" return the number of tribbles at time t (in days) given that 1 tribble will reproduce \n",
    "        asexually every 12 hours to produce 10 more tribbles.  N can be a real number\n",
    "    \"\"\"\n",
    "# YOUR CODE HERE\n",
    "    population = numpy.exp(numpy.log(121)*t)\n",
    "    return int(population)"
   ]
  },
  {
   "cell_type": "code",
   "execution_count": 9,
   "metadata": {
    "deletable": false,
    "editable": false,
    "nbgrader": {
     "cell_type": "code",
     "checksum": "e7eda9b8f5be58396fba8a84f8c265ad",
     "grade": true,
     "grade_id": "cell-65deef82d8b7ce70",
     "locked": true,
     "points": 2,
     "schema_version": 3,
     "solution": false,
     "task": false
    }
   },
   "outputs": [],
   "source": [
    "assert(N(3) == 1771561)"
   ]
  },
  {
   "cell_type": "markdown",
   "metadata": {
    "deletable": false,
    "editable": false,
    "nbgrader": {
     "cell_type": "markdown",
     "checksum": "e5472c893d2dab0a969c1a7d1f47cb36",
     "grade": false,
     "grade_id": "cell-96c90a8b85fc8d48",
     "locked": true,
     "schema_version": 3,
     "solution": false,
     "task": false
    }
   },
   "source": [
    "**(b)** (3) Make a plot of N(t) for t=3 days (assuming it is a continous function), using the appropriate plot types making sure to adding labels, units, and titles.  Also refer to the [matplotlib gallery](http://matplotlib.org/gallery.html) to figure out how to plot some of what is asked."
   ]
  },
  {
   "cell_type": "code",
   "execution_count": 10,
   "metadata": {
    "deletable": false,
    "nbgrader": {
     "cell_type": "code",
     "checksum": "76ec33761ac54a988e1ce8908aa620de",
     "grade": true,
     "grade_id": "cell-ced77d94995c3605",
     "locked": false,
     "points": 4,
     "schema_version": 3,
     "solution": true
    }
   },
   "outputs": [
    {
     "data": {
      "image/png": "[encoded data removed]",
      "text/plain": [
       "<Figure size 432x288 with 1 Axes>"
      ]
     },
     "metadata": {
      "needs_background": "light"
     },
     "output_type": "display_data"
    }
   ],
   "source": [
    "# YOUR CODE HERE\n",
    "plt.title(\"Growth of Tribbles\")\n",
    "plt.xlabel(\"Time(in days)\")\n",
    "plt.ylabel(\"Population of Tribbles\")\n",
    "x = numpy.arange(0,3,0.1)\n",
    "y = numpy.exp(numpy.log(121)*x)\n",
    "plt.plot(x,y)\n",
    "plt.grid()\n",
    "plt.show()"
   ]
  },
  {
   "cell_type": "markdown",
   "metadata": {
    "deletable": false,
    "editable": false,
    "nbgrader": {
     "cell_type": "markdown",
     "checksum": "920883a9b3fbf121fd6f04e92e1bf8a5",
     "grade": false,
     "grade_id": "cell-7564389d26c906c0",
     "locked": true,
     "schema_version": 3,
     "solution": false
    }
   },
   "source": [
    "**(c)** [5] Assuming that tribbles cannot stack themselves on top of each other perfectly we also would like to model and plot the spread of tribbles throughout our space ship.  Assume our space ship is a square use the following function to plot the population on our space ship of tribbles:\n",
    "$$\n",
    "    N(x, y) = N_0 e^{-r^2/\\sigma^2}\n",
    "$$\n",
    "where $N_0 = 1000$, $\\sigma = 0.1$ and $r$ is the distance from the middle of our space ship."
   ]
  },
  {
   "cell_type": "code",
   "execution_count": 12,
   "metadata": {
    "deletable": false,
    "nbgrader": {
     "cell_type": "code",
     "checksum": "fb6e8455cfcb141a659058fd1efd1ce5",
     "grade": true,
     "grade_id": "cell-57fc8ae3b01fafa8",
     "locked": false,
     "points": 5,
     "schema_version": 3,
     "solution": true
    }
   },
   "outputs": [
    {
     "data": {
      "image/png": "[encoded data removed]",
      "text/plain": [
       "<Figure size 432x288 with 2 Axes>"
      ]
     },
     "metadata": {
      "needs_background": "light"
     },
     "output_type": "display_data"
    }
   ],
   "source": [
    "# YOUR CODE HERE\n",
    "x = numpy.linspace(-0.015, 0.015, 100)\n",
    "y = numpy.linspace(-0.015, 0.015, 100)\n",
    "X, Y = numpy.meshgrid(x, y)\n",
    "r = numpy.sqrt(X**2 + Y**2)\n",
    "Z = 1000*numpy.exp(-10000*r**2)\n",
    "fig,ax=plt.subplots(1,1)\n",
    "cp = ax.contourf(x ,y, Z)\n",
    "fig.colorbar(cp) \n",
    "ax.set_title('Population of Tribbles on Space Ship')\n",
    "ax.set_xlabel('x (distance)')\n",
    "ax.set_ylabel('y (distance)')\n",
    "plt.show()"
   ]
  },
  {
   "cell_type": "code",
   "execution_count": null,
   "metadata": {},
   "outputs": [],
   "source": []
  }
 ],
 "metadata": {
  "kernelspec": {
   "display_name": "Python 3",
   "language": "python",
   "name": "python3"
  },
  "language_info": {
   "codemirror_mode": {
    "name": "ipython",
    "version": 3
   },
   "file_extension": ".py",
   "mimetype": "text/x-python",
   "name": "python",
   "nbconvert_exporter": "python",
   "pygments_lexer": "ipython3",
   "version": "3.7.3"
  }
 },
 "nbformat": 4,
 "nbformat_minor": 4
}
