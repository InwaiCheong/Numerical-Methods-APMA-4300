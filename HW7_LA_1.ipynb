{
 "cells": [
  {
   "cell_type": "markdown",
   "metadata": {},
   "source": [
    "Before you turn this problem in, make sure everything runs as expected. First, **restart the kernel** (in the menubar, select Kernel$\\rightarrow$Restart) and then **run all cells** (in the menubar, select Cell$\\rightarrow$Run All).\n",
    "\n",
    "Make sure you fill in any place that says `YOUR CODE HERE` or \"YOUR ANSWER HERE\", as well as your name and collaborators below:"
   ]
  },
  {
   "cell_type": "code",
   "execution_count": 1,
   "metadata": {},
   "outputs": [],
   "source": [
    "NAME = \"In Wai Cheong\"\n",
    "COLLABORATORS = \"\""
   ]
  },
  {
   "cell_type": "markdown",
   "metadata": {},
   "source": [
    "---"
   ]
  },
  {
   "cell_type": "code",
   "execution_count": 2,
   "metadata": {},
   "outputs": [],
   "source": [
    "%matplotlib inline\n",
    "%precision 16\n",
    "import numpy\n",
    "import matplotlib.pyplot as plt"
   ]
  },
  {
   "cell_type": "markdown",
   "metadata": {
    "deletable": false,
    "editable": false,
    "nbgrader": {
     "cell_type": "markdown",
     "checksum": "a02e599ac5bf36bdec5824bb4aa4d583",
     "grade": false,
     "grade_id": "cell-9835802012891980",
     "locked": true,
     "schema_version": 3,
     "solution": false
    }
   },
   "source": [
    "# HW 7:  Linear Algebra Part 1"
   ]
  },
  {
   "cell_type": "markdown",
   "metadata": {
    "deletable": false,
    "editable": false,
    "nbgrader": {
     "cell_type": "markdown",
     "checksum": "55be0951f03cd1a9ecc949170f3c1c38",
     "grade": false,
     "grade_id": "cell-2547725044238982",
     "locked": true,
     "schema_version": 3,
     "solution": false
    }
   },
   "source": [
    "# Question 1: Equivalence of Norms\n",
    "\n",
    "Vector and matrix $p$-norms are related by various inequalities, often involving the dimensions $m$ or $n$.  For each of the following, verify the inequality and give an example of a nonzero vector or matrix (for general $m$ and $n$) for which equality is achieved.  In this problem $x \\in \\mathbb R^m$ and $A \\in \\mathbb R^{m \\times n}$."
   ]
  },
  {
   "cell_type": "markdown",
   "metadata": {
    "deletable": false,
    "editable": false,
    "nbgrader": {
     "cell_type": "markdown",
     "checksum": "fc0b419dca83dc69a1e07b857eff6a7f",
     "grade": false,
     "grade_id": "cell-9607628417038002",
     "locked": true,
     "schema_version": 3,
     "solution": false
    }
   },
   "source": [
    "**(a)** [4] Show that $$||x||_\\infty \\leq ||x||_2$$"
   ]
  },
  {
   "cell_type": "markdown",
   "metadata": {
    "deletable": false,
    "nbgrader": {
     "cell_type": "markdown",
     "checksum": "39998a8024492fad53a7a3cb10226070",
     "grade": true,
     "grade_id": "cell-8937571176163187",
     "locked": false,
     "points": 4,
     "schema_version": 3,
     "solution": true
    }
   },
   "source": [
    "## Solution\n",
    "\n",
    "We have that:\n",
    "\n",
    "$$\n",
    "||x||_2 = \\sqrt{\\sum x_i^2} = \\sqrt{\\sum |x_i|^2}\n",
    "$$\n",
    "\n",
    "And then:\n",
    "|\n",
    "$$\n",
    "||x||_\\infty^2 \\leq \\sum |x_i|^2 = ||x||_2^2 \\rightarrow ||x||_\\infty \\leq ||x||_2\n",
    "$$"
   ]
  },
  {
   "cell_type": "markdown",
   "metadata": {
    "deletable": false,
    "editable": false,
    "nbgrader": {
     "cell_type": "markdown",
     "checksum": "f1b864b0b0832a896ca51deaeac13e4d",
     "grade": false,
     "grade_id": "cell-2002170592528526",
     "locked": true,
     "schema_version": 3,
     "solution": false
    }
   },
   "source": [
    "**(b)** [4]  Show that $$||x||_2 \\leq \\sqrt{m} ||x||_\\infty$$"
   ]
  },
  {
   "cell_type": "markdown",
   "metadata": {
    "deletable": false,
    "nbgrader": {
     "cell_type": "markdown",
     "checksum": "35d698d73782884544e7080e0a1ce4d7",
     "grade": true,
     "grade_id": "cell-4148153085479812",
     "locked": false,
     "points": 0,
     "schema_version": 3,
     "solution": true
    }
   },
   "source": [
    "## Solution\n",
    "\n",
    "$$\n",
    "\\lVert x\\rVert_2^2 = \\sum_{i=1}^m x_i^2 \\leq m\\cdot\\max_{1\\leq i\\leq m} x_i^2 = m(\\max_{1\\leq i\\leq m} |x_i|)^2 = m\\lVert x\\rVert_\\infty^2\n",
    "$$"
   ]
  },
  {
   "cell_type": "markdown",
   "metadata": {
    "deletable": false,
    "editable": false,
    "nbgrader": {
     "cell_type": "markdown",
     "checksum": "5e4f6d79eddd088969c0f4e23a9e5b3a",
     "grade": false,
     "grade_id": "cell-6598490843203235",
     "locked": true,
     "schema_version": 3,
     "solution": false
    }
   },
   "source": [
    "**(c)** [4] show that  $$||A||_\\infty \\leq \\sqrt{n} ||A||_2$$"
   ]
  },
  {
   "cell_type": "markdown",
   "metadata": {
    "deletable": false,
    "nbgrader": {
     "cell_type": "markdown",
     "checksum": "d4514a117339bb8dba73880c1a0caa57",
     "grade": true,
     "grade_id": "cell-1633413371107518",
     "locked": false,
     "points": 4,
     "schema_version": 3,
     "solution": true
    }
   },
   "source": [
    "## Solution\n",
    "\n",
    "Define $e$ to be a column matrix consisting of entries of $1$, then:\n",
    "\n",
    "$$\n",
    "||A||_\\infty = \\max_{i} \\sum_{j=1}^N|a_{ij}| = ||Ae||_\\infty \\leq ||Ae||_2 \\leq ||A||_2||e||_2 = \\sqrt{n}||A||_2\n",
    "$$"
   ]
  },
  {
   "cell_type": "markdown",
   "metadata": {
    "deletable": false,
    "editable": false,
    "nbgrader": {
     "cell_type": "markdown",
     "checksum": "82fc403830b349d05c5788ef78438275",
     "grade": false,
     "grade_id": "cell-648130861214048",
     "locked": true,
     "schema_version": 3,
     "solution": false
    }
   },
   "source": [
    "#### **(d)** [4] Show that $$||A||_2 \\leq \\sqrt{m} ||A||_\\infty$$"
   ]
  },
  {
   "cell_type": "markdown",
   "metadata": {
    "deletable": false,
    "nbgrader": {
     "cell_type": "markdown",
     "checksum": "91b65f4d70637fb2df2de1f77fc3d542",
     "grade": true,
     "grade_id": "cell-7876717400263917",
     "locked": false,
     "points": 4,
     "schema_version": 3,
     "solution": true
    }
   },
   "source": [
    "## Solution\n",
    "\n",
    "We established that:\n",
    "\n",
    "$$||A||_\\infty \\leq \\sqrt{n} ||A||_2$$\n",
    "\n",
    "Then:\n",
    "\n",
    "$$\n",
    "\\frac{1}{\\sqrt{n}}||A||_\\infty \\leq ||A||_2  \\leq \\sqrt{M}||A||_\\infty\n",
    "$$\n"
   ]
  },
  {
   "cell_type": "markdown",
   "metadata": {
    "deletable": false,
    "editable": false,
    "nbgrader": {
     "cell_type": "markdown",
     "checksum": "7b9cd279a0895bbe8358102159528352",
     "grade": false,
     "grade_id": "cell-e8858bd22d08d607",
     "locked": true,
     "schema_version": 3,
     "solution": false,
     "task": false
    }
   },
   "source": [
    "## Question 2: Matrix Norms and Condition Numbers\n",
    "\n",
    "Consider the Matrices\n",
    "\n",
    "$$\n",
    "    A = \\begin{bmatrix} 1 & 1 \\\\\n",
    "                        1 & a \\\\\n",
    "         \\end{bmatrix} \\quad\\quad\n",
    "     A^{-1} = \\frac{1}{a-1}\\begin{bmatrix} a & -1 \\\\\n",
    "                        -1 & 1 \\\\\n",
    "         \\end{bmatrix} \n",
    "$$\n",
    "where $a\\in\\mathbb{R}$"
   ]
  },
  {
   "cell_type": "markdown",
   "metadata": {
    "deletable": false,
    "editable": false,
    "nbgrader": {
     "cell_type": "markdown",
     "checksum": "e0c365b3acd1a8a4cfbac6bb1ad62ebd",
     "grade": false,
     "grade_id": "cell-cdb7e5b9fa715357",
     "locked": true,
     "schema_version": 3,
     "solution": false,
     "task": false
    }
   },
   "source": [
    "**(a)** [6] Analytically calculate, as a function of $a$\n",
    "\n",
    "* the induced $p$-norm $||A||_p$ \n",
    "* the $p$ condition number $\\kappa_p(A) =||A||_p||A^{-1}||_p$ \n",
    "\n",
    "consider  $p=1,2,\\infty$\n",
    "\n",
    "(hint: for a symmetric matrix, the singular values are equal to the absolute value of the eigenvalues of $A$ (sorted from largest to smallest))"
   ]
  },
  {
   "cell_type": "markdown",
   "metadata": {
    "deletable": false,
    "nbgrader": {
     "cell_type": "markdown",
     "checksum": "7e75ab9524da90ca651225d9cd30d7d7",
     "grade": true,
     "grade_id": "cell-7eaecd05d41b143b",
     "locked": false,
     "points": 6,
     "schema_version": 3,
     "solution": true,
     "task": false
    }
   },
   "source": [
    "## Solution\n",
    "\n",
    "If we want to compute the $1$-norm or $\\infty$-norm of $A$, it would just be $\\fbox{$\\max(2,1+|a|)$}$.\n",
    "\n",
    "If we want to compute the $2$-norm of $A$, we first find the eigenvalues, which are:\n",
    "\n",
    "$$\n",
    "\\lambda_1 = \\frac{1}{2} (-\\sqrt{a^2 - 2 a + 5} + a + 1) \\\\\n",
    "\\lambda_2 = \\frac{1}{2} (\\sqrt{a^2 - 2 a + 5} + a + 1) \n",
    "$$\n",
    "\n",
    "Then the $2$-norm will just be $\\fbox{$||A||_2=\\max(|\\lambda_1|,|\\lambda_2)$|}$\n",
    "\n",
    "The eigenvalues of $A^-1$ are:\n",
    "\n",
    "$$\n",
    "\\lambda_3 = \\frac{\\sqrt{a^2-2a+5}+a+1}{2(a-1)} \\\\\n",
    "\\lambda_4 = \\frac{-\\sqrt{a^2-2a+5}+a+1}{2(a-1)}\n",
    "$$\n",
    "\n",
    "If we want $\\kappa_1(A)$, or $\\kappa_\\infty(A)$, then we will just do $\\fbox{$\\max(|\\frac{a}{a-1}|+\\frac{1}{|a-1|}, \\frac{1}{|a-1|}+|\\frac{1}{a-1}|)$}$\n",
    "\n",
    "If we want $\\kappa_2(A)$, then we will just do:\n",
    "\n",
    "\n",
    "$\\fbox{$\\kappa_2(A) = \\max(|\\lambda_1|,|\\lambda_2|)\\cdot \\max(|\\lambda_3|,|\\lambda_4|)$}$\n"
   ]
  },
  {
   "cell_type": "markdown",
   "metadata": {
    "deletable": false,
    "editable": false,
    "nbgrader": {
     "cell_type": "markdown",
     "checksum": "2f7731790b2a6fa90fcdfbf009169e4c",
     "grade": false,
     "grade_id": "cell-6c4596980f34ee40",
     "locked": true,
     "schema_version": 3,
     "solution": false,
     "task": false
    }
   },
   "source": [
    "**(b)** [6] write two short python routine that returns $||A||_p$, and $\\kappa_p(A)$ for the matrices in part (a). Again, just consider $p=1,2,\\infty$) and raise a ValueError if $p$ is any other value."
   ]
  },
  {
   "cell_type": "code",
   "execution_count": 3,
   "metadata": {
    "deletable": false,
    "nbgrader": {
     "cell_type": "code",
     "checksum": "7b9f88a09810c09d9994c2b156850694",
     "grade": false,
     "grade_id": "cell-6349c221a6e7cad5",
     "locked": false,
     "schema_version": 3,
     "solution": true,
     "task": false
    }
   },
   "outputs": [],
   "source": [
    "def mypnorm(a, p ):\n",
    "    \"\"\"\n",
    "    return ||A||_p for A = [[ 1, 1],\n",
    "                            [ 1, a]]\n",
    "                            \n",
    "    for p=1, 2, or numpy.infty\n",
    "    \n",
    "    parameters:\n",
    "    -----------\n",
    "    \n",
    "    a: scalar \n",
    "        value of a\n",
    "    p: scalar\n",
    "        1, 2 or np.infty\n",
    "    returns:\n",
    "    --------\n",
    "    pnorm(a)\n",
    "    \n",
    "    raises:\n",
    "    --------\n",
    "    ValueError:  if p is not in [ 1, 2, numpy.infty]\n",
    "    \"\"\"\n",
    "    # YOUR CODE HERE\n",
    "    \n",
    "    eigenA1 = numpy.abs(0.5*(numpy.sqrt(a**2-2*a+5)+a+1))\n",
    "    eigenA2 = numpy.abs(0.5*(-numpy.sqrt(a**2-2*a+5)+a+1))\n",
    "        \n",
    "    if p not in [1,2,numpy.infty]:\n",
    "        raise ValueError()\n",
    "    elif p==1 or p==numpy.infty:\n",
    "        return numpy.max([2,1+abs(a)])\n",
    "    elif p==2:\n",
    "        return numpy.max([eigenA1,eigenA2])\n",
    "\n",
    "        \n",
    "           \n",
    "    \n",
    "def mycond(a, p):\n",
    "    \"\"\"\n",
    "    eigen3 and eigen4 are the eigenvalues of the inverse of A\n",
    "    \"\"\"\n",
    "    # YOUR CODE HERE\n",
    "    eigenA1 = numpy.abs(0.5*(numpy.sqrt(a**2-2*a+5)+a+1))\n",
    "    eigenA2 = numpy.abs(0.5*(-numpy.sqrt(a**2-2*a+5)+a+1))\n",
    "    eigenA3 = numpy.abs((numpy.sqrt(a**2-2*a+5)+a+1) / (2*(a-1)))\n",
    "    eigenA4 = numpy.abs((-numpy.sqrt(a**2-2*a+5)+a+1) / (2*(a-1)))\n",
    "    \n",
    "    a1 = abs(a/(a-1))\n",
    "    a2 = 1/abs(a-1)\n",
    "    a3 = abs(1/(a-1))\n",
    "    \n",
    "   \n",
    "    if p not in [1,2,numpy.infty]:\n",
    "        raise ValueError()\n",
    "    elif p==1 or p==numpy.infty:\n",
    "        return numpy.max([2,1+abs(a)]) * numpy.max([a1+a2, a2+a3])\n",
    "    elif p==2:\n",
    "        return (max(eigenA1,eigenA2)*max(eigenA3,eigenA4))\n",
    "        \n"
   ]
  },
  {
   "cell_type": "code",
   "execution_count": 4,
   "metadata": {
    "deletable": false,
    "editable": false,
    "nbgrader": {
     "cell_type": "code",
     "checksum": "d48a8d691ed7d343e29b2872a0596816",
     "grade": true,
     "grade_id": "cell-374ea847164723ad",
     "locked": true,
     "points": 6,
     "schema_version": 3,
     "solution": false,
     "task": false
    }
   },
   "outputs": [
    {
     "name": "stdout",
     "output_type": "stream",
     "text": [
      "||A||_1 = [3.0, 2.0, 2.0000999999999998, 3.0]\n",
      "||A||_2 = [2.302775637731995, 1.618033988749895, 2.00005000125, 2.618033988749895]\n",
      "||A||_inf = [3.0, 2.0, 2.0000999999999998, 3.0]\n",
      "Successful Norm test\n",
      "k(A)_1 = [3.0, 4.0, 40004.0001000044, 9.0]\n",
      "k(A)_2 = [1.7675918792439984, 2.618033988749895, 40002.00007500565, 6.854101966249685]\n",
      "k(A)_inf = [3.0, 4.0, 40004.0001000044, 9.0]\n",
      "Successful condition number test\n",
      "Success: you caught the ValueError\n"
     ]
    }
   ],
   "source": [
    "A = lambda a: numpy.array([ [ 1, 1], [1, a]])\n",
    "aa = numpy.array([ -2, 0, 1.0001, 2])\n",
    "\n",
    "\n",
    "for p in [ 1, 2, numpy.infty]:\n",
    "    normp = [ mypnorm(a, p) for a in aa]\n",
    "    test = [ numpy.linalg.norm(A(a), ord=p) for a in aa]    \n",
    "    print('||A||_{} = {}'.format(p, normp))\n",
    "    numpy.testing.assert_allclose(normp,test)\n",
    "print('Successful Norm test')\n",
    "\n",
    "for p in [ 1, 2, numpy.infty]:\n",
    "    condp = [ mycond(a, p) for a in aa]\n",
    "    test = [ numpy.linalg.cond(A(a), p) for a in aa]    \n",
    "    print('k(A)_{} = {}'.format(p, condp))\n",
    "    numpy.testing.assert_allclose(condp,test)\n",
    "print('Successful condition number test')\n",
    "\n",
    "# test the exception\n",
    "try:\n",
    "    mypnorm(0.,4)\n",
    "except ValueError as err:\n",
    "    print('Success: you caught the ValueError')\n",
    "else:\n",
    "    assert False, 'whoops, missed the exception'\n"
   ]
  },
  {
   "cell_type": "markdown",
   "metadata": {
    "deletable": false,
    "editable": false,
    "nbgrader": {
     "cell_type": "markdown",
     "checksum": "53d703c5cf8343e31e7582c9868c144b",
     "grade": false,
     "grade_id": "cell-3e89e213fb7910e6",
     "locked": true,
     "schema_version": 3,
     "solution": false,
     "task": false
    }
   },
   "source": [
    " **(c)** [4] Make a plot comparing $\\log(\\kappa(A))$ vs $a$ for the different matrix norms over the range $a\\in[-15,15]$. (you can check it by plotting `numpy.linalg.cond(A, ord)` as well. As always, make it pretty.\n",
    " \n"
   ]
  },
  {
   "cell_type": "code",
   "execution_count": 5,
   "metadata": {
    "deletable": false,
    "nbgrader": {
     "cell_type": "code",
     "checksum": "008009a3b096d4e0fed9ddcffa30df12",
     "grade": true,
     "grade_id": "cell-320fe7f582c6d2d1",
     "locked": false,
     "points": 4,
     "schema_version": 3,
     "solution": true,
     "task": false
    }
   },
   "outputs": [
    {
     "data": {
      "text/plain": [
       "Text(0, 0.5, '$log(\\\\kappa(A))$')"
      ]
     },
     "execution_count": 5,
     "metadata": {},
     "output_type": "execute_result"
    },
    {
     "data": {
      "image/png": "[encoded data removed]",
      "text/plain": [
       "<Figure size 1440x360 with 3 Axes>"
      ]
     },
     "metadata": {
      "needs_background": "light"
     },
     "output_type": "display_data"
    }
   ],
   "source": [
    "# YOUR CODE HERE\n",
    "a = [-15,-14,-13,-12,-11,-10,-11,-10,-9,-8,-7,-6,-5,-4,-3,-2,-1,0,2,3,4,5,6,7,8,8,10,11,12,13,14,15]\n",
    "x = []\n",
    "y = []\n",
    "z = []\n",
    "\n",
    "fig = plt.figure(figsize=(20,5))\n",
    "\n",
    "## 1 Norm\n",
    "\n",
    "for i in a:\n",
    "    x.append(numpy.log(mycond(i,1)))\n",
    "\n",
    "axes = fig.add_subplot(1,3,1)\n",
    "axes.plot(a,x,'ro-')\n",
    "axes.grid()\n",
    "axes.set_title(\"1-Norm, $a$ vs $log(\\kappa(A))$\")\n",
    "axes.set_xlabel('$a$')\n",
    "axes.set_ylabel('$log(\\kappa(A))$')\n",
    "\n",
    "## Inf-Norm\n",
    "\n",
    "for i in a:\n",
    "    y.append(numpy.log(mycond(i,numpy.infty)))\n",
    "\n",
    "axes = fig.add_subplot(1,3,2)\n",
    "axes.plot(a,y,'bo-')\n",
    "axes.grid()\n",
    "axes.set_title(\"$\\infty$-Norm, $a$ vs $log(\\kappa(A))$\")\n",
    "axes.set_xlabel('$a$')\n",
    "axes.set_ylabel('$log(\\kappa(A))$')\n",
    "\n",
    "## 2-norm\n",
    "\n",
    "for i in a:\n",
    "    z.append(numpy.log(mycond(i,2)))\n",
    "\n",
    "axes = fig.add_subplot(1,3,3)\n",
    "axes.plot(a,z,'o-')\n",
    "axes.grid()\n",
    "axes.set_title(\"2-Norm, $a$ vs $log(\\kappa(A))$\")\n",
    "axes.set_xlabel('$a$')\n",
    "axes.set_ylabel('$log(\\kappa(A))$')"
   ]
  },
  {
   "cell_type": "markdown",
   "metadata": {},
   "source": [
    "**(d)** [8] Given your plot comment on the following:\n",
    "* What value of $a$ gives the best conditioned matrix.  Why?\n",
    "* What value of $a$ gives the least well-condition matrix.  Why?\n",
    "* Does it matter which norm we measure the condition number in?\n",
    "* What value of $a$ gives the best conditioned matrix for $a>1$\n",
    " "
   ]
  },
  {
   "cell_type": "markdown",
   "metadata": {
    "deletable": false,
    "nbgrader": {
     "cell_type": "markdown",
     "checksum": "25e41697837f5cb2208d6e026c5ad345",
     "grade": true,
     "grade_id": "cell-cfd83ecacd1321fb",
     "locked": false,
     "points": 8,
     "schema_version": 3,
     "solution": true,
     "task": false
    }
   },
   "source": [
    "## Solution\n",
    "\n",
    "When $a=-1$, we get the best conditioned matrix, and when $a=15$, we get the least well-conditioned matrix. <br>\n",
    "\n",
    "Yes, the scaling on the y-axis is different even though the general shape is the same. <br> For example, the condition number when $a=-1$ is $0$ in the $2$-norm, but that's\n",
    "not the case for the $1$-norm or the $\\infty$-norm. <br>\n",
    "\n",
    "When $a>1$, the value in which we get the best conditioned matrix is $a=3$"
   ]
  },
  {
   "cell_type": "markdown",
   "metadata": {
    "deletable": false,
    "editable": false,
    "nbgrader": {
     "cell_type": "markdown",
     "checksum": "983774d7dcdb2e8a7f594592b3e19d0d",
     "grade": false,
     "grade_id": "cell-2262684335162709",
     "locked": true,
     "schema_version": 3,
     "solution": false
    },
    "slideshow": {
     "slide_type": "slide"
    }
   },
   "source": [
    "#### **(e)** [6] The Geometry of matrix Norms\n",
    "\n",
    "Let's explore the geometrical relationship implied by the induce matrix $p$-norm which can be viewed as a measure of how much the $A\\mathbf{x}$ distorts the 'unit-ball' \n",
    "\n",
    "$$\\{ \\mathbf{x}\\in\\mathbb{R}^n:   \\forall\\, ||\\mathbf{x}||_p=1\\}$$\n",
    "\n",
    "I will provide a routine to plot the unit ball and the image of $A$ acting on the unit ball here (modified from some cool routines by Kyle Mandli)"
   ]
  },
  {
   "cell_type": "code",
   "execution_count": 6,
   "metadata": {},
   "outputs": [],
   "source": [
    "def unit_ball_image(axes, A, ord, title=True):\n",
    "    \"\"\"Plot  the unit ball and its image under the tranformation resulting from *A* \n",
    "    and return an estimate of the matrix norm \n",
    "    \n",
    "    :Input:\n",
    "     - *axes* (matplotlib.axes) Axes to plot on\n",
    "     - *A* (ndarray) Matrix that represents the mapping (transformation)\n",
    "     - *ord* (float) The norm requested.\n",
    "     \n",
    "    :Output:\n",
    "     - (float) Maximum norm estimate (i.e. the matrix norm)\n",
    "    \"\"\"    \n",
    "    # construct the unit ball and extract points on the 1-contour\n",
    "    N = 100\n",
    "    X, Y = numpy.meshgrid(numpy.linspace(-1.1, 1.1, N), numpy.linspace(-1.1, 1.1, N))\n",
    "    V = numpy.empty((N, N))\n",
    "    for i in range(N):\n",
    "        for j in range(N ):\n",
    "            V[i, j] = numpy.linalg.norm(numpy.array([X[i, j], Y[i, j]]), ord=ord)\n",
    "    contourset = axes.contour(X, Y, V, 'w', levels=[1])\n",
    "    \n",
    "    # nifty matplotlib trick for extracting the coordinates of the contour\n",
    "    ball = contourset.allsegs[0][0]\n",
    "    axes.plot(ball[:,0], ball[:,1],'b')\n",
    "    \n",
    "    # calculate the image of the unit ball under A and plot it\n",
    "    image = A.dot(ball.T).T\n",
    "    axes.plot(image[:,0],image[:,1],'r')\n",
    "\n",
    "    # estimate the norm\n",
    "    max_norm = numpy.max(numpy.linalg.norm(image, ord=ord, axis=1))\n",
    "    \n",
    "    #prettify\n",
    "    axes.grid()\n",
    "    #axes.legend(['a', 'b'],loc='best')\n",
    "    axes.legend(['$||\\mathbf{{x}}||_{}=1$'.format(ord), '$||A\\\\mathbf{{x}}||_{}$'.format(ord)], loc='best')\n",
    "    if title:\n",
    "        axes.set_title('$||A||_{}\\\\approx{:3.5f}$'.format(ord,max_norm))\n",
    "   \n",
    "    return max_norm\n",
    "    "
   ]
  },
  {
   "cell_type": "code",
   "execution_count": 7,
   "metadata": {
    "deletable": false,
    "editable": false,
    "nbgrader": {
     "cell_type": "code",
     "checksum": "dbc572f7f2eb8746aa3680471ff02887",
     "grade": false,
     "grade_id": "cell-68084ba7d3405a62",
     "locked": true,
     "schema_version": 3,
     "solution": false,
     "task": false
    }
   },
   "outputs": [
    {
     "data": {
      "image/png": "[encoded data removed]",
      "text/plain": [
       "<Figure size 1296x432 with 3 Axes>"
      ]
     },
     "metadata": {
      "needs_background": "light"
     },
     "output_type": "display_data"
    }
   ],
   "source": [
    "# an Example comparing the behavior of the 1-norm, 2-norm and inf-norm\n",
    "a=-0.5\n",
    "fig = plt.figure(figsize=(18,6))\n",
    "axes = fig.add_subplot(1,3,1, aspect='equal', adjustable='datalim')\n",
    "max_norm = unit_ball_image(axes, A(a), 1)\n",
    "axes = fig.add_subplot(1,3,2, aspect='equal', adjustable='datalim')\n",
    "max_norm = unit_ball_image(axes, A(a), 2)\n",
    "axes = fig.add_subplot(1,3,3, aspect='equal', adjustable='datalim')\n",
    "max_norm = unit_ball_image(axes, A(a), numpy.inf)\n",
    "\n",
    "plt.show()\n"
   ]
  },
  {
   "cell_type": "markdown",
   "metadata": {
    "deletable": false,
    "editable": false,
    "nbgrader": {
     "cell_type": "markdown",
     "checksum": "e50ac701e0a773d4c210f5f0d4a940be",
     "grade": false,
     "grade_id": "cell-28edb1c34906ab74",
     "locked": true,
     "schema_version": 3,
     "solution": false,
     "task": false
    }
   },
   "source": [
    "Use this routine to make a figure comparing $||A(a)||_p$ and $||A^{-1}(a)||_p$ for $p=1,2,\\infty$ and\n",
    "* the best conditioned value of $a$\n",
    "* a=1.08 (or as close to singular as you want to go). Can you explain why all the norms agree as $a\\rightarrow1$?\n",
    "* the best conditioned value of $a>1$"
   ]
  },
  {
   "cell_type": "code",
   "execution_count": 8,
   "metadata": {
    "deletable": false,
    "nbgrader": {
     "cell_type": "code",
     "checksum": "8c14dfcca8838ec267105ddd866ebae2",
     "grade": true,
     "grade_id": "cell-5f1d7e583ebe5431",
     "locked": false,
     "points": 8,
     "schema_version": 3,
     "solution": true,
     "task": false
    }
   },
   "outputs": [
    {
     "ename": "NotImplementedError",
     "evalue": "",
     "output_type": "error",
     "traceback": [
      "\u001b[0;31m---------------------------------------------------------------------------\u001b[0m",
      "\u001b[0;31mNotImplementedError\u001b[0m                       Traceback (most recent call last)",
      "\u001b[0;32m<ipython-input-8-15b94d1fa268>\u001b[0m in \u001b[0;36m<module>\u001b[0;34m\u001b[0m\n\u001b[1;32m      1\u001b[0m \u001b[0;31m# YOUR CODE HERE\u001b[0m\u001b[0;34m\u001b[0m\u001b[0;34m\u001b[0m\u001b[0;34m\u001b[0m\u001b[0m\n\u001b[0;32m----> 2\u001b[0;31m \u001b[0;32mraise\u001b[0m \u001b[0mNotImplementedError\u001b[0m\u001b[0;34m(\u001b[0m\u001b[0;34m)\u001b[0m\u001b[0;34m\u001b[0m\u001b[0;34m\u001b[0m\u001b[0m\n\u001b[0m",
      "\u001b[0;31mNotImplementedError\u001b[0m: "
     ]
    }
   ],
   "source": [
    "# YOUR CODE HERE\n",
    "raise NotImplementedError()"
   ]
  },
  {
   "cell_type": "markdown",
   "metadata": {
    "deletable": false,
    "nbgrader": {
     "cell_type": "markdown",
     "checksum": "ed68b23689c1dcb4c799d810f04a03d7",
     "grade": true,
     "grade_id": "cell-99fc189fb23f8f3c",
     "locked": false,
     "points": 2,
     "schema_version": 3,
     "solution": true,
     "task": false
    }
   },
   "source": [
    "YOUR ANSWER HERE"
   ]
  },
  {
   "cell_type": "markdown",
   "metadata": {
    "deletable": false,
    "editable": false,
    "nbgrader": {
     "cell_type": "markdown",
     "checksum": "44a50372a5101e0a6ec4c45b36fa3ae5",
     "grade": false,
     "grade_id": "cell-5568048673839846",
     "locked": true,
     "schema_version": 3,
     "solution": false
    }
   },
   "source": [
    "## Question 3: Fun with the QR\n",
    "\n",
    "**(a)** [4] - Why we use the $QR$ factorization for least-squares.\n",
    "\n",
    "Consider the two equivalent problems to solve for the least-squares solution $\\hat{\\mathbf{x}}$\n",
    "\n",
    "The Normal Equations\n",
    "$$\n",
    "    A^TA\\hat{\\mathbf{x}} = A^T\\mathbf{b}\n",
    "$$\n",
    "\n",
    "and using the $QR$ factorization with $A=QR$\n",
    "$$\n",
    "\\quad R\\hat{\\mathbf{x}}=Q^T\\mathbf{b}\n",
    "$$\n",
    "\n",
    "\n",
    "* Show that the condition number of $A^TA$ is the square of that of $A$ (i.e.$\\kappa_2(A^T A)$ = $\\kappa_2^2(A)$).  Hint: use the SVD $A=U\\Sigma V^T$\n",
    "* Show that $\\kappa_2(R) = \\kappa_2(A)$\n",
    "\n",
    "so that solving using the $QR$ factorization is much more stable with respect to floating point error."
   ]
  },
  {
   "cell_type": "markdown",
   "metadata": {
    "deletable": false,
    "nbgrader": {
     "cell_type": "markdown",
     "checksum": "2d29e14fab5a0b1d4bcb5190f9cd1f9d",
     "grade": true,
     "grade_id": "cell-c20db3d457396dd4",
     "locked": false,
     "points": 4,
     "schema_version": 3,
     "solution": true,
     "task": false
    }
   },
   "source": [
    "YOUR ANSWER HERE"
   ]
  },
  {
   "cell_type": "markdown",
   "metadata": {
    "deletable": false,
    "editable": false,
    "nbgrader": {
     "cell_type": "markdown",
     "checksum": "31742bf8e5ba72a2e8965278e4aa2513",
     "grade": false,
     "grade_id": "cell-10940ce7dfe177b2",
     "locked": true,
     "schema_version": 3,
     "solution": false,
     "task": false
    }
   },
   "source": [
    "**(b)** [8] - The Householder reflection matrix, \n",
    "\n",
    "$$\n",
    "    H = I - 2\\mathbf{q}\\mathbf{q}^T\n",
    "$$\n",
    "\n",
    "reflects a vector $x$ across a mirror plane normal to a unit vector $\\mathbf{q}$ and is an essential ingredient in many numerical methods.\n",
    "\n",
    "Demonstrate the following properties of $H$\n",
    "\n",
    "* $H$ is symmetric\n",
    "* $H$ is Unitary\n",
    "* $H$ is not a projection matrix\n",
    "* if $\\mathbf{x}$ is in $\\mathbb{R}^n$,  the Matrix-vector product $H\\mathbf{x}$ can be computed in $O(n)$ operations\n",
    "* Repeated application of householder matrices to transform $A\\rightarrow R$ do not change the condition number (i.e. $\\kappa_2(HA) = \\kappa_2(A) = \\kappa_2(R)$"
   ]
  },
  {
   "cell_type": "markdown",
   "metadata": {
    "deletable": false,
    "nbgrader": {
     "cell_type": "markdown",
     "checksum": "8f0a6380086a85db57c665784cea6f01",
     "grade": true,
     "grade_id": "cell-ae162183f5dfaf3f",
     "locked": false,
     "points": 8,
     "schema_version": 3,
     "solution": true,
     "task": false
    }
   },
   "source": [
    "## Solution\n",
    "\n",
    "$\\cdot$To show it is symmetric:\n",
    "\n",
    "$$\n",
    "H^T = (I - 2\\mathbf{qq}^T)^T = I^T - 2(\\mathbf{qq}^T)^T = I - 2(\\mathbf{q}^T)^T\\mathbf{q}^T = I - 2\\mathbf{qq}^T = H\n",
    "$$\n",
    "\n",
    "$\\cdot$To show it is unitary, we first notice that the householder transformation essentially turns a unit cube inside out along one axis, so we have a determinant of $-1$. <br>\n",
    "$|det(H)|=1$ so it is unitary.\n",
    "\n",
    "$\\cdot$To show $H$ is not a projection matrix, we show that $HH \\neq H$:\n",
    "\n",
    "$$\n",
    "HH = (I-2\\mathbf{qq}^T)(I-2\\mathbf{qq}^T) = I-4\\mathbf{qq}^T + 4\\mathbf{qq}^T\\mathbf{qq}^T = I - I-4\\mathbf{qq}^T + 4\\mathbf{qq}^T = I\n",
    "$$"
   ]
  },
  {
   "cell_type": "markdown",
   "metadata": {
    "deletable": false,
    "editable": false,
    "nbgrader": {
     "cell_type": "markdown",
     "checksum": "c93007e78469109cbd78fcd4561b42d4",
     "grade": false,
     "grade_id": "cell-36d5696306c198ce",
     "locked": true,
     "schema_version": 3,
     "solution": false,
     "task": false
    }
   },
   "source": [
    "**(c)** [10] - To understand the basic algorithm's better,  construct by hand matrices $Q$ and $R$ such that $A=QR$ for \n",
    "\n",
    "$$\n",
    "    A = \\begin{bmatrix} 1 & 1 & 1\\\\ 1 & 0 & 0 \\\\ 1 & 1 & 0  \\\\ 1 & 0 & 0 \\\\ \\end{bmatrix} \n",
    "$$\n",
    "\n",
    "Using\n",
    "\n",
    "* modified Gram-Schmidt  $A\\rightarrow Q$,   $R = Q^T A$\n",
    "* Householder reflections $A\\rightarrow R$, $Q=(H_2 H_1)^T$ (i.e. $Q^T = H_2 H_1$)\n",
    "\n",
    "You can use any python/numpy routines to check your answers"
   ]
  },
  {
   "cell_type": "markdown",
   "metadata": {
    "deletable": false,
    "nbgrader": {
     "cell_type": "markdown",
     "checksum": "de8565d1a0fe651e909d6d320c0fbca6",
     "grade": true,
     "grade_id": "cell-89b6f648c78705f3",
     "locked": false,
     "points": 10,
     "schema_version": 3,
     "solution": true,
     "task": false
    }
   },
   "source": [
    "## Solution\n",
    "\n",
    "$$\n",
    "q_1'=a_1=\n",
    "\\begin{bmatrix}\n",
    "1 \\\\\n",
    "1 \\\\\n",
    "1 \\\\\n",
    "1 \\\\\n",
    "\\end{bmatrix}\n",
    "$$\n",
    "\n",
    "The norm of that is just $2$, i.e $r_{11}=2$ so:\n",
    "$$\n",
    "q_1 = \\frac{1}{2}\n",
    "\\begin{bmatrix}\n",
    "1 \\\\\n",
    "1 \\\\\n",
    "1 \\\\\n",
    "1 \\\\\n",
    "\\end{bmatrix}\n",
    "$$\n",
    "\n",
    "$$\n",
    "r_{12}= q_1^T \\cdot a_2 =\n",
    "\\begin{bmatrix}\n",
    "\\frac{1}{2} & \\frac{1}{2} & \\frac{1}{2} & \\frac{1}{2} \n",
    "\\end{bmatrix}\n",
    "\\begin{bmatrix}\n",
    "1 \\\\\n",
    "0 \\\\\n",
    "1 \\\\\n",
    "0 \\\\\n",
    "\\end{bmatrix} = 1\n",
    "$$\n",
    "\n",
    "$$\n",
    "q_2' = a_2 -r_{12} \\cdot q_1 =\n",
    "\\begin{bmatrix}\n",
    "\\frac{1}{2} \\\\\n",
    "-\\frac{1}{2} \\\\\n",
    "\\frac{1}{2} \\\\\n",
    "-\\frac{1}{2} \\\\\n",
    "\\end{bmatrix}\n",
    "$$\n",
    "\n",
    "The norm of $q_2'$ is $1$ so $q_2' = q_2$. We then have that:\n",
    "\n",
    "$$\n",
    "r_{13}= r_{23} = 0.5\n",
    "$$\n",
    "\n",
    "$$\n",
    "q_3' = a_3 - r_{13}\\cdot q_1 - r_{23} \\cdot q_2 = \n",
    "\\begin{bmatrix}\n",
    "\\frac{1}{2} \\\\\n",
    "0 \\\\\n",
    "-\\frac{1}{2} \\\\\n",
    "0 \\\\\n",
    "\\end{bmatrix}\n",
    "$$\n",
    "\n",
    "$r_{33} = \\sqrt{0.5} = 0.7071$, so:\n",
    "\n",
    "$$\n",
    "q_3 = \n",
    "\\begin{bmatrix}\n",
    "0.7071 \\\\\n",
    "0 \\\\\n",
    "0.7071 \\\\\n",
    "0 \\\\\n",
    "\\end{bmatrix}\n",
    "$$\n",
    "\n",
    "Then:\n",
    "\n",
    "$$\n",
    "Q = [q_1,q_2,q_3] = \n",
    "\\begin{bmatrix}\n",
    "\\frac{1}{2} & \\frac{1}{2} & 0.7071 \\\\\n",
    "\\frac{1}{2} & -\\frac{1}{2} & 0\\\\\n",
    "\\frac{1}{2} & \\frac{1}{2} & -0.7071\\\\\n",
    "\\frac{1}{2} & -\\frac{1}{2} & 0 \\\\\n",
    "\\end{bmatrix}\n",
    "$$\n",
    "\n",
    "And:\n",
    "\n",
    "$$\n",
    "R = \n",
    "\\begin{bmatrix}\n",
    "r_{11} & r_{12} & r_{13} \\\\\n",
    "0 & r_{22} & r_{23} \\\\\n",
    "0 & 0 & r_{33}\n",
    "\\end{bmatrix}\n",
    "=\n",
    "\\begin{bmatrix}\n",
    "2 & 1 & \\frac{1}{2} \\\\\n",
    "0 & 1 & \\frac{1}{2} \\\\\n",
    "0 & 0 & 0.7071\n",
    "\\end{bmatrix}\n",
    "$$\n",
    "\n",
    "Routine calculation shows that:\n",
    "\n",
    "$$\n",
    "\\begin{bmatrix}\n",
    "\\frac{1}{2} & \\frac{1}{2} & 0.7071 \\\\\n",
    "\\frac{1}{2} & -\\frac{1}{2} & 0\\\\\n",
    "\\frac{1}{2} & \\frac{1}{2} & -0.7071\\\\\n",
    "\\frac{1}{2} & -\\frac{1}{2} & 0 \\\\\n",
    "\\end{bmatrix}\n",
    "\\begin{bmatrix}\n",
    "2 & 1 & \\frac{1}{2} \\\\\n",
    "0 & 1 & \\frac{1}{2} \\\\\n",
    "0 & 0 & 0.7071\n",
    "\\end{bmatrix}\n",
    "= \\begin{bmatrix} 1 & 1 & 1\\\\ 1 & 0 & 0 \\\\ 1 & 1 & 0  \\\\ 1 & 0 & 0 \\\\ \\end{bmatrix} \n",
    "$$"
   ]
  },
  {
   "cell_type": "markdown",
   "metadata": {
    "deletable": false,
    "editable": false,
    "nbgrader": {
     "cell_type": "markdown",
     "checksum": "3e68755c1c345a4e06d98f89de3d260a",
     "grade": false,
     "grade_id": "cell-cdd2cd601d8202a9",
     "locked": true,
     "schema_version": 3,
     "solution": false,
     "task": false
    }
   },
   "source": [
    "**(c)** [10] - Modify the $QR$ factorization by Householder reflection given in class `householder_QR` to write a function to solve linear least-squares problems, i.e. use repeated Householder reflections to transform\n",
    "\n",
    "$$\n",
    "    A\\mathbf{x} = \\mathbf{b}\n",
    "$$\n",
    "\n",
    "to\n",
    "\n",
    "$$ R\\mathbf{x} = \\mathbf{c} $$\n",
    "\n",
    "where $\\mathbf{c} = Q^T\\mathbf{b}$.  Then solve the last equation for $\\mathbf{x}$ using `numpy.linalg.solve` (which implements a $LU$ decomposition for Gaussian elimination).\n"
   ]
  },
  {
   "cell_type": "code",
   "execution_count": null,
   "metadata": {
    "deletable": false,
    "nbgrader": {
     "cell_type": "code",
     "checksum": "4bc0df0309b47cc945c5d1171d7f77ea",
     "grade": false,
     "grade_id": "cell-2541449414280090",
     "locked": false,
     "schema_version": 3,
     "solution": true
    }
   },
   "outputs": [],
   "source": [
    "# Implementation of Householder QR, for least-squares\n",
    "def mylstq(A, b):\n",
    "    \"\"\"\n",
    "    Solves the leastsquares problem Ax = b, by Householder reduction to Rx = c,\n",
    "    then solve Rx = c, using numpy.linalg.solve()\n",
    "    \n",
    "    fill in the rest of the doc-string properly\n",
    "    \n",
    "    usage:  x = mylstq(A, b)\n",
    "    \"\"\"\n",
    "    # YOUR CODE HERE\n",
    "    raise NotImplementedError()\n",
    "    return x"
   ]
  },
  {
   "cell_type": "code",
   "execution_count": null,
   "metadata": {
    "deletable": false,
    "editable": false,
    "nbgrader": {
     "cell_type": "code",
     "checksum": "392d1e420a13e052ea094bddda34b813",
     "grade": true,
     "grade_id": "cell-2436702902334927",
     "locked": true,
     "points": 10,
     "schema_version": 3,
     "solution": false
    }
   },
   "outputs": [],
   "source": [
    "# Test this on the previous problem\n",
    "A = numpy.array([ [ 1., 1., 1.],\n",
    "                  [1., 0., 0.],\n",
    "                  [1., 1., 0.],\n",
    "                  [1., 0., 0.]])\n",
    "b = numpy.array([ 3., -2., 1., 0.])\n",
    "\n",
    "x = mylstq(A,b)\n",
    "x_np = numpy.linalg.lstsq(A,b,rcond = None)[0]\n",
    "print('my solution = {}'.format(x))\n",
    "print('numpy.lstq  = {}'.format(x_np))\n",
    "numpy.testing.assert_allclose(x, x_np)\n",
    "print('Success!')"
   ]
  },
  {
   "cell_type": "markdown",
   "metadata": {
    "deletable": false,
    "editable": false,
    "nbgrader": {
     "cell_type": "markdown",
     "checksum": "a1b464e7030230a780ef42146a1123ea",
     "grade": false,
     "grade_id": "cell-4cd9dd9d53453da5",
     "locked": true,
     "schema_version": 3,
     "solution": false,
     "task": false
    }
   },
   "source": [
    "**(d)** [6] - Use your routine to find the best fit of the function \n",
    "\n",
    "$$\n",
    "    y = c_1 x + c_2e^{x}\n",
    "$$ \n",
    "through the $(x, y)$ data points $(1,2)$, $(2,3)$, $(3,5)$, $(4,10)$, $(5,15)$.\n",
    "\n",
    "* Make a plot comparing the best fit function to the data over the interval $x \\in [0, 6]$.\n",
    "* What is the norm of the residual $||\\mathbf{r}||_2$ for $\\mathbf{r} = \\mathbf{y}_{data} - \\mathbf{y}_{model}(x)$?\n",
    "* Would you trust extrapolating this model to larger values of $x$? (no right answer here)\n",
    "* **Extra Credit** Explore the behavior of fitting polynomials of different orders.  Are these any better?"
   ]
  },
  {
   "cell_type": "code",
   "execution_count": null,
   "metadata": {
    "deletable": false,
    "nbgrader": {
     "cell_type": "code",
     "checksum": "3e2635cf2579bfe3893942cb7eaf5672",
     "grade": true,
     "grade_id": "cell-7928786480229769",
     "locked": false,
     "points": 6,
     "schema_version": 3,
     "solution": true,
     "task": false
    }
   },
   "outputs": [],
   "source": [
    "# YOUR CODE HERE\n",
    "raise NotImplementedError()"
   ]
  }
 ],
 "metadata": {
  "kernelspec": {
   "display_name": "Python 3",
   "language": "python",
   "name": "python3"
  },
  "language_info": {
   "codemirror_mode": {
    "name": "ipython",
    "version": 3
   },
   "file_extension": ".py",
   "mimetype": "text/x-python",
   "name": "python",
   "nbconvert_exporter": "python",
   "pygments_lexer": "ipython3",
   "version": "3.7.3"
  },
  "latex_envs": {
   "bibliofile": "biblio.bib",
   "cite_by": "apalike",
   "current_citInitial": 1,
   "eqLabelWithNumbers": true,
   "eqNumInitial": 0
  }
 },
 "nbformat": 4,
 "nbformat_minor": 4
}
