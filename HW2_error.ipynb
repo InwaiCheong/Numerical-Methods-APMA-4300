{
 "cells": [
  {
   "cell_type": "markdown",
   "metadata": {},
   "source": [
    "Before you turn this problem in, make sure everything runs as expected. First, **restart the kernel** (in the menubar, select Kernel$\\rightarrow$Restart) and then **run all cells** (in the menubar, select Cell$\\rightarrow$Run All).\n",
    "\n",
    "Make sure you fill in any place that says `YOUR CODE HERE` or \"YOUR ANSWER HERE\", as well as your name and collaborators below:"
   ]
  },
  {
   "cell_type": "code",
   "execution_count": 1,
   "metadata": {},
   "outputs": [],
   "source": [
    "NAME = \"In Wai Cheong\"\n",
    "COLLABORATORS = \"Ananth Kumar\""
   ]
  },
  {
   "cell_type": "markdown",
   "metadata": {},
   "source": [
    "---"
   ]
  },
  {
   "cell_type": "code",
   "execution_count": 2,
   "metadata": {
    "deletable": false,
    "editable": false,
    "nbgrader": {
     "cell_type": "code",
     "checksum": "3c0e6f80c9a8d85d80baddc8df3890a0",
     "grade": false,
     "grade_id": "cell-7531378247537850",
     "locked": true,
     "schema_version": 3,
     "solution": false
    }
   },
   "outputs": [],
   "source": [
    "from __future__ import print_function\n",
    "%matplotlib inline\n",
    "import numpy\n",
    "import matplotlib.pyplot as plt\n",
    "\n",
    "# import the factorial function from scipy\n",
    "from scipy.special import factorial"
   ]
  },
  {
   "cell_type": "markdown",
   "metadata": {
    "deletable": false,
    "editable": false,
    "nbgrader": {
     "cell_type": "markdown",
     "checksum": "1c047f8ea8a1ba5cc6d067a906fc8242",
     "grade": false,
     "grade_id": "cell-1055125360070174",
     "locked": true,
     "schema_version": 3,
     "solution": false
    }
   },
   "source": [
    "# HW 2:  Forms of Error\n",
    "\n"
   ]
  },
  {
   "cell_type": "markdown",
   "metadata": {
    "deletable": false,
    "editable": false,
    "nbgrader": {
     "cell_type": "markdown",
     "checksum": "06a9ac1ce3d93db2a8d123819eb11858",
     "grade": false,
     "grade_id": "cell-9681214437904696",
     "locked": true,
     "schema_version": 3,
     "solution": false
    }
   },
   "source": [
    "## Question 1:  definition of errors\n",
    "\n",
    "**(a)**  [4 pts] Write a short python program to calculate and return, the absolute error, relative error and degree of decimal precision (as defined in class) given an object $f$ and its approximation $F$.  Note, both f and F can be numpy arrays."
   ]
  },
  {
   "cell_type": "code",
   "execution_count": 3,
   "metadata": {
    "deletable": false,
    "nbgrader": {
     "cell_type": "code",
     "checksum": "7c9bcb87e713e8ee4fb90ec822ed4d9f",
     "grade": false,
     "grade_id": "cell-a6ede65cf8ed685f",
     "locked": false,
     "schema_version": 3,
     "solution": true,
     "task": false
    }
   },
   "outputs": [],
   "source": [
    "def errors(f,F):\n",
    "    \"\"\" calculate various measures of error of an object f and its approximation F\n",
    "    \n",
    "    Parameters\n",
    "    ----------\n",
    "    f:  numpy.array (or float)\n",
    "        array of true values\n",
    "        \n",
    "    F: numpy.array\n",
    "        array of approximate values\n",
    "        \n",
    "    Returns\n",
    "    -------\n",
    "    \n",
    "    e: array of absolute errors\n",
    "    r: array of relative errors\n",
    "    p: integer array of precisions\n",
    "    \"\"\"\n",
    "    \n",
    "    # YOUR CODE HERE\n",
    " \n",
    "    f = numpy.array(f)\n",
    "    F = numpy.array(F)\n",
    "    e = numpy.array(numpy.abs(f-F))\n",
    "    r = numpy.array(e/numpy.abs(f))\n",
    "    p_2 = numpy.array(-numpy.log10(r/5.))\n",
    "    p = p_2.astype(int)\n",
    "    \n",
    "    print('f = {}'.format(f))\n",
    "    print('F = {}'.format(F))\n",
    "    print('Absolute Error: {}'.format(e))\n",
    "    print('Relative Error: {}'.format(r))\n",
    "    print('Decimal precision: {}'.format(p))\n",
    "   \n",
    "    return e, r, p\n"
   ]
  },
  {
   "cell_type": "code",
   "execution_count": 4,
   "metadata": {
    "deletable": false,
    "editable": false,
    "nbgrader": {
     "cell_type": "code",
     "checksum": "756d95f1f1cc55a402f92169c1a8a727",
     "grade": true,
     "grade_id": "cell-da2659b413c73ca7",
     "locked": true,
     "points": 4,
     "schema_version": 3,
     "solution": false,
     "task": false
    }
   },
   "outputs": [
    {
     "name": "stdout",
     "output_type": "stream",
     "text": [
      "f = 2.718281828459045\n",
      "F = 2.72\n",
      "Absolute Error: 0.0017181715409551046\n",
      "Relative Error: 0.0006320799863232398\n",
      "Decimal precision: 3\n",
      "f = [ 2.71828183  7.3890561  20.08553692]\n",
      "F = [ 2.718  7.389 20.085]\n",
      "Absolute Error: [2.81828459e-04 5.60989307e-05 5.36923188e-04]\n",
      "Relative Error: [1.03678896e-04 7.59216467e-06 2.67318315e-05]\n",
      "Decimal precision: [4 5 5]\n",
      "success\n"
     ]
    }
   ],
   "source": [
    "# test simple scalars\n",
    "e,r,p = errors(numpy.exp(1),2.72)\n",
    "numpy.testing.assert_allclose([e,r,p],[0.0017181715409551046, 0.0006320799863232398, 3])\n",
    "\n",
    "# test with array input\n",
    "x = [1., 2., 3.]\n",
    "f = numpy.exp(x)\n",
    "F = [ 2.718,  7.389,  20.085]\n",
    "e,r,p = errors(f,F)\n",
    "numpy.testing.assert_allclose(e,[2.81828459e-04, 5.60989307e-05, 5.36923188e-04])\n",
    "numpy.testing.assert_allclose(r,[1.03678896e-04, 7.59216467e-06, 2.67318315e-05])\n",
    "numpy.testing.assert_allclose(p,[4, 5, 5])\n",
    "print('success')"
   ]
  },
  {
   "cell_type": "markdown",
   "metadata": {
    "deletable": false,
    "editable": false,
    "nbgrader": {
     "cell_type": "markdown",
     "checksum": "63298adbbcb0780305df14912e36cad1",
     "grade": false,
     "grade_id": "cell-bef4e3baf992ed93",
     "locked": true,
     "schema_version": 3,
     "solution": false,
     "task": false
    }
   },
   "source": [
    "**(b)** [4 pts] Use your routine to calculate various errors for two approximations to $\\pi$\n",
    "\n",
    "* $f = \\pi$ and $F = 3.14$\n",
    "* $f = \\pi$ and $F = 22 / 7$\n",
    "\n",
    "Which of these is the better approximation?"
   ]
  },
  {
   "cell_type": "code",
   "execution_count": 5,
   "metadata": {},
   "outputs": [
    {
     "name": "stdout",
     "output_type": "stream",
     "text": [
      "f = [3.14159265 3.14159265]\n",
      "F = [3.14       3.14285714]\n",
      "Absolute Error: [0.00159265 0.00126449]\n",
      "Relative Error: [0.00050696 0.0004025 ]\n",
      "Decimal precision: [3 4]\n"
     ]
    },
    {
     "data": {
      "text/plain": [
       "(array([0.00159265, 0.00126449]),\n",
       " array([0.00050696, 0.0004025 ]),\n",
       " array([3, 4]))"
      ]
     },
     "execution_count": 5,
     "metadata": {},
     "output_type": "execute_result"
    }
   ],
   "source": [
    "x = [numpy.pi,numpy.pi]\n",
    "y = [3.14,22/7]\n",
    "errors(x,y)"
   ]
  },
  {
   "cell_type": "markdown",
   "metadata": {
    "deletable": false,
    "nbgrader": {
     "cell_type": "markdown",
     "checksum": "d9ac9462caae1146fa324fe338dd0c1d",
     "grade": true,
     "grade_id": "cell-4300360216304258",
     "locked": false,
     "points": 4,
     "schema_version": 3,
     "solution": true
    }
   },
   "source": [
    "### Answer: $\\frac{22}{7}$ is more accurate since it has less absolute and relative error than $3.14$"
   ]
  },
  {
   "cell_type": "markdown",
   "metadata": {
    "deletable": false,
    "editable": false,
    "nbgrader": {
     "cell_type": "markdown",
     "checksum": "56ffae1ca559c1c81f9406aff2676123",
     "grade": false,
     "grade_id": "cell-23707a8e710ca676",
     "locked": true,
     "schema_version": 3,
     "solution": false,
     "task": false
    }
   },
   "source": [
    "**(c)** [4 pts] $F = n log(n) - n$ is Stirling's approximation to  $f = \\log(n!)$ for large values of $n$. \n",
    "Do the following\n",
    "\n",
    "* Make a plot showing the relative error and degree of decimal precision for $f$ and $F$ as a function of integer $n$\n",
    "\n",
    "* Estimate the smallest value of $n$ where Stirling's approximation is good to 4 decimal places of precision.  \n",
    "\n",
    "Note: If you use the `factorial` function imported from `scipy.special`, you will not be able to answer this question.  **Why?**  However there is another way to evaluate $\\log(n!)$ for integer $n$ that will work."
   ]
  },
  {
   "cell_type": "code",
   "execution_count": 6,
   "metadata": {
    "deletable": false,
    "nbgrader": {
     "cell_type": "code",
     "checksum": "6195fab472e4537966b7eba4a529a13b",
     "grade": true,
     "grade_id": "cell-a5639245c28a1642",
     "locked": false,
     "points": 4,
     "schema_version": 3,
     "solution": true,
     "task": false
    }
   },
   "outputs": [
    {
     "data": {
      "text/plain": [
       "Text(0, 0.5, 'Relative Error')"
      ]
     },
     "execution_count": 6,
     "metadata": {},
     "output_type": "execute_result"
    },
    {
     "data": {
      "image/png": "[encoded data removed]",
      "text/plain": [
       "<Figure size 432x288 with 1 Axes>"
      ]
     },
     "metadata": {
      "needs_background": "light"
     },
     "output_type": "display_data"
    }
   ],
   "source": [
    "import math\n",
    "\n",
    "def calc(b):\n",
    "    if b==0:\n",
    "        return 1\n",
    "    else:\n",
    "        return sum([numpy.log(i) for i in range(1,b+1)])\n",
    "\n",
    "x = list(range(10,1600))\n",
    "F = numpy.array([j*numpy.log(j)-j for j in x])\n",
    "f = numpy.array([calc(i) for i in x])\n",
    "rel = numpy.abs(f - F) / numpy.abs(f)\n",
    "\n",
    "plt.plot(x,rel)\n",
    "plt.grid()\n",
    "plt.title(\"Relative Error for n\")\n",
    "plt.xlabel(\"n\")\n",
    "plt.ylabel(\"Relative Error\")"
   ]
  },
  {
   "cell_type": "code",
   "execution_count": 7,
   "metadata": {},
   "outputs": [
    {
     "data": {
      "text/plain": [
       "Text(0, 0.5, 'Degree Precision')"
      ]
     },
     "execution_count": 7,
     "metadata": {},
     "output_type": "execute_result"
    },
    {
     "data": {
      "image/png": "[encoded data removed]",
      "text/plain": [
       "<Figure size 432x288 with 1 Axes>"
      ]
     },
     "metadata": {
      "needs_background": "light"
     },
     "output_type": "display_data"
    }
   ],
   "source": [
    "dec = numpy.floor(-numpy.log10(rel/5))\n",
    "plt.plot(x,dec)\n",
    "plt.grid()\n",
    "plt.title(\"Degree Decimal Precision for n\")\n",
    "plt.xlabel(\"n\")\n",
    "plt.ylabel(\"Degree Precision\")"
   ]
  },
  {
   "cell_type": "markdown",
   "metadata": {
    "deletable": false,
    "nbgrader": {
     "cell_type": "markdown",
     "checksum": "ab8966bfa41224e3345e4cd4fcbf9749",
     "grade": true,
     "grade_id": "cell-dcc45d9028355b73",
     "locked": false,
     "points": 4,
     "schema_version": 3,
     "solution": true,
     "task": false
    }
   },
   "source": [
    "The smallest value of $n$ for which Stirling's Approximation would be good to 4 decimal places of precision is at $n \\approx 1450$"
   ]
  },
  {
   "cell_type": "markdown",
   "metadata": {
    "deletable": false,
    "editable": false,
    "nbgrader": {
     "cell_type": "markdown",
     "checksum": "cd90ff755df8108c8a6c809b037ef098",
     "grade": false,
     "grade_id": "cell-6968179660613369",
     "locked": true,
     "schema_version": 3,
     "solution": false
    }
   },
   "source": [
    "## Question 2\n",
    "\n",
    "[4 pts] Given the Taylor polynomial expansions\n",
    "\n",
    "$$\\frac{1}{1-\\Delta x} = 1 + \\Delta x + \\Delta x^2 + \\Delta x^3 + O(\\Delta x^4)$$\n",
    "\n",
    "and\n",
    "\n",
    "$$\\cosh \\Delta x = 1 + \\frac{\\Delta x^2}{2!} + \\frac{\\Delta x^4}{4!} + O(\\Delta x^6)$$\n",
    "\n",
    "determine the order of approximation for their sum and product (determine the exponent that belongs in the $O$).\n"
   ]
  },
  {
   "cell_type": "markdown",
   "metadata": {
    "deletable": false,
    "nbgrader": {
     "cell_type": "markdown",
     "checksum": "77d458abae3cfa5157eca11bd346e444",
     "grade": true,
     "grade_id": "cell-8500724062567566",
     "locked": false,
     "points": 4,
     "schema_version": 3,
     "solution": true
    }
   },
   "source": [
    "## Solution\n",
    "\n",
    "For small values of $\\Delta x$, $f+g=p+q+O(\\Delta x^r)$ where:\n",
    "$$\n",
    "f(\\Delta x) = p(\\Delta x) + O(\\Delta x^n)\n",
    "$$\n",
    "$$\n",
    "g(\\Delta x) = q(\\Delta x) + O(\\Delta x^m)\n",
    "$$\n",
    "$$\n",
    "r = min(n,m)\n",
    "$$\n",
    "So, we have:\n",
    "$$\n",
    "\\frac{1}{1-\\Delta x} + \\cosh(\\Delta x) = (1+\\Delta x + \\Delta x^2 + \\Delta x^3 + O(\\Delta x^4))+(1+\\frac{\\Delta x^2}{2!}+\\frac{\\Delta x^4}{4!} + O(\\Delta x^6))\n",
    "$$\n",
    "\n",
    "We have that $r=min(4,6)=4$ so:\n",
    "$$\n",
    "\\frac{1}{1-\\Delta x} + \\cosh(\\Delta x) = 2+\\Delta x + \\Delta x^3+\\frac{3 \\Delta x^2}{2}+\\frac{\\Delta x^4}{24}+ O(\\Delta x^4)\n",
    "$$\n",
    "$$\n",
    "\\fbox { $= 2+\\Delta x +\\frac{3 \\Delta x^2}{2}+\\Delta x^3 +O(\\Delta x^4)$}\n",
    "$$\n",
    "\n",
    "Then for $(\\frac{1}{1-\\Delta x})(\\cosh \\Delta x):$\n",
    "\n",
    "$$\n",
    "f \\cdot g = p \\cdot q + O(\\Delta x^r)\n",
    "$$\n",
    "\n",
    "$$\n",
    "(\\frac{1}{1-\\Delta x})(\\cosh \\Delta x) = (1+\\Delta x + \\Delta x^2 + \\Delta x^3)(1+\\frac{\\Delta x^2}{2!}+\\frac{\\Delta x^4}{4!})+O(\\Delta x^4)\n",
    "$$\n",
    "We then have:\n",
    "$$\n",
    "(\\frac{1}{1-\\Delta x})(\\cosh \\Delta x)=1 + \\Delta x + \\frac{3 \\Delta x^2}{2} + \\frac{3 \\Delta x^3}{2} + \\frac{13 \\Delta x^4}{24} + \\frac{13 \\Delta x^5}{24} + \\frac{\\Delta x^6}{24} + \\frac{\\Delta x^7}{24} + O(\\Delta x^4)\n",
    "$$\n",
    "Finally:\n",
    "$$\n",
    "(\\frac{1}{1-\\Delta x})(\\cosh \\Delta x)=\\fbox{$1 + \\Delta x + \\frac{3 \\Delta x^2}{2} + \\frac{3 \\Delta x^3}{2} + O(\\Delta x^4)$}\n",
    "$$"
   ]
  },
  {
   "cell_type": "markdown",
   "metadata": {
    "deletable": false,
    "editable": false,
    "nbgrader": {
     "cell_type": "markdown",
     "checksum": "237fcd7151c710b1c2fe86744794671b",
     "grade": false,
     "grade_id": "cell-5632471080286207",
     "locked": true,
     "schema_version": 3,
     "solution": false
    }
   },
   "source": [
    "## Question 3:  The great Exp challenge...\n",
    "\n",
    "Here you will attempt to write a function to calculate $e^x$ using its Taylor polynomial approximation expanded around $x_0=0$\n",
    "\n",
    "$$e^x \\approx T_n(x) = 1 + x + \\frac{x^2}{2!} + \\frac{x^3}{3!} + \\cdots + \\frac{x^n}{n!}$$\n",
    "\n",
    "such that the relative error of $f=e^x$ and $F=T_n(x)$ is of order Machine epsilon ($\\epsilon_{machine}$) for  $x\\in[-50,50]$.  This problem is actually a bit of a stinker and takes a bit of thought (particularly for $x<0$).  But I'll work you through it."
   ]
  },
  {
   "cell_type": "markdown",
   "metadata": {
    "deletable": false,
    "editable": false,
    "nbgrader": {
     "cell_type": "markdown",
     "checksum": "d16eac32cec2913a95095d153a7994b7",
     "grade": false,
     "grade_id": "cell-8186992197557199",
     "locked": true,
     "schema_version": 3,
     "solution": false
    }
   },
   "source": [
    "**(a)** [4 pts] Assume $x> 0$ and show that the upper bound on the *relative error*  at term $n$ \n",
    "\n",
    "$$r_n = \\frac{|e^x - T_n(x)|}{|e^x|}$$\n",
    "\n",
    "is given by\n",
    "\n",
    "$$r_n \\leq \\left | \\frac{x^{n+1}}{(n + 1)!} \\right |$$"
   ]
  },
  {
   "cell_type": "markdown",
   "metadata": {
    "deletable": false,
    "nbgrader": {
     "cell_type": "markdown",
     "checksum": "c066945aa96e6e08fcb676cf3b3e08f3",
     "grade": true,
     "grade_id": "cell-2747685663052674",
     "locked": false,
     "points": 4,
     "schema_version": 3,
     "solution": true
    }
   },
   "source": [
    "## Solution\n",
    "\n",
    "We have that $e^x = T_n(x) = R_n(x)$ where $R_n(x)$ is the residual with:\n",
    "\n",
    "$$\n",
    "R_n = \\frac{f^{n+1}(c)(x-x_{0})^{n+1}}{(n+1)!}\n",
    "$$\n",
    "\n",
    "Then: \n",
    "\n",
    "$$\n",
    "r_n = \\frac {|e^x - T_n(x)|}{|e^x|} = \\frac {|R_n(x)|}{|e^x|}\n",
    "$$\n",
    "\n",
    "That becomes: (Note: $x_0 = 0$)\n",
    "\n",
    "$$\n",
    "r_n=\\frac{f^{n+1}(c)(x-x_{0})^{n+1}}{(n+1)!|e^x|} = \\frac{e^cx^{n+1}}{(n+1)!|e^x|} \\leq \\frac{x^{n+1}}{(n+1)!}\n",
    "$$"
   ]
  },
  {
   "cell_type": "markdown",
   "metadata": {
    "deletable": false,
    "editable": false,
    "nbgrader": {
     "cell_type": "markdown",
     "checksum": "0d99909b59608e280edc2f24b68c644e",
     "grade": false,
     "grade_id": "cell-4678254376542691",
     "locked": true,
     "schema_version": 3,
     "solution": false
    }
   },
   "source": [
    "**(b)** [4 pts] Analytically show that for large $x$ and $n$, $r_n \\leq \\epsilon_{\\text{machine}}$ implies that we need at least $n > e \\cdot x$ terms in the series (where $e = \\text{exp}(1)$).\n",
    "\n",
    "*Hint* Use Stirling's approximation $log (n!) \\approx n~log~n - n$."
   ]
  },
  {
   "cell_type": "markdown",
   "metadata": {
    "deletable": false,
    "nbgrader": {
     "cell_type": "markdown",
     "checksum": "8152aede9f1e1f429a231ee2b82df69c",
     "grade": true,
     "grade_id": "cell-4305745011657702",
     "locked": false,
     "points": 4,
     "schema_version": 3,
     "solution": true
    }
   },
   "source": [
    "## Solution\n",
    "\n",
    "We need to show that:\n",
    "\n",
    "$$\n",
    "\\frac{x^{n+1}}{(n+1)!} \\leq \\epsilon_{machine}\n",
    "$$\n",
    "\n",
    "We then have:\n",
    "\n",
    "$$\n",
    "x^{n+1}<(n+1)!\n",
    "$$\n",
    "\n",
    "Taking $log$ of both sides:\n",
    "\n",
    "$$\n",
    "(n+1)log(x) < (n+1)log(n+1)-(n+1)\n",
    "$$\n",
    "$$\n",
    "log(x) < log(n+1) - 1 \n",
    "$$\n",
    "$$\n",
    "log(x) + 1 <log(n+1) \n",
    "$$\n",
    "$$\n",
    "log(x) + log(e) < log(n+1)\n",
    "$$\n",
    "\n",
    "For large values of $n$, $log(n+1) = log(n)$:\n",
    "\n",
    "$$\n",
    "log(x) + log(e) < log(n)\n",
    "$$\n",
    "$$\n",
    "log(e \\cdot x) < log(n)\n",
    "$$\n",
    "$$\n",
    "n > e \\cdot x\n",
    "$$\n",
    "\n",
    "We are done."
   ]
  },
  {
   "cell_type": "markdown",
   "metadata": {
    "deletable": false,
    "editable": false,
    "nbgrader": {
     "cell_type": "markdown",
     "checksum": "b1f116abbde0e2ff962c5fcb4ab286ae",
     "grade": false,
     "grade_id": "cell-8048500717179941",
     "locked": true,
     "schema_version": 3,
     "solution": false
    }
   },
   "source": [
    "**(c)** [6 pts] Use this result to write a Python function that accurately approximates $e^x$ using $T_n(x)$ for scalar $x$ and returns both the estimate and the number of terms in the series.  Note that the testing tolerance will be $8 \\cdot \\epsilon_{\\text{machine}}$ over the range $x\\in[-50,50]$\n",
    "\n",
    "Make sure to document your code including expected inputs, outputs, and assumptions being made.\n",
    "\n",
    "Some Hints:\n",
    "* To make your life easier,  we will assume $x$ and $Tn(x)$ are just of type float (not arrays)\n",
    "* Think about how we evaluated polynomials efficiently in class\n",
    "* $T_N(x)$ for $x<0$ is a highly unstable alternating series with severe cancellation issues. However, there is a simple fix that will return accurate solutions independent of the sign of $x$"
   ]
  },
  {
   "cell_type": "code",
   "execution_count": 8,
   "metadata": {
    "deletable": false,
    "nbgrader": {
     "cell_type": "code",
     "checksum": "80286c759520479af4ce906ac70f62e5",
     "grade": false,
     "grade_id": "cell-5914967225034965",
     "locked": false,
     "schema_version": 3,
     "solution": true,
     "task": false
    }
   },
   "outputs": [],
   "source": [
    "def Tn_exp(x):\n",
    "    \"\"\" Write a decent description here\n",
    "    \n",
    "    Function to calculate e^x using Taylor series approximation about x0 = 0\n",
    "    \n",
    "    Parameters:\n",
    "    -----------\n",
    "        x: float\n",
    "            scalar value to approximate exp(x)\n",
    "    \"\"\"\n",
    "    assert(isinstance(x,float))\n",
    "    \n",
    "    use_inv = False\n",
    "    if x<0:\n",
    "        x = abs(x)\n",
    "        use_inv = True\n",
    "        \n",
    "    MAX_N = int(numpy.ceil(3*x))+50\n",
    "    \n",
    "    p = []\n",
    "    for n in range(MAX_N + 1):\n",
    "        p.append(1 / factorial(n))    \n",
    "    p.reverse()    \n",
    "    \n",
    "    Tn = p[0]\n",
    "    for coefficient in p[1:]:\n",
    "        Tn = Tn * x + coefficient\n",
    "        \n",
    "    if use_inv:\n",
    "        Tn = 1/Tn\n",
    "\n",
    "                        \n",
    "    \n",
    "    return Tn, MAX_N"
   ]
  },
  {
   "cell_type": "code",
   "execution_count": 9,
   "metadata": {
    "deletable": false,
    "editable": false,
    "nbgrader": {
     "cell_type": "code",
     "checksum": "4462a62a8a268cb02646317c28222126",
     "grade": true,
     "grade_id": "cell-9688375319882602",
     "locked": true,
     "points": 6,
     "schema_version": 3,
     "solution": false
    }
   },
   "outputs": [
    {
     "name": "stdout",
     "output_type": "stream",
     "text": [
      "maxmimum relative error = 4.252190255480811 eps_machine\n",
      "Success!\n"
     ]
    }
   ],
   "source": [
    "x = numpy.linspace(-50, 50, 101)\n",
    "eps = numpy.finfo(float).eps\n",
    "tolerance = 8 * eps\n",
    "\n",
    "answer = numpy.zeros(x.shape)\n",
    "N = numpy.zeros(x.shape)\n",
    "for i,xi in enumerate(x):\n",
    "    answer[i], N[i] = Tn_exp(xi)\n",
    "r = numpy.abs(answer - numpy.exp(x)) / numpy.abs(numpy.exp(x))\n",
    "print('maxmimum relative error = {} eps_machine'.format(r.max()/eps))\n",
    "assert(numpy.all(r  < tolerance))\n",
    "print(\"Success!\")"
   ]
  },
  {
   "cell_type": "markdown",
   "metadata": {
    "deletable": false,
    "editable": false,
    "nbgrader": {
     "cell_type": "markdown",
     "checksum": "2b1d4a353e51fbba1658f5a6968d1b42",
     "grade": false,
     "grade_id": "cell-c154452f653c5adc",
     "locked": true,
     "schema_version": 3,
     "solution": false,
     "task": false
    }
   },
   "source": [
    "**(d)** [4 pts] In ieee double precision,  the largest value of $x$ that has $e^x<$ `numpy.finfo(float).max` is about 709 (i.e. `numpy.log(numpy.finfo(float).max))`. \n",
    "\n",
    "* What is the relative error in units of machine epsilon for your routine and `f=numpy.exp(709)`\n",
    "* What is the relative error in units of machine epsilon for `F=numpy.exp(1)**709` and `f=numpy.exp(709)`\n",
    "\n",
    "Explain your results"
   ]
  },
  {
   "cell_type": "code",
   "execution_count": 33,
   "metadata": {},
   "outputs": [
    {
     "name": "stdout",
     "output_type": "stream",
     "text": [
      "Relative Error is: 4503599627370496.0 machine epsilons.\n",
      "Relative Error is: 170.0702257577037 machine epsilons.\n"
     ]
    }
   ],
   "source": [
    "#Check Relative Error in units of machine epsilon between f=numpy.exp(709) and my routine\n",
    "\n",
    "f = numpy.exp(709)\n",
    "F = Tn_exp(709.)[0]\n",
    "\n",
    "rel_error = abs(f-F)/abs(f)\n",
    "print(\"Relative Error is:\",rel_error/eps,\"machine epsilons.\")\n",
    "\n",
    "#Check relative error in units of machine epsilon between numpy.exp(1)**709 and numpy.exp(709)\n",
    "d = numpy.exp(709)\n",
    "D = numpy.exp(1)**709\n",
    "\n",
    "rel_error2 = abs(d - D) / abs(d)\n",
    "print(\"Relative Error is:\",rel_error2/eps, \"machine epsilons.\")"
   ]
  },
  {
   "cell_type": "markdown",
   "metadata": {
    "deletable": false,
    "nbgrader": {
     "cell_type": "markdown",
     "checksum": "a5a47ab9f08e7fe4764609703387ef9d",
     "grade": true,
     "grade_id": "cell-26e754d164cf2a3a",
     "locked": false,
     "points": 4,
     "schema_version": 3,
     "solution": true,
     "task": false
    }
   },
   "source": [
    "## Solution\n",
    "\n",
    "Relative Error is: 4503599627370496.0 machine epsilons. <br>\n",
    "(Between f = numpy.exp(709) and my routine)\n",
    "\n",
    "Relative Error is: 170.0702257577037 machine epsilons. <br>\n",
    "(Between f = numpy.exp(709) and F = numpy.exp(1)**709"
   ]
  },
  {
   "cell_type": "markdown",
   "metadata": {
    "deletable": false,
    "editable": false,
    "nbgrader": {
     "cell_type": "markdown",
     "checksum": "7acaa725abfd22229bddd35f652e4b57",
     "grade": false,
     "grade_id": "cell-aaa3ac7c64bd5868",
     "locked": true,
     "schema_version": 3,
     "solution": false,
     "task": false
    }
   },
   "source": [
    "**(e)** **Extra Credit**\n",
    "\n",
    "[4 pts] Can you modify your routine for `Tn_exp(x)`) to approximate $e^x$ on the range $x\\in[-709, 709]$ to within 16 $\\epsilon_{machine}$?\n"
   ]
  },
  {
   "cell_type": "code",
   "execution_count": null,
   "metadata": {
    "deletable": false,
    "nbgrader": {
     "cell_type": "code",
     "checksum": "9c184e65af5b8e5f46c673245638f9ef",
     "grade": false,
     "grade_id": "cell-28a21d2a7d0bda99",
     "locked": false,
     "schema_version": 3,
     "solution": true,
     "task": false
    }
   },
   "outputs": [],
   "source": [
    "# YOUR CODE HERE\n",
    "raise NotImplementedError()"
   ]
  },
  {
   "cell_type": "code",
   "execution_count": null,
   "metadata": {
    "deletable": false,
    "editable": false,
    "nbgrader": {
     "cell_type": "code",
     "checksum": "47c964bd17be30e90d2a8b03d580466c",
     "grade": true,
     "grade_id": "cell-96883753198883843",
     "locked": true,
     "points": 0,
     "schema_version": 3,
     "solution": false
    }
   },
   "outputs": [],
   "source": [
    "x = numpy.linspace(-709, 709, 101)\n",
    "tolerance = 16 * eps\n",
    "\n",
    "answer = numpy.zeros(x.shape)\n",
    "N = numpy.zeros(x.shape)\n",
    "for i,xi in enumerate(x):\n",
    "    answer[i], N[i] = Tn_exp(xi, tolerance=tolerance)\n",
    "r = numpy.abs(answer - numpy.exp(x)) / numpy.abs(numpy.exp(x))\n",
    "print('maxmimum relative error = {} eps_machine'.format(r.max()/eps))\n",
    "assert(numpy.all(r  < tolerance))\n",
    "print(\"Success!\")"
   ]
  },
  {
   "cell_type": "markdown",
   "metadata": {
    "deletable": false,
    "editable": false,
    "nbgrader": {
     "cell_type": "markdown",
     "checksum": "4cf2d7b203d87a2041de63aebcfb15c9",
     "grade": false,
     "grade_id": "cell-6605000347660435",
     "locked": true,
     "schema_version": 3,
     "solution": false
    }
   },
   "source": [
    "## Question 4\n",
    "\n",
    "Consider a computing system that uses deoxyribonucleic acid (DNA) to store information.  Given that DNA is formed from the 4 nucleobases adenine, cytosine, guanine, and thymine (uracil is only found in RNA) let us assume that our storage of numbers will be base 4.  Answer the following questions based on this assuming that we have $p=3$ for the mantissa and the exponent $E \\in [-2, 2]$."
   ]
  },
  {
   "cell_type": "markdown",
   "metadata": {
    "deletable": false,
    "editable": false,
    "nbgrader": {
     "cell_type": "markdown",
     "checksum": "47f4d67565808d7f75e55f0689f21dd6",
     "grade": false,
     "grade_id": "cell-9339658002746268",
     "locked": true,
     "schema_version": 3,
     "solution": false
    }
   },
   "source": [
    "**(a)** [4 pts] Calculate how many numbers can we represent with this system?  What are the underflow and overflow limits?"
   ]
  },
  {
   "cell_type": "markdown",
   "metadata": {
    "deletable": false,
    "nbgrader": {
     "cell_type": "markdown",
     "checksum": "b0255974fb370e1c331638d41f074ddf",
     "grade": true,
     "grade_id": "cell-623b625975f5da41",
     "locked": false,
     "points": 4,
     "schema_version": 3,
     "solution": true
    }
   },
   "source": [
    "## Solution\n",
    "\n",
    "To calculate the numbers we can represent with this system:\n",
    "$$d_1 = [1,2,3]$$\n",
    "$$d_2 = [0,1,2,3]$$\n",
    "$$d_3 = [0,1,2,3] $$\n",
    "$$E = [-2,-1,0,1,2]$$\n",
    "$$f = \\pm d_1.d_2d_3 \\times 4^E = 2 \\times 3 \\times 4 \\times 4\\times 5 + 1 = 481 $$\n",
    "\n",
    "Underflow: $1.00 \\times 10^{-2} = 0.01$ <br>\n",
    "Overflow: $3.33 \\times 10^2= 333$"
   ]
  },
  {
   "cell_type": "markdown",
   "metadata": {
    "deletable": false,
    "editable": false,
    "nbgrader": {
     "cell_type": "markdown",
     "checksum": "29c7fc5ca0808f62a6b35897f3fbbe87",
     "grade": false,
     "grade_id": "cell-9339658dsfsdf46268",
     "locked": true,
     "schema_version": 3,
     "solution": false
    }
   },
   "source": [
    "**(b)** [4pts] Graphically show how the numbers on the decimal real line are distributed."
   ]
  },
  {
   "cell_type": "code",
   "execution_count": 13,
   "metadata": {
    "deletable": false,
    "nbgrader": {
     "cell_type": "code",
     "checksum": "b95cccb5e3723bc4ebd7a1a10500f39a",
     "grade": true,
     "grade_id": "cell-4c6d3ae47566d1f1",
     "locked": false,
     "points": 4,
     "schema_version": 3,
     "solution": true
    }
   },
   "outputs": [
    {
     "data": {
      "image/png": "[encoded data removed]",
      "text/plain": [
       "<Figure size 720x72 with 1 Axes>"
      ]
     },
     "metadata": {
      "needs_background": "light"
     },
     "output_type": "display_data"
    }
   ],
   "source": [
    "# YOUR CODE HERE\n",
    "\n",
    "d_1_values = [1,2,3]\n",
    "d_2_values = [0,1,2,3]\n",
    "d_3_values = [0,1,2,3]\n",
    "E_values = [2,1,0,-1,-2]\n",
    "\n",
    "fig = plt.figure(figsize=(10.0, 1.0))\n",
    "axes = fig.add_subplot(1, 1, 1)\n",
    "\n",
    "for E in E_values:\n",
    "    for d1 in d_1_values:\n",
    "        for d2 in d_2_values:\n",
    "            for d3 in d_3_values:\n",
    "                axes.plot( (d1 + d2 + d3 * 0.25) * 4**E, 0.0, 'r+', markersize=20)\n",
    "                axes.plot(-(d1 + d2 + d3 * 0.25) * 4**E, 0.0, 'r+', markersize=20)\n",
    "            \n",
    "axes.plot(0.0, 0.0, 'r+', markersize=20)\n",
    "axes.plot([-150, 150], [0.0, 0.0], 'k')\n",
    "\n",
    "axes.set_title(\"Distribution of Values\")\n",
    "axes.set_yticks([])\n",
    "axes.set_xlabel(\"x\")\n",
    "axes.set_ylabel(\"\")\n",
    "axes.set_xlim([-150,150])\n",
    "plt.show()"
   ]
  },
  {
   "cell_type": "markdown",
   "metadata": {
    "deletable": false,
    "editable": false,
    "nbgrader": {
     "cell_type": "markdown",
     "checksum": "7bf4d21af32acd12ada842602e2343ad",
     "grade": false,
     "grade_id": "cell-93396552502746268",
     "locked": true,
     "schema_version": 3,
     "solution": false
    }
   },
   "source": [
    "**(c)** [4 pts] How many more numbers can we store in $N$ base-pairs (base 4) versus $N$ bits (base 2) where the mantissa and exponent are the same relative length (e.g.  p=3, and $E\\in[-2,2]$ for both problems)?"
   ]
  },
  {
   "cell_type": "markdown",
   "metadata": {
    "deletable": false,
    "nbgrader": {
     "cell_type": "markdown",
     "checksum": "16825fa4b75b7fc34d854b1653fe64b8",
     "grade": true,
     "grade_id": "cell-6de5d8dbf91c5ff7",
     "locked": false,
     "points": 4,
     "schema_version": 3,
     "solution": true
    }
   },
   "source": [
    "From part (a), we saw that in base 4, our number of represenstations with $p=3$ and $E \\in [-2,-2]$ is: \n",
    "\n",
    "$$ 2 \\times 3 \\times 4 \\times 4 \\times 5+1 = 481$$\n",
    "<br>\n",
    "For base 2: <br>\n",
    "$d_1 = [1,2,3]$ <br>\n",
    "$d_2 = [0,1,2,3]$ <br>\n",
    "$d_3 = [0,1,2,3]$ <br>\n",
    "$E = [-2,-1,0,1,2]$ <br>\n",
    "<br>\n",
    "That gives us: $2 \\times 1 \\times 2 \\times 2 \\times 5 + 1 = 41$ as the number of representations. <br>\n",
    "That means we can store $481 - 41 = 440$ more numbers."
   ]
  }
 ],
 "metadata": {
  "kernelspec": {
   "display_name": "Python 3",
   "language": "python",
   "name": "python3"
  },
  "language_info": {
   "codemirror_mode": {
    "name": "ipython",
    "version": 3
   },
   "file_extension": ".py",
   "mimetype": "text/x-python",
   "name": "python",
   "nbconvert_exporter": "python",
   "pygments_lexer": "ipython3",
   "version": "3.7.3"
  },
  "latex_envs": {
   "bibliofile": "biblio.bib",
   "cite_by": "apalike",
   "current_citInitial": 1,
   "eqLabelWithNumbers": true,
   "eqNumInitial": 0
  }
 },
 "nbformat": 4,
 "nbformat_minor": 4
}
