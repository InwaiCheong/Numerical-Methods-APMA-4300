{
 "cells": [
  {
   "cell_type": "markdown",
   "metadata": {},
   "source": [
    "Before you turn this problem in, make sure everything runs as expected. First, **restart the kernel** (in the menubar, select Kernel$\\rightarrow$Restart) and then **run all cells** (in the menubar, select Cell$\\rightarrow$Run All).\n",
    "\n",
    "Make sure you fill in any place that says `YOUR CODE HERE` or \"YOUR ANSWER HERE\", as well as your name and collaborators below:"
   ]
  },
  {
   "cell_type": "code",
   "execution_count": 1,
   "metadata": {},
   "outputs": [],
   "source": [
    "NAME = \"In Wai Cheong\"\n",
    "COLLABORATORS = \"\""
   ]
  },
  {
   "cell_type": "markdown",
   "metadata": {},
   "source": [
    "---"
   ]
  },
  {
   "cell_type": "code",
   "execution_count": 2,
   "metadata": {},
   "outputs": [],
   "source": [
    "from __future__ import print_function\n",
    "import numpy\n",
    "import matplotlib.pyplot as plt\n",
    "import warnings\n",
    "\n",
    "%matplotlib inline\n"
   ]
  },
  {
   "cell_type": "markdown",
   "metadata": {
    "deletable": false,
    "editable": false,
    "nbgrader": {
     "cell_type": "markdown",
     "checksum": "896aee8be036699e78bc884285e0b02f",
     "grade": false,
     "grade_id": "cell-7752050701682384",
     "locked": true,
     "schema_version": 3,
     "solution": false
    }
   },
   "source": [
    "# HW 3:  Root Finding and Optimization"
   ]
  },
  {
   "cell_type": "markdown",
   "metadata": {
    "deletable": false,
    "editable": false,
    "nbgrader": {
     "cell_type": "markdown",
     "checksum": "79deda1fff66c5437b0dc524ed7eb9a6",
     "grade": false,
     "grade_id": "cell-8382527651811313",
     "locked": true,
     "schema_version": 3,
     "solution": false
    }
   },
   "source": [
    "## Question 1 - Fun with Fixed Point iteration\n",
    "\n",
    "Let's say that we wanted to calculate $\\sqrt{M}$ given that $M \\in \\mathbb{R}$ and $M > 0$ and that we did not want to use the function `sqrt` directly.  Consider the function \n",
    "\n",
    "$$\n",
    "    f(x) = x^2 - M\n",
    "$$\n",
    "\n",
    "which has a positive root at at $x=\\sqrt{M}$.   Here we will try to solve this using  fixed point iteration\n",
    "\n",
    "$$\n",
    "    x_{k+1} = g(x_k)\n",
    "$$\n",
    "for several different iteration functions $g(x)$ (see below)\n",
    "\n",
    "For each function $g$:\n",
    "\n",
    "- Confirm analytically that $x=\\sqrt{M}$ is a fixed point of $g(x)$\n",
    "- Analyze the convergence behavior close to the fixed-point and determine the stability of the iterative scheme\n",
    "- Now set $M=3$  and $x_0 = 2$.  Make a nicely labeled convergence plot showing the log of the relative error as a function of iteration. How many iterations are required to reduce the relative error to machine precision (if it converges)?"
   ]
  },
  {
   "cell_type": "markdown",
   "metadata": {
    "deletable": false,
    "editable": false,
    "nbgrader": {
     "cell_type": "markdown",
     "checksum": "47d9ae565a714b67099b1500b01a4250",
     "grade": false,
     "grade_id": "cell-7408468548362671",
     "locked": true,
     "schema_version": 3,
     "solution": false
    }
   },
   "source": [
    "**(a)** [4] To help with the last part,  write a short python function to return N iterations of a fixed point iteration."
   ]
  },
  {
   "cell_type": "code",
   "execution_count": 3,
   "metadata": {
    "deletable": false,
    "nbgrader": {
     "cell_type": "code",
     "checksum": "ce6bb68ac251ae8857aeb9060c313a74",
     "grade": false,
     "grade_id": "cell-5217816963816529",
     "locked": false,
     "schema_version": 3,
     "solution": true
    }
   },
   "outputs": [],
   "source": [
    "def fixed_point(g, x0, N=5):\n",
    "    \"\"\"conduct N iterations of the fixed point iteration x_{k+1} = g(x_k)\n",
    "    \n",
    "    :Input:\n",
    "        - *g* (function) - The iteration function\n",
    "        - *x_0* (float) - Initial iterate\n",
    "        - *N* (int) - number of terms in iteration\n",
    "     \n",
    "    :Output:\n",
    "        x: numpy array (float)\n",
    "            array containing the iterations [ x0, x1, ... x_N ]\n",
    "    \"\"\"\n",
    "    x = numpy.empty(N+1)\n",
    "    x[0] = x0\n",
    "    for i in range(1,N+1):\n",
    "        x[i] = g(x[i-1])\n",
    "    return x"
   ]
  },
  {
   "cell_type": "code",
   "execution_count": 4,
   "metadata": {
    "deletable": false,
    "editable": false,
    "nbgrader": {
     "cell_type": "code",
     "checksum": "6688603955b612c29a55e747ca6a5060",
     "grade": true,
     "grade_id": "cell-5409919424122382",
     "locked": true,
     "points": 4,
     "schema_version": 3,
     "solution": false
    }
   },
   "outputs": [
    {
     "name": "stdout",
     "output_type": "stream",
     "text": [
      "success!\n"
     ]
    }
   ],
   "source": [
    "N = 5\n",
    "g = lambda x: numpy.cos(x)\n",
    "x0 = 1.\n",
    "answer = numpy.array([1., 0.54030231, 0.85755322, 0.65428979,\n",
    "                      0.79348036, 0.70136877])\n",
    "x_true = 0.7390851332153119\n",
    "\n",
    "x = fixed_point(g, x0, N )\n",
    "numpy.testing.assert_allclose(x, answer)\n",
    "x = fixed_point(g, x0, 1000)\n",
    "numpy.testing.assert_almost_equal(x[-1],x_true)\n",
    "print('success!')"
   ]
  },
  {
   "cell_type": "markdown",
   "metadata": {
    "deletable": false,
    "editable": false,
    "nbgrader": {
     "cell_type": "markdown",
     "checksum": "14b5f732f5aa0e3b5cfeac176c46d19c",
     "grade": false,
     "grade_id": "cell-2533433274902651",
     "locked": true,
     "schema_version": 3,
     "solution": false
    }
   },
   "source": [
    "**(b)** [6] analyze the problem with \n",
    "$$ g(x) = 1 + x - \\frac{x^2}{M}$$"
   ]
  },
  {
   "cell_type": "markdown",
   "metadata": {
    "deletable": false,
    "nbgrader": {
     "cell_type": "markdown",
     "checksum": "f8553ede2a496f25fd88744bab86b8fa",
     "grade": true,
     "grade_id": "cell-340019030337399",
     "locked": false,
     "points": 4,
     "schema_version": 3,
     "solution": true,
     "task": false
    }
   },
   "source": [
    "## Analysis\n",
    "\n",
    "We know that $\\sqrt{3}\\approx 1.732$. This function appears to converge to about that value after 3 iterations."
   ]
  },
  {
   "cell_type": "code",
   "execution_count": 5,
   "metadata": {
    "deletable": false,
    "nbgrader": {
     "cell_type": "code",
     "checksum": "66593b36237eae76e22a265b4684604c",
     "grade": true,
     "grade_id": "cell-9ea67719fcf6c873",
     "locked": false,
     "points": 2,
     "schema_version": 3,
     "solution": true,
     "task": false
    }
   },
   "outputs": [
    {
     "data": {
      "image/png": "[encoded data removed]",
      "text/plain": [
       "<Figure size 432x288 with 1 Axes>"
      ]
     },
     "metadata": {
      "needs_background": "light"
     },
     "output_type": "display_data"
    }
   ],
   "source": [
    "M = 3\n",
    "x0 = 2.\n",
    "g = lambda x: 1 + x - x**2/M\n",
    "\n",
    "x = range(6)\n",
    "y = fixed_point(g,x0,N=5)\n",
    "plt.plot(x,y)\n",
    "plt.grid()\n"
   ]
  },
  {
   "cell_type": "markdown",
   "metadata": {
    "deletable": false,
    "editable": false,
    "nbgrader": {
     "cell_type": "markdown",
     "checksum": "631a3e4c05e43db09ece645a93dd948c",
     "grade": false,
     "grade_id": "cell-2533433274adsfadf1",
     "locked": true,
     "schema_version": 3,
     "solution": false
    }
   },
   "source": [
    " **(c)** [6] analyze the problem with \n",
    "$$ g(x) = \\frac{M}{x}$$"
   ]
  },
  {
   "cell_type": "markdown",
   "metadata": {
    "deletable": false,
    "nbgrader": {
     "cell_type": "markdown",
     "checksum": "4b9b505f2509ac5d4d21866f8f8735d0",
     "grade": true,
     "grade_id": "cell-340019030h348fqoi",
     "locked": false,
     "points": 4,
     "schema_version": 3,
     "solution": true,
     "task": false
    }
   },
   "source": [
    "## Analysis\n",
    "\n",
    "$g(x)$ does not appear to converge to any value as it oscillates between $2.0$ and $1.5$"
   ]
  },
  {
   "cell_type": "code",
   "execution_count": 6,
   "metadata": {
    "deletable": false,
    "nbgrader": {
     "cell_type": "code",
     "checksum": "6c9dca5ab2f0c288ab63abef4316b2d8",
     "grade": true,
     "grade_id": "cell-9ea67238r9y",
     "locked": false,
     "points": 2,
     "schema_version": 3,
     "solution": true,
     "task": false
    }
   },
   "outputs": [
    {
     "data": {
      "image/png": "[encoded data removed]",
      "text/plain": [
       "<Figure size 432x288 with 1 Axes>"
      ]
     },
     "metadata": {
      "needs_background": "light"
     },
     "output_type": "display_data"
    }
   ],
   "source": [
    "# YOUR CODE HERE\n",
    "M = 3\n",
    "x0 = 2.\n",
    "g = lambda x: 3/x\n",
    "\n",
    "x = range(20)\n",
    "y = fixed_point(g,x0,N=19)\n",
    "plt.plot(x,y)\n",
    "plt.grid()"
   ]
  },
  {
   "cell_type": "markdown",
   "metadata": {
    "deletable": false,
    "editable": false,
    "nbgrader": {
     "cell_type": "markdown",
     "checksum": "521bc3485b0df7e70bafc0267d87be69",
     "grade": false,
     "grade_id": "cell-253343327982308ufu",
     "locked": true,
     "schema_version": 3,
     "solution": false
    }
   },
   "source": [
    "**(d)** [6] Newton's method\n",
    "$$ g(x) = x - \\frac{f}{f'}$$\n",
    "\n",
    "with $$ f = x^2 - M$$"
   ]
  },
  {
   "cell_type": "markdown",
   "metadata": {
    "deletable": false,
    "nbgrader": {
     "cell_type": "markdown",
     "checksum": "064fb95869cb3acd441daafd5640ee52",
     "grade": true,
     "grade_id": "cell-340019030oijq234roi",
     "locked": false,
     "points": 4,
     "schema_version": 3,
     "solution": true,
     "task": false
    }
   },
   "source": [
    "## Analysis\n",
    "\n",
    "Using Newton's method, we see that it converges to approximately $\\sqrt{3}$ after 2 iterations."
   ]
  },
  {
   "cell_type": "code",
   "execution_count": 7,
   "metadata": {
    "deletable": false,
    "nbgrader": {
     "cell_type": "code",
     "checksum": "b795766d15cc991f6dc7ab679c1e4d50",
     "grade": true,
     "grade_id": "cell-9ea67719fouerouh",
     "locked": false,
     "points": 2,
     "schema_version": 3,
     "solution": true,
     "task": false
    }
   },
   "outputs": [
    {
     "data": {
      "image/png": "[encoded data removed]",
      "text/plain": [
       "<Figure size 432x288 with 1 Axes>"
      ]
     },
     "metadata": {
      "needs_background": "light"
     },
     "output_type": "display_data"
    }
   ],
   "source": [
    "x0 = 2\n",
    "g = lambda x: x - ((x**2 - 3) / (2*x))\n",
    "\n",
    "x = range(5)\n",
    "y = fixed_point(g,x0,N=4)\n",
    "plt.plot(x,y)\n",
    "plt.grid()\n"
   ]
  },
  {
   "cell_type": "markdown",
   "metadata": {
    "deletable": false,
    "editable": false,
    "nbgrader": {
     "cell_type": "markdown",
     "checksum": "12ab348d1c0c6d702bf45b47b04b77c1",
     "grade": false,
     "grade_id": "cell-5084202108adoiu923",
     "locked": true,
     "schema_version": 3,
     "solution": false
    }
   },
   "source": [
    "## Question 2 - Fun with Rootfinders and NewtSafe\n",
    "\n",
    "This problem will explore the behavior of a range of different rootfinding routines against  a more challenging rootfinding problem.  Feel free to use all of the routines presented in class which have been included through the convenience cell\n",
    "\n",
    "`%run rootfinding_optimization_schemes.ipynb`\n",
    "\n",
    "You need to have this notebook in the same directory with your homework for this notebook to validate"
   ]
  },
  {
   "cell_type": "code",
   "execution_count": 8,
   "metadata": {},
   "outputs": [
    {
     "name": "stdout",
     "output_type": "stream",
     "text": [
      "functions loaded correctly\n"
     ]
    }
   ],
   "source": [
    "#  Cell to load and test at least newton's method from class\n",
    "\n",
    "%run rootfinding_optimization_schemes.ipynb\n",
    "\n",
    "# set test function and it's derivative\n",
    "f = lambda x: numpy.cos(x) - x\n",
    "f_prime = lambda x: -numpy.sin(x) - 1.\n",
    "\n",
    "#set initial guess and call newton\n",
    "x0 = 1.\n",
    "x, x_array = newton(f, f_prime, x0,tol=1.e-12)\n",
    "\n",
    "# run tests\n",
    "answer = 0.7390851332151606\n",
    "N = 5\n",
    "numpy.testing.assert_almost_equal(x, answer)\n",
    "numpy.testing.assert_almost_equal(N, len(x_array))\n",
    "print(\"functions loaded correctly\")"
   ]
  },
  {
   "cell_type": "markdown",
   "metadata": {
    "deletable": false,
    "editable": false,
    "nbgrader": {
     "cell_type": "markdown",
     "checksum": "f4da7f37445b10e48b4905283ab46716",
     "grade": false,
     "grade_id": "cell-08d7aa7aa9d9d246",
     "locked": true,
     "schema_version": 3,
     "solution": false,
     "task": false
    }
   },
   "source": [
    "Consider the function \n",
    "\n",
    "$$\n",
    "    f(x) = \\cos(x) +  N(x, A, \\alpha, \\beta))\n",
    "$$\n",
    "where\n",
    "\n",
    "$$\n",
    "    N(x, A, \\alpha, \\beta) =  A\\left[\\sin(\\alpha x) + \\sin(\\beta x)\\right]\n",
    "$$\n",
    "\n",
    "is a function that adds smooth additive \"noise\" with fixed amplitude $A = 0.01$ and varying frequencies $\\alpha$ and $\\beta$"
   ]
  },
  {
   "cell_type": "markdown",
   "metadata": {
    "deletable": false,
    "editable": false,
    "nbgrader": {
     "cell_type": "markdown",
     "checksum": "8c78c1f5acea85f0f75d23bcae09ff55",
     "grade": false,
     "grade_id": "cell-fadb86c67ee671d2",
     "locked": true,
     "schema_version": 3,
     "solution": false,
     "task": false
    }
   },
   "source": [
    "**(a)** [4] Make a nicely labeled plot to showing the behavior of this function for \n",
    "* $\\alpha = 0.$, $\\beta =0.$\n",
    "* $\\alpha = 4.$, $\\beta =5.$\n",
    "* $\\alpha = 27$, $\\beta = 50$\n",
    "\n",
    "over the domain $x\\in[-2\\pi, 2\\pi]$. Make sure you have enough points to resolve the wiggles"
   ]
  },
  {
   "cell_type": "code",
   "execution_count": 9,
   "metadata": {
    "deletable": false,
    "nbgrader": {
     "cell_type": "code",
     "checksum": "edc7c9bcc180f7f6c5e68c36a482e7ba",
     "grade": true,
     "grade_id": "cell-fadb86c67ee67848gr",
     "locked": false,
     "points": 4,
     "schema_version": 3,
     "solution": true,
     "task": false
    }
   },
   "outputs": [
    {
     "name": "stderr",
     "output_type": "stream",
     "text": [
      "/opt/conda/lib/python3.7/site-packages/IPython/core/events.py:88: UserWarning: Creating legend with loc=\"best\" can be slow with large amounts of data.\n",
      "  func(*args, **kwargs)\n",
      "/opt/conda/lib/python3.7/site-packages/IPython/core/pylabtools.py:128: UserWarning: Creating legend with loc=\"best\" can be slow with large amounts of data.\n",
      "  fig.canvas.print_figure(bytes_io, **kw)\n"
     ]
    },
    {
     "data": {
      "image/png": "[encoded data removed]",
      "text/plain": [
       "<Figure size 1080x360 with 1 Axes>"
      ]
     },
     "metadata": {
      "needs_background": "light"
     },
     "output_type": "display_data"
    }
   ],
   "source": [
    "A = 0.01\n",
    "\n",
    "x = numpy.arange(-2*numpy.pi,2*numpy.pi,0.0001)\n",
    "f1 = numpy.cos(x) + A*(numpy.sin(0.*x) + numpy.sin(0.*x))\n",
    "f2 = numpy.cos(x) + A*(numpy.sin(4.*x) + numpy.sin(5.*x))\n",
    "f3 = numpy.cos(x) + A*(numpy.sin(27*x) + numpy.sin(50*x))\n",
    "\n",
    "fig = plt.figure(figsize = (15,5))\n",
    "axes = fig.add_subplot(1,1,1)\n",
    "axes.set_title(\"Graph of f(x) for Various Alphas and Betas\")\n",
    "axes.set_xlabel(\"$x$\")\n",
    "axes.set_ylabel(\"$f(x)$\")\n",
    "axes.plot(x,f1,label=\"(0,0)\")\n",
    "axes.plot(x,f2,label=\"(4,5)\")\n",
    "axes.plot(x,f3,label=\"(27,50)\")\n",
    "axes.legend()\n",
    "axes.grid()\n",
    "\n"
   ]
  },
  {
   "cell_type": "markdown",
   "metadata": {
    "deletable": false,
    "editable": false,
    "nbgrader": {
     "cell_type": "markdown",
     "checksum": "7c45d25bd029e111f37fd76880111e74",
     "grade": false,
     "grade_id": "cell-cfeab33ec7437a33",
     "locked": true,
     "schema_version": 3,
     "solution": false,
     "task": false
    }
   },
   "source": [
    "**(b)** [4] Explore the behavior of the following rootfinding routines \n",
    "* bisection\n",
    "* newton\n",
    "* secant\n",
    "* scipy.optimize.brentq\n",
    "\n",
    "for finding a root of this function, given the bracket $x\\in[x_0, x_1]$ with $x_0 = 0.44$, $x_1 = 2.$ for each ($\\alpha, \\beta$) pair\n",
    "\n",
    "`params = [ (0., 0.), (4., 5.),  (27, 50.) ]`\n",
    "\n",
    "For each routine,  report\n",
    "* the root found $x^*$\n",
    "* the value of $f$ at the root $f(x^*$)\n",
    "* the number of iterations."
   ]
  },
  {
   "cell_type": "markdown",
   "metadata": {},
   "source": [
    "## Report\n",
    "\n",
    "Relative to the parameters $(0,0),(4,5),(27,50)$, the following roots were found:\n",
    "\n",
    "Bisection: $1.570796775817871, 1.5811989974975584, 1.5811989974975584$ <br>\n",
    "Newton: $1.570796326795021, -26.693932340371024, 1.5641949307360206$ <br>\n",
    "Secant: $1.570796326795379, 1.5811989738691858, 1.5641954939592606$ <br>\n",
    "Scipy.optimize: $1.570796326795379, 1.581198976494957, 1.5641954975580332$"
   ]
  },
  {
   "cell_type": "code",
   "execution_count": 10,
   "metadata": {
    "deletable": false,
    "nbgrader": {
     "cell_type": "code",
     "checksum": "e4da74b90e3a108cde24c50d129d4a41",
     "grade": true,
     "grade_id": "cell-3d03e0785ba74cee",
     "locked": false,
     "points": 4,
     "schema_version": 3,
     "solution": true,
     "task": false
    }
   },
   "outputs": [
    {
     "name": "stdout",
     "output_type": "stream",
     "text": [
      "(1.570796775817871, array([1.22      , 1.61      , 1.415     , 1.5125    , 1.56125   ,\n",
      "       1.585625  , 1.5734375 , 1.56734375, 1.57039062, 1.57191406,\n",
      "       1.57115234, 1.57077148, 1.57096191, 1.5708667 , 1.57081909,\n",
      "       1.57079529, 1.57080719, 1.57080124, 1.57079826, 1.57079678]))\n",
      "(1.5811989974975584, array([1.22      , 1.61      , 1.415     , 1.5125    , 1.56125   ,\n",
      "       1.585625  , 1.5734375 , 1.57953125, 1.58257812, 1.58105469,\n",
      "       1.58181641, 1.58143555, 1.58124512, 1.5811499 , 1.58119751,\n",
      "       1.58122131, 1.58120941, 1.58120346, 1.58120049, 1.581199  ]))\n",
      "(1.5811989974975584, array([1.22      , 1.61      , 1.415     , 1.5125    , 1.56125   ,\n",
      "       1.585625  , 1.5734375 , 1.57953125, 1.58257812, 1.58105469,\n",
      "       1.58181641, 1.58143555, 1.58124512, 1.5811499 , 1.58119751,\n",
      "       1.58122131, 1.58120941, 1.58120346, 1.58120049, 1.581199  ]))\n"
     ]
    }
   ],
   "source": [
    "#Bisection\n",
    "\n",
    "x = numpy.linspace(0.44,2,100)\n",
    "A = 0.01\n",
    "a = 0.44\n",
    "b = 2\n",
    "f1 = lambda x,a=a,b=b: numpy.cos(x) + A*(numpy.sin(0 * x) + numpy.sin(0 * x))\n",
    "f2 = lambda x,a=a,b=b: numpy.cos(x) + A*(numpy.sin(4 * x) + numpy.sin(5 * x))\n",
    "f3 = lambda x,a=a,b=b: numpy.cos(x) + A*(numpy.sin(27 * x) + numpy.sin(50 * x))\n",
    "\n",
    "print(bisection(f1,a,b,tol = 1.e-6, max_steps=1000))\n",
    "print(bisection(f2,a,b,tol = 1.e-6, max_steps=1000))\n",
    "print(bisection(f2,a,b,tol = 1.e-6, max_steps=1000))\n",
    "\n"
   ]
  },
  {
   "cell_type": "code",
   "execution_count": 11,
   "metadata": {},
   "outputs": [
    {
     "name": "stdout",
     "output_type": "stream",
     "text": [
      "(1.570796326795021, array([0.44      , 2.56413204, 1.02931879, 1.63075863, 1.57072436,\n",
      "       1.57079633]))\n",
      "(-26.693932340371024, array([  0.44      ,   3.10488242, -26.77879206, -26.68564327,\n",
      "       -26.69471923, -26.69385798, -26.69394018, -26.69393234]))\n",
      "(1.5641949307360206, array([0.44      , 1.9335424 , 0.98232257, 1.52592757, 1.59586969,\n",
      "       1.57072934, 1.56292416, 1.56472651, 1.56400338, 1.56426926,\n",
      "       1.56416778, 1.564206  , 1.56419153, 1.564197  , 1.56419493]))\n"
     ]
    }
   ],
   "source": [
    "#Newton\n",
    "\n",
    "A = 0.01\n",
    "x0 = 0.44\n",
    "\n",
    "f_prime1 = lambda x: -numpy.sin(x) + A*(0*numpy.sin(0 * x) + 0*numpy.sin(0 * x))\n",
    "f_prime2 = lambda x: -numpy.sin(x) + A*(4*numpy.sin(4 * x) + 5*numpy.sin(5 * x))\n",
    "f_prime3 = lambda x: -numpy.sin(x) + A*(27*numpy.sin(27 * x) + 50*numpy.sin(50 * x))\n",
    "\n",
    "print(newton(f1, f_prime1, x0, tol=1.e-6, max_steps=200))\n",
    "print(newton(f2, f_prime2, x0, tol=1.e-6, max_steps=200))\n",
    "print(newton(f3, f_prime3, x0, tol=1.e-6, max_steps=200))"
   ]
  },
  {
   "cell_type": "code",
   "execution_count": 12,
   "metadata": {},
   "outputs": [
    {
     "name": "stdout",
     "output_type": "stream",
     "text": [
      "(1.570796326795379, array([0.44      , 2.        , 1.50852464, 1.57245987, 1.57079528,\n",
      "       1.57079633]))\n",
      "(1.5811989738691858, array([0.44      , 2.        , 1.51868624, 1.57962445, 1.58121202,\n",
      "       1.58119897]))\n",
      "(1.5641954939592606, array([0.44      , 2.        , 1.49755239, 1.57021792, 1.56205571,\n",
      "       1.56419834, 1.56419549]))\n"
     ]
    }
   ],
   "source": [
    "#Secant\n",
    "\n",
    "A = 0.01\n",
    "x0 = 0.44\n",
    "x1 = 2\n",
    "\n",
    "print(secant(f1, x0, x1, tol=1.e-6, max_steps=100))\n",
    "print(secant(f2, x0, x1, tol=1.e-6, max_steps=100))\n",
    "print(secant(f3, x0, x1, tol=1.e-6, max_steps=100))"
   ]
  },
  {
   "cell_type": "code",
   "execution_count": 13,
   "metadata": {},
   "outputs": [
    {
     "name": "stdout",
     "output_type": "stream",
     "text": [
      "1.570796326795379\n",
      "1.581198976494957\n",
      "1.5641954975580332\n"
     ]
    }
   ],
   "source": [
    "#Scipy.optimize\n",
    "import scipy\n",
    "from scipy.optimize import brentq\n",
    "\n",
    "print(scipy.optimize.brentq(f1,0.44,2))\n",
    "print(scipy.optimize.brentq(f2,0.44,2))\n",
    "print(scipy.optimize.brentq(f3,0.44,2))"
   ]
  },
  {
   "cell_type": "markdown",
   "metadata": {
    "deletable": false,
    "editable": false,
    "nbgrader": {
     "cell_type": "markdown",
     "checksum": "b036b05cb2f912a1eb1d17b1c17fa9a9",
     "grade": false,
     "grade_id": "cell-d6c0204318b16a38",
     "locked": true,
     "schema_version": 3,
     "solution": false,
     "task": false
    }
   },
   "source": [
    "**(c)** [4] Make a convergence plot showing the relative error at each step for Newton's method for the same three parameter pairs and initial guess $x_0 = 0.44$."
   ]
  },
  {
   "cell_type": "code",
   "execution_count": 14,
   "metadata": {},
   "outputs": [],
   "source": [
    "#Defined a secondary newton's method function that returns only the arrays\n",
    "\n",
    "def newton2(f, f_prime, x0, tol=1.e-6, max_steps=200):\n",
    "    \n",
    "    MAX_STEPS = max_steps\n",
    "    \n",
    "    x = x0\n",
    "    x_array = [ x0 ]\n",
    "    for k in range(1, MAX_STEPS + 1):\n",
    "        x = x  - f(x) / f_prime(x)\n",
    "        x_array.append(x)\n",
    "        if numpy.abs(f(x)) < tol:\n",
    "            break\n",
    "        \n",
    "    if k == MAX_STEPS:\n",
    "        warnings.warn('Maximum number of steps exceeded')\n",
    "    \n",
    "    return numpy.array(x_array)"
   ]
  },
  {
   "cell_type": "code",
   "execution_count": 15,
   "metadata": {
    "deletable": false,
    "nbgrader": {
     "cell_type": "code",
     "checksum": "712e8203de014a4d1bff6c5d3589f974",
     "grade": true,
     "grade_id": "cell-03e97ced4d02bc89",
     "locked": false,
     "points": 4,
     "schema_version": 3,
     "solution": true,
     "task": false
    }
   },
   "outputs": [
    {
     "data": {
      "image/png": "[encoded data removed]",
      "text/plain": [
       "<Figure size 1080x360 with 1 Axes>"
      ]
     },
     "metadata": {
      "needs_background": "light"
     },
     "output_type": "display_data"
    }
   ],
   "source": [
    "n1 = newton2(f1, f_prime1, x0, tol=1.e-6, max_steps=200)\n",
    "n2 = newton2(f2, f_prime2, x0, tol=1.e-6, max_steps=200)\n",
    "n3 = newton2(f3, f_prime3, x0, tol=1.e-6, max_steps=200)\n",
    "x = numpy.linspace(-2*numpy.pi,2*numpy.pi,6)\n",
    "x2 = numpy.linspace(-2*numpy.pi,2*numpy.pi,8)\n",
    "x3 = numpy.linspace(-2*numpy.pi,2*numpy.pi,15)\n",
    "\n",
    "aa = numpy.abs(1.570796326795379 - n1) / numpy.abs(1.570796326795379)\n",
    "bb = numpy.abs(1.581198976494957 - n2) / numpy.abs(1.581198976494957)\n",
    "cc = numpy.abs(1.5641954975580332 - n3) / numpy.abs(1.5641954975580332)\n",
    "\n",
    "\n",
    "\n",
    "fig = plt.figure(figsize = (15,5))\n",
    "axes = fig.add_subplot(1,1,1)\n",
    "axes.set_title(\"Plot of Relative Errors for Newton's Method with Various Parameters\")\n",
    "axes.set_xlabel(\"$x$\")\n",
    "axes.set_ylabel(\"Relative Error\")\n",
    "axes.plot(x,aa,label=\"(0,0)\")\n",
    "axes.plot(x2,bb, label=\"(4,5)\")\n",
    "axes.plot(x3,cc,label=\"(27,50)\")\n",
    "\n",
    "axes.legend()\n",
    "axes.grid()\n"
   ]
  },
  {
   "cell_type": "markdown",
   "metadata": {
    "deletable": false,
    "editable": false,
    "nbgrader": {
     "cell_type": "markdown",
     "checksum": "70fefc052f23433ee74c5a6a595fba1d",
     "grade": false,
     "grade_id": "cell-688d9772c0ee0353",
     "locked": true,
     "schema_version": 3,
     "solution": false,
     "task": false
    }
   },
   "source": [
    "**(d)** [4] Briefly explain your results so far.  Feel free to play with other initial parameters or to make additional plots.  "
   ]
  },
  {
   "cell_type": "markdown",
   "metadata": {
    "deletable": false,
    "nbgrader": {
     "cell_type": "markdown",
     "checksum": "2fd45f3d0ef415e1263944f18cb82175",
     "grade": true,
     "grade_id": "cell-0d30efbc8418cd82",
     "locked": false,
     "points": 4,
     "schema_version": 3,
     "solution": true,
     "task": false
    }
   },
   "source": [
    "## Analysis\n",
    "\n",
    "The parameters $(0,0)$ and $(27,50)$ seems to approach a relative error of near $0$ but the $(4,5)$ parameter diverges for some reason."
   ]
  },
  {
   "cell_type": "markdown",
   "metadata": {
    "deletable": false,
    "editable": false,
    "nbgrader": {
     "cell_type": "markdown",
     "checksum": "9b3a3baccc553835c7d1de54b71de58d",
     "grade": false,
     "grade_id": "cell-6a13f75d54677dab",
     "locked": true,
     "schema_version": 3,
     "solution": false,
     "task": false
    }
   },
   "source": [
    "**(e)** [6] *Basins of Attraction* For the noisiest model $(\\alpha=27, \\beta=50)$, make a plot of the final root $x^*$ that Newton finds as a function of initial guess $x_0\\in [0.4, 2.]$ (hint plt.ylim is your friend).  Can you estimate the width of the smooth basin of attraction near the root $x^*\\approx\\pi/2$?"
   ]
  },
  {
   "cell_type": "code",
   "execution_count": 16,
   "metadata": {
    "deletable": false,
    "nbgrader": {
     "cell_type": "code",
     "checksum": "a6e26448c928f4a4d77389f6736c413f",
     "grade": true,
     "grade_id": "cell-342803285585956c",
     "locked": false,
     "points": 4,
     "schema_version": 3,
     "solution": true,
     "task": false
    }
   },
   "outputs": [
    {
     "name": "stderr",
     "output_type": "stream",
     "text": [
      "/opt/conda/lib/python3.7/site-packages/ipykernel_launcher.py:40: UserWarning: Maximum number of steps exceeded\n"
     ]
    },
    {
     "data": {
      "image/png": "[encoded data removed]",
      "text/plain": [
       "<Figure size 576x432 with 2 Axes>"
      ]
     },
     "metadata": {
      "needs_background": "light"
     },
     "output_type": "display_data"
    }
   ],
   "source": [
    "# YOUR CODE HERE\n",
    "x = numpy.linspace(-2*numpy.pi,2*numpy.pi)\n",
    "x_root = numpy.zeros(x.shape)\n",
    "N_steps = numpy.zeros(x.shape)\n",
    "for i,x0 in enumerate(x):\n",
    "    x_root[i], x_root_array = newton(f3, f_prime3, x0)\n",
    "    N_steps[i] = len(x_root_array)\n",
    "\n",
    "y = numpy.linspace(-2,2)\n",
    "X,Y = numpy.meshgrid(x,y)\n",
    "X_root = numpy.outer(numpy.ones(y.shape),x_root)\n",
    "\n",
    "plt.figure(figsize=(8, 6))\n",
    "plt.pcolor(X, Y, X_root,vmin=-5, vmax=5,cmap='seismic')\n",
    "cbar = plt.colorbar()\n",
    "cbar.set_label('$x_{root}$', fontsize=18)\n",
    "plt.plot(x, f3(x), 'k-')\n",
    "plt.plot(x, numpy.zeros(x.shape),'k--', linewidth=0.5)\n",
    "plt.xlabel('x', fontsize=16)\n",
    "plt.title('Basins of Attraction of f(x)', fontsize=18)\n",
    "plt.show()    \n"
   ]
  },
  {
   "cell_type": "markdown",
   "metadata": {
    "deletable": false,
    "nbgrader": {
     "cell_type": "markdown",
     "checksum": "25542023eb0abaf0d7a822960bc8d01d",
     "grade": true,
     "grade_id": "cell-8c851327617cd6d4",
     "locked": false,
     "points": 2,
     "schema_version": 3,
     "solution": true,
     "task": false
    }
   },
   "source": [
    "YOUR ANSWER HERE"
   ]
  },
  {
   "cell_type": "markdown",
   "metadata": {
    "deletable": false,
    "editable": false,
    "nbgrader": {
     "cell_type": "markdown",
     "checksum": "a8e0f8b89f1e80776e10fe87d31604f7",
     "grade": false,
     "grade_id": "cell-b46861a6140bb51d",
     "locked": true,
     "schema_version": 3,
     "solution": false,
     "task": false
    }
   },
   "source": [
    "**(e)** [6] Write a controlled Newton routine `NewtSafe`,  that finds a root with an initial bracket by combining newton steps with a bisection routine.  The basic algorithm is to first try Newton from the midpoint of the bracket.  If Newton predicts a solution outside of the bracket, ignore it and take a bisection step instead.  You can use and modify any of the rootfinding routines I presented in class, but write a decent docstring and raise appropriate exceptions as necessary. \n",
    "\n",
    "The routine should return the best estimate of the root and number of Newton Steps and the number of bisection steps\n",
    "\n",
    "x, N_newt, N_bisection = newtsafe(f, f_prime, a, b)"
   ]
  },
  {
   "cell_type": "code",
   "execution_count": 17,
   "metadata": {
    "deletable": false,
    "nbgrader": {
     "cell_type": "code",
     "checksum": "0e9201068ce8be5e660e87c3ce4a3e21",
     "grade": false,
     "grade_id": "cell-a20f6d1abec7c19d",
     "locked": false,
     "schema_version": 3,
     "solution": true,
     "task": false
    }
   },
   "outputs": [],
   "source": [
    "def newtsafe(f,f_prime,a,b,tol = 1.e-6, max_steps=1000):\n",
    "    \"\"\" Please improve this docstring\n",
    "           \n",
    "    Parameters:\n",
    "    -----------\n",
    "    \n",
    "    f: function (float)\n",
    "        function giving f(x)\n",
    "    f_prime:  function (float)\n",
    "        function giving derivative of f with respect to x\n",
    "    a: float\n",
    "        left bracket a < x\n",
    "    b: float\n",
    "        right bracket x < b\n",
    "        \n",
    "        Note:  the signs of f(a) and f(b) must be different to insure a bracket\n",
    "    tol: float\n",
    "        tolerance.  Returns when |f((a+b)/2)| < tol\n",
    "    max_steps: int\n",
    "        maximum number of iteration steps\n",
    "        \n",
    "    Returns:\n",
    "    --------\n",
    "    x: float\n",
    "        midpoint of final bracket\n",
    "    n_newt:  number of newton steps for successful newton iteration\n",
    "    n_bisection: number of bisection steps\n",
    "        \n",
    "    Raises:\n",
    "    -------\n",
    "    ValueError:  \n",
    "        if initial bracket is invalid \n",
    "    Warning: \n",
    "        if number of iterations exceed MAX_STEPS\n",
    "    Prints warning if Newton exceeds the bracket\n",
    "    \n",
    "    \"\"\"\n",
    "    # YOUR CODE HERE\n",
    "\n",
    "    n_newt = 0\n",
    "    n_bisection = 0\n",
    "    x = (a+b)/2\n",
    "    x_array = [x]\n",
    "    \n",
    "    #Bracket Check\n",
    "    if numpy.sign(f(a)) == numpy.sign(f(b)):\n",
    "        raise ValueError(\"no bracket: f(a) and f(b) must have different signs\")\n",
    "        \n",
    "    for step in range(1, max_steps + 1):\n",
    "        if numpy.abs(f(x)) < tol:\n",
    "            break  \n",
    "        #Newton Step\n",
    "        x_new = x - f(x) / f_prime(x)\n",
    "        if x_new<a or x_new>b:\n",
    "            #Bisection Step\n",
    "            n_bisection += 1\n",
    "            if (numpy.sign(f(a)) != numpy.sign(f(x))):\n",
    "                b = x\n",
    "            else:\n",
    "                a = x\n",
    "            delta_x = b - a\n",
    "            x_new = a + delta_x / 2.0\n",
    "        else:\n",
    "            n_newt += 1\n",
    "        x = x_new\n",
    "        x_array.append(x)\n",
    "\n",
    "        if step == max_steps:\n",
    "            warnings.warn('Maximum number of steps exceeded')\n",
    "        \n",
    "    return x, n_newt, n_bisection\n",
    "\n"
   ]
  },
  {
   "cell_type": "code",
   "execution_count": 18,
   "metadata": {
    "deletable": false,
    "editable": false,
    "nbgrader": {
     "cell_type": "code",
     "checksum": "300a3aa574777a0f0ef515829141c6dc",
     "grade": true,
     "grade_id": "cell-7cdbdbda9ca86f82",
     "locked": true,
     "points": 6,
     "schema_version": 3,
     "solution": false,
     "task": false
    }
   },
   "outputs": [
    {
     "name": "stdout",
     "output_type": "stream",
     "text": [
      "Bracket  = [-0.68309670780092, 2.642524050776319]\n",
      "Newton   = 12.052997501142706,    N   = 200\n",
      "NewtSafe = 1.2719479757131404,    N_n = 118, N_b = 1\n",
      "brentq   = 1.2719484732512498,    N   = 9\n",
      "\n",
      "Bracket  = [-0.7104536143852529, 3.8152626763086603]\n",
      "Newton   = 1.088499606524573,    N   = 6\n",
      "NewtSafe = 1.088499606524573,    N_n = 6, N_b = 0\n",
      "brentq   = 1.088499013515958,    N   = 13\n",
      "\n",
      "Bracket  = [-0.5236057894835726, 3.9067882124238986]\n",
      "Newton   = 1.1106145034417199,    N   = 10\n",
      "NewtSafe = 1.1106145034417199,    N_n = 10, N_b = 0\n",
      "brentq   = 1.1106142646873127,    N   = 11\n",
      "\n",
      "Bracket  = [-0.5275356434135271, 2.4988039593212776]\n",
      "Newton   = 8.943400174973013,    N   = 200\n",
      "NewtSafe = 1.3248585504689192,    N_n = 63, N_b = 1\n",
      "brentq   = 1.3248590968150393,    N   = 9\n",
      "\n",
      "Bracket  = [-0.3534683303763972, 3.9130408021252014]\n",
      "Newton   = 14.145648952501228,    N   = 64\n",
      "NewtSafe = 1.1473187650756176,    N_n = 16, N_b = 2\n",
      "brentq   = 1.1473182519138232,    N   = 9\n",
      "\n",
      "no bracket: f(a) and f(b) must have different signs\n",
      "success!\n"
     ]
    },
    {
     "name": "stderr",
     "output_type": "stream",
     "text": [
      "/opt/conda/lib/python3.7/site-packages/ipykernel_launcher.py:40: UserWarning: Maximum number of steps exceeded\n"
     ]
    }
   ],
   "source": [
    "a = 27\n",
    "b = 50\n",
    "A = 0.3\n",
    "f = lambda x: numpy.cos(x) + A*(numpy.sin(a * x) + numpy.sin(b * x))\n",
    "f_prime = lambda x: -numpy.sin(x) + A*(a*numpy.sin(a * x) + b*numpy.sin(b * x))\n",
    "\n",
    "pi = numpy.pi\n",
    "\n",
    "brackets = [ \n",
    "            (-0.68309670780092, 2.642524050776319),\n",
    "            (-0.7104536143852529, 3.8152626763086603),\n",
    "            (-0.5236057894835726, 3.9067882124238986),\n",
    "            (-0.5275356434135271, 2.4988039593212776),\n",
    "            (-0.3534683303763972, 3.9130408021252014)\n",
    "           ]\n",
    "\n",
    "for bracket in brackets:\n",
    "    #a = numpy.random.uniform(low=-pi/4, high=pi/4)\n",
    "    #b = numpy.random.uniform(low=3*pi/4, high=5*pi/4)\n",
    "    a = bracket[0]\n",
    "    b = bracket[1]\n",
    "    x_n, x_array = newton(f, f_prime, (a + b)/2.)\n",
    "    x_ns, N_n, N_b = newtsafe(f, f_prime, a, b)\n",
    "    x_b, res = brentq(f, a, b, full_output=True)\n",
    "    print('Bracket  = [{}, {}]'.format(a, b))\n",
    "    print('Newton   = {},    N   = {}'.format(x_n, len(x_array)-1))\n",
    "    print('NewtSafe = {},    N_n = {}, N_b = {}'.format(x_ns, N_n, N_b))\n",
    "    print('brentq   = {},    N   = {}'.format(x_b, res.iterations))\n",
    "    print()\n",
    "    numpy.testing.assert_almost_equal(x_ns, x_b,decimal=6)\n",
    "    \n",
    "try:\n",
    "    x_ns, N_n, N_b = newtsafe(f, f_prime, 1.6, 2.0)\n",
    "except ValueError as err:\n",
    "    print(err)\n",
    "    pass\n",
    "\n",
    "print('success!')\n"
   ]
  },
  {
   "cell_type": "markdown",
   "metadata": {
    "deletable": false,
    "editable": false,
    "nbgrader": {
     "cell_type": "markdown",
     "checksum": "3f996b1f730e38a5fff4828d12937615",
     "grade": false,
     "grade_id": "cell-508420840igovo948yh23",
     "locked": true,
     "schema_version": 3,
     "solution": false
    }
   },
   "source": [
    "## Question 3 - Solve some \"real\" rootfinding problems\n",
    "\n",
    "Each of the following math problems will lead to a non-linear function of a single variable that will require solution by rootfinding.  For each problem, derive the non-linear function and use the rootfinding routine of your choice (or try several),  to determine the numerical solution."
   ]
  },
  {
   "cell_type": "markdown",
   "metadata": {
    "deletable": false,
    "editable": false,
    "nbgrader": {
     "cell_type": "markdown",
     "checksum": "85a5e97e3df0ce372ec5d7618d583bf7",
     "grade": false,
     "grade_id": "cell-3f4f0535e4abc84f",
     "locked": true,
     "schema_version": 3,
     "solution": false,
     "task": false
    }
   },
   "source": [
    "**(a)** [8] provide a numerical solution for the number of terms $n$ in the Taylor polynomial expansion of exp(x) (i.e. $T_N(x))$ such that the relative error is\n",
    "\n",
    "$$\n",
    "    r = \\left| \\frac{x^{n+1}}{(n + 1)!} \\right| \\approx \\epsilon_{mach}\n",
    "$$ \n",
    "\n",
    "Give solutions for x = 10,100, 709, 1000 and compare your numerical solution to the approximate solution given in last homework \n",
    "\n",
    "$$\n",
    "    n > e*x\n",
    "$$\n",
    "\n",
    "by calculating the relative error between the your numerical solution and your simpler estimate.\n",
    "\n",
    "Note: To make this problem easier, just use Stirling’s approximation $\\log(n!) \\approx n \\log n − n$. which will work quite well.  However, for a little bit of extra credit solve this for the full problem and compare solutions.\n"
   ]
  },
  {
   "cell_type": "markdown",
   "metadata": {
    "deletable": false,
    "nbgrader": {
     "cell_type": "markdown",
     "checksum": "b68b95d0b33a72562c80bc1c8831d3ac",
     "grade": true,
     "grade_id": "cell-8fc4ebbf43da6dff",
     "locked": false,
     "points": 4,
     "schema_version": 3,
     "solution": true,
     "task": false
    }
   },
   "source": [
    "## Solution\n",
    "\n",
    "For our previous homework routine, for $x=10,100,709,1000$, our number of terms are <br>\n",
    "$80, 350, 2177, 3050$ terms, respectively <br>\n",
    "\n",
    "For our numerical routine, our number of numbers are <br>\n",
    "$26, 271, 1926, 2717$ terms, respectively."
   ]
  },
  {
   "cell_type": "code",
   "execution_count": 27,
   "metadata": {},
   "outputs": [
    {
     "name": "stdout",
     "output_type": "stream",
     "text": [
      "For x = 10, 80 terms.\n",
      "For x = 100, 350 terms.\n",
      "For x = 709, 2177 terms.\n",
      "For x = 1000, 3050 terms.\n"
     ]
    }
   ],
   "source": [
    "#Approximate solution from last homework\n",
    "\n",
    "def Tn_exp(x):\n",
    "\n",
    "    assert(isinstance(x,float))\n",
    "    \n",
    "    use_inv = False\n",
    "    if x<0:\n",
    "        x = abs(x)\n",
    "        use_inv = True\n",
    "        \n",
    "    MAX_N = int(numpy.ceil(3*x))+50\n",
    "    \n",
    "    p = []\n",
    "    for n in range(MAX_N + 1):\n",
    "        p.append(1 / factorial(n))    \n",
    "    p.reverse()    \n",
    "    \n",
    "    Tn = p[0]\n",
    "    for coefficient in p[1:]:\n",
    "        Tn = Tn * x + coefficient\n",
    "        \n",
    "    if use_inv:\n",
    "        Tn = 1/Tn\n",
    "\n",
    "    return MAX_N\n",
    "\n",
    "print(\"For x = 10,\",Tn_exp(10.),\"terms.\")\n",
    "print(\"For x = 100,\",Tn_exp(100.),\"terms.\")\n",
    "print(\"For x = 709,\",Tn_exp(709.),\"terms.\")\n",
    "print(\"For x = 1000,\",Tn_exp(1000.),\"terms.\")"
   ]
  },
  {
   "cell_type": "code",
   "execution_count": 90,
   "metadata": {
    "deletable": false,
    "nbgrader": {
     "cell_type": "code",
     "checksum": "11099c9f28135df32eed257aca68662a",
     "grade": true,
     "grade_id": "cell-963aac8426927a48",
     "locked": false,
     "points": 4,
     "schema_version": 3,
     "solution": true,
     "task": false
    }
   },
   "outputs": [
    {
     "name": "stdout",
     "output_type": "stream",
     "text": [
      "(26.182815983178017, array([10.        , 19.95158802, 25.40676659, 26.17163345, 26.18281598]))\n",
      "(270.8281805513369, array([ 10.        ,  45.28002405, 127.2169445 , 223.56511584,\n",
      "       266.45805735, 270.79286426, 270.82818055]))\n",
      "(1926.2617672330164, array([  10.        ,   66.82556279,  293.83204922,  847.36437891,\n",
      "       1543.48577501, 1885.44917241, 1925.82659899, 1926.26176723]))\n",
      "(2717.281293897734, array([  10.        ,   70.60846007,  331.01563657, 1029.10282035,\n",
      "       2028.65420966, 2621.58635225, 2715.57725547, 2717.2812939 ]))\n"
     ]
    }
   ],
   "source": [
    "# YOUR CODE HERE\n",
    "\n",
    "x = 10.\n",
    "x0 = 10\n",
    "f = lambda n: numpy.log(x) + 1 - numpy.log(n+1)\n",
    "f_prime = lambda n: -1/(n+1)\n",
    "print(newton(f, f_prime, x0, tol=1.e-6, max_steps=200))\n",
    "\n",
    "x = 100.\n",
    "x0 = 10\n",
    "f = lambda n: numpy.log(x) + 1 - numpy.log(n+1)\n",
    "f_prime = lambda n: -1/(n+1)\n",
    "print(newton(f, f_prime, x0, tol=1.e-6, max_steps=200))\n",
    "\n",
    "x = 709.\n",
    "x0 = 10\n",
    "f = lambda n: numpy.log(x) + 1 - numpy.log(n+1)\n",
    "f_prime = lambda n: -1/(n+1)\n",
    "print(newton(f, f_prime, x0, tol=1.e-6, max_steps=200))\n",
    "\n",
    "x = 1000.\n",
    "x0 = 10\n",
    "f = lambda n: numpy.log(x) + 1 - numpy.log(n+1)\n",
    "f_prime = lambda n: -1/(n+1)\n",
    "print(newton(f, f_prime, x0, tol=1.e-6, max_steps=200))\n",
    "\n"
   ]
  },
  {
   "cell_type": "code",
   "execution_count": null,
   "metadata": {},
   "outputs": [],
   "source": []
  }
 ],
 "metadata": {
  "kernelspec": {
   "display_name": "Python 3",
   "language": "python",
   "name": "python3"
  },
  "language_info": {
   "codemirror_mode": {
    "name": "ipython",
    "version": 3
   },
   "file_extension": ".py",
   "mimetype": "text/x-python",
   "name": "python",
   "nbconvert_exporter": "python",
   "pygments_lexer": "ipython3",
   "version": "3.7.3"
  }
 },
 "nbformat": 4,
 "nbformat_minor": 4
}
