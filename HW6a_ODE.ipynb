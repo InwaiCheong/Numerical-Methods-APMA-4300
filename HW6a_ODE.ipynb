{
 "cells": [
  {
   "cell_type": "markdown",
   "metadata": {},
   "source": [
    "Before you turn this problem in, make sure everything runs as expected. First, **restart the kernel** (in the menubar, select Kernel$\\rightarrow$Restart) and then **run all cells** (in the menubar, select Cell$\\rightarrow$Run All).\n",
    "\n",
    "Make sure you fill in any place that says `YOUR CODE HERE` or \"YOUR ANSWER HERE\", as well as your name and collaborators below:"
   ]
  },
  {
   "cell_type": "code",
   "execution_count": 1,
   "metadata": {},
   "outputs": [],
   "source": [
    "NAME = \"In Wai Cheong\"\n",
    "COLLABORATORS = \"\""
   ]
  },
  {
   "cell_type": "markdown",
   "metadata": {},
   "source": [
    "---"
   ]
  },
  {
   "cell_type": "code",
   "execution_count": 2,
   "metadata": {},
   "outputs": [],
   "source": [
    "from __future__ import print_function\n",
    "%matplotlib inline\n",
    "%precision 16\n",
    "import numpy\n",
    "import matplotlib.pyplot as plt\n",
    "from scipy.integrate import solve_ivp"
   ]
  },
  {
   "cell_type": "markdown",
   "metadata": {
    "deletable": false,
    "editable": false,
    "nbgrader": {
     "cell_type": "markdown",
     "checksum": "49d57ebf64a029476473660a85b86eb4",
     "grade": false,
     "grade_id": "cell-6282430347078978",
     "locked": true,
     "schema_version": 3,
     "solution": false
    }
   },
   "source": [
    "# HW 6a:  ODE Methods - Initial Value Problems\n",
    "\n",
    "These questions will use a mixture of scipy routines and hand-rolled ODE solver methods (which you can use from the notes)"
   ]
  },
  {
   "cell_type": "markdown",
   "metadata": {
    "deletable": false,
    "editable": false,
    "nbgrader": {
     "cell_type": "markdown",
     "checksum": "a4378a0e4fd8359b91a2776e8f3c21ef",
     "grade": false,
     "grade_id": "cell-97c426ce43130f77",
     "locked": true,
     "schema_version": 3,
     "solution": false,
     "task": false
    }
   },
   "source": [
    "## Question 1 - The SIR model for Infectious diseases\n",
    "\n",
    "ODE based models are a classical approach to understanding the spread of infectious diseases.\n",
    "\n",
    "One of the pioneering models is the SIR model of [Kermack and McKendrick, (1927)](https://royalsocietypublishing.org/doi/10.1098/rspa.1927.0118) which is a mean-field theory for large populations that assumes the general population can be divided into three subgroups\n",
    "\n",
    "* $S$: the number of susceptible patients\n",
    "* $I$: the number of infected patients\n",
    "* $R$: the number of recovered (or otherwise) patients\n",
    "\n",
    "Given these definitions, the simplest dynamical systems for the three populations can be written\n",
    "\n",
    "$$\n",
    "\\begin{aligned}\n",
    "\\frac{d S}{dt} &= -\\alpha SI \\\\\n",
    "\\frac{d I}{dt} &= \\alpha SI -\\beta I\\\\\n",
    "\\frac{d R}{dt} &= \\beta I \\\\\n",
    "\\end{aligned}\n",
    "$$\n",
    "\n",
    "where $\\alpha$ is the infection rate per person, and $\\beta$ is the recovery rate (hint: check the units) \n",
    "\n",
    "This is the original Kermack and McKendrick model.  We will discuss a host of themes and variations later.  If you are interested [Siettos and Russo, (2013)](https://doi.org/10.4161/viru.24041) provides a short overview of the much larger field of epidemiology modeling (although this paper has some significant mistakes with respect to the analysis of the Kermack and McKendrick model).\n",
    "\n",
    "We will explore this problem through a combination of Analysis and Numerical methods and to use it to test different methods for ODE solvers.\n"
   ]
  },
  {
   "cell_type": "markdown",
   "metadata": {
    "deletable": false,
    "editable": false,
    "nbgrader": {
     "cell_type": "markdown",
     "checksum": "9d56e0a3dcd650ebafd65482f9f8284c",
     "grade": false,
     "grade_id": "cell-d57d5cccd5fe437a",
     "locked": true,
     "schema_version": 3,
     "solution": false,
     "task": false
    }
   },
   "source": [
    "**(a)** [4] First try to explain in words,  what this system of ODE's describes"
   ]
  },
  {
   "cell_type": "markdown",
   "metadata": {
    "deletable": false,
    "hide_input": true,
    "nbgrader": {
     "cell_type": "markdown",
     "checksum": "3a50bb5fe5e3cea6be689f0f83eba3d5",
     "grade": true,
     "grade_id": "cell-78f1cbd4419916a6",
     "locked": false,
     "points": 4,
     "schema_version": 3,
     "solution": true,
     "task": false
    }
   },
   "source": [
    "## Solution\n",
    "\n",
    "The ODE describes the changes in the three populations over time, and it also explains the exponential rise and fall of the number of infected people. This model can also be used to predict what fraction of the population is infected. However, this model is very simplisitic in that it doesn't take into account of age, pre-existing conditions, and other factors that can affect populations in the three subgroups."
   ]
  },
  {
   "cell_type": "markdown",
   "metadata": {
    "deletable": false,
    "editable": false,
    "nbgrader": {
     "cell_type": "markdown",
     "checksum": "3e7da362e36e2899edc51b912997f7fe",
     "grade": false,
     "grade_id": "cell-c02805feb94b785b",
     "locked": true,
     "schema_version": 3,
     "solution": false,
     "task": false
    }
   },
   "source": [
    "### Some analysis.  \n",
    "\n",
    "Here we will conduct some elementary dimensional analysis to reduce the parameter space.  More detailed analysis of this system can be found  Steve Strogatz' excellent text on [dynamical systems](https://smile.amazon.com/Nonlinear-Dynamics-Chaos-Applications-Nonlinearity/dp/0813349109/ref=dp_ob_image_bk)"
   ]
  },
  {
   "cell_type": "markdown",
   "metadata": {
    "deletable": false,
    "editable": false,
    "nbgrader": {
     "cell_type": "markdown",
     "checksum": "e0ff12772c25324e8cf54b989bfe15a1",
     "grade": false,
     "grade_id": "cell-28b8298c72a5a12c",
     "locked": true,
     "schema_version": 3,
     "solution": false,
     "task": false
    }
   },
   "source": [
    "**(b)** [2] Show that the SIR equations imply that   $S + I + R = N$  where $N$ is a constant (the total population of susceptible people that can all interact)"
   ]
  },
  {
   "cell_type": "markdown",
   "metadata": {
    "deletable": false,
    "nbgrader": {
     "cell_type": "markdown",
     "checksum": "f2f763bc3313b8cace5cadf627a502d3",
     "grade": true,
     "grade_id": "cell-0faef9786658c554",
     "locked": false,
     "points": 2,
     "schema_version": 3,
     "solution": true,
     "task": false
    }
   },
   "source": [
    "## Solution\n",
    "\n",
    "Integration all three equations with respect to $dt$, we will get:\n",
    "\n",
    "$$\n",
    "S = -\\alpha SIt + C \\\\\n",
    "I = \\alpha SIt - \\beta It + C\\\\\n",
    "R = \\beta It + C\n",
    "$$\n",
    "\n",
    "Adding:\n",
    "\n",
    "$$\n",
    "S+I+R= (-\\alpha SIt + C)+(\\alpha SIt - \\beta It + C)+(\\beta It + C) \\\\\n",
    "S+I+R = 3C\n",
    "$$\n",
    "\n",
    "$3C$ is a constant, and denoting this constant by $N$ yields our result:\n",
    "\n",
    "$$\n",
    "S+I+R=N\n",
    "$$\n",
    "\n",
    "<br>"
   ]
  },
  {
   "cell_type": "markdown",
   "metadata": {
    "deletable": false,
    "editable": false,
    "nbgrader": {
     "cell_type": "markdown",
     "checksum": "3a58cb6d7898d03ebb9587b9b4fda4b1",
     "grade": false,
     "grade_id": "cell-b89ec7cd57121b35",
     "locked": true,
     "schema_version": 3,
     "solution": false,
     "task": false
    }
   },
   "source": [
    "**(c)**  [4] Show that under  the change of variables (linear scaling of the variables)\n",
    "\n",
    "$$\n",
    "\\begin{matrix}\n",
    "    S = N s, & I = Ni, & R = Nr, & t = \\tau\\frac{1}{\\alpha N} \\\\\n",
    "\\end{matrix}\n",
    "$$\n",
    "\n",
    "The original equations can be rewritten as the scaled equations \n",
    "\n",
    "$$\n",
    "\\begin{align}\n",
    "    \\frac{d s}{d\\tau} &= -si\\\\\n",
    "    \\frac{d i}{d\\tau} &= (s - s^*)i  \\\\\n",
    "    \\frac{d r}{d\\tau} & = s^* i \\\\\n",
    "\\end{align}\n",
    "$$\n",
    "\n",
    "where \n",
    "$$\n",
    "    s^* = \\frac{\\beta}{\\alpha N}\n",
    "$$\n",
    "\n",
    "\n",
    "\n",
    "**Notes**,  \n",
    "* if we write $s = S/N$ etc. then $s$ is simply the fraction of the total population that is susceptible.  \n",
    "* Also show that $s + i + r = 1$.\n",
    "* this scaling reduces a two-parameter problem to a one parameter problem where the only variable is $s^*$\n",
    "\n"
   ]
  },
  {
   "cell_type": "markdown",
   "metadata": {
    "deletable": false,
    "nbgrader": {
     "cell_type": "markdown",
     "checksum": "8c3c68b4bd0e77099fcee9fcae1a50a3",
     "grade": true,
     "grade_id": "cell-6f14e3bb8e908989",
     "locked": false,
     "points": 4,
     "schema_version": 3,
     "solution": true,
     "task": false
    }
   },
   "source": [
    "## Solution\n",
    "\n",
    "Let us first show that $s+i+r=1$\n",
    "\n",
    "$$\n",
    "s+i+r = \\frac{S}{N} + \\frac{I}{N} + \\frac{R}{N} \\\\\n",
    "s+i+r = \\frac{S+I+R}{N} \\\\\n",
    "s+i+r = \\frac{N}{N} = 1\n",
    "$$\n",
    "\n",
    "With our change our variables, our $S,I,R$ becomes:\n",
    "\n",
    "$$\n",
    "Ns = -\\alpha NsNi \\frac{\\tau}{\\alpha N} + C = -siN\\tau + C \\implies s = -si\\tau + \\frac{C}{N} \\\\\n",
    "Ni = \\frac{\\alpha NsNi \\tau}{\\alpha N} - \\frac{\\beta Ni \\tau}{\\alpha N} + C \\implies i = si\\tau + \\frac{\\beta i\\tau}{\\alpha N} + \\frac{C}{N} \\\\\n",
    "Nr = \\frac{\\beta Ni\\tau}{\\alpha N} + C = \\frac{\\beta i\\tau}{\\alpha} + C \\implies r = \\frac{\\beta i\\tau}{\\alpha N} + \\frac{C}{N}\n",
    "$$\n",
    "\n",
    "So our three equations are now:\n",
    "\n",
    "$$\n",
    "\\begin{align}\n",
    "s &= -si\\tau + \\frac{C}{N} \\\\\n",
    "i &= si\\tau + \\frac{\\beta i\\tau}{\\alpha N} + \\frac{C}{N} \\\\\n",
    "r &= \\frac{\\beta i\\tau}{\\alpha N} + \\frac{C}{N}\n",
    "\\end{align}\n",
    "$$\n",
    "\n",
    "Taking derivatives with respect to $\\tau$:\n",
    "\n",
    "$$\n",
    "\\begin{align}\n",
    "\\frac{ds}{d\\tau} &= -si \\\\\n",
    "\\frac{di}{d\\tau} &= si + \\frac{\\beta i}{\\alpha N} = i(s - \\frac{\\beta}{\\alpha N}) \\\\\n",
    "\\frac{dr}{d\\tau} &= i\\frac{\\beta}{\\alpha N}\n",
    "\\end{align}\n",
    "$$\n",
    "\n",
    "Letting $s^* = \\frac{\\beta}{\\alpha N}$:\n",
    "$$\n",
    "\\begin{align}\n",
    "    \\frac{d s}{d\\tau} &= -si\\\\\n",
    "    \\frac{d i}{d\\tau} &= (s - s^*)i  \\\\\n",
    "    \\frac{d r}{d\\tau} & = s^* i \\\\\n",
    "\\end{align}\n",
    "$$"
   ]
  },
  {
   "cell_type": "markdown",
   "metadata": {
    "deletable": false,
    "editable": false,
    "nbgrader": {
     "cell_type": "markdown",
     "checksum": "17cba206e05e72a92b6b537e5e13f9f4",
     "grade": false,
     "grade_id": "cell-46af647b89cac330",
     "locked": true,
     "schema_version": 3,
     "solution": false,
     "task": false
    }
   },
   "source": [
    "**(d)**  [2] Given that $s^*$ is a constant that only depends on the infection rate per capita $\\alpha$, the recovery rate $\\beta$ and the total population $N$,  interpret the equation for the change in the number of infections\n",
    "\n",
    "$$\n",
    "    \\frac{d i}{d\\tau} = (s - s^*) i\n",
    "$$\n",
    "as a function of the susceptible fraction of the population $s$."
   ]
  },
  {
   "cell_type": "markdown",
   "metadata": {
    "deletable": false,
    "nbgrader": {
     "cell_type": "markdown",
     "checksum": "ab726ca04cc86cb954bcf52e38069414",
     "grade": true,
     "grade_id": "cell-40ede972a75cd41a",
     "locked": false,
     "points": 2,
     "schema_version": 3,
     "solution": true,
     "task": false
    }
   },
   "source": [
    "## Solution\n",
    "\n",
    "The change in the number of infections depends on the infection rate, recovery rate, total population, and susceptible fraction of the population. $s^*$ can be interpreted as the fraction of the percentage of recovered patients over the percentage of the population that has been infected. And perhaps $S*$ can be thought of as the basic production number?"
   ]
  },
  {
   "cell_type": "markdown",
   "metadata": {
    "deletable": false,
    "editable": false,
    "nbgrader": {
     "cell_type": "markdown",
     "checksum": "f14f45e92d83b36ddd331cadf0135ee5",
     "grade": false,
     "grade_id": "cell-4ecd957efe129fa5",
     "locked": true,
     "schema_version": 3,
     "solution": false,
     "task": false
    }
   },
   "source": [
    "### Numerical Methods\n",
    "\n",
    "we will now explore the behavior of this model numerically using a range of our basic algorithms by solving the scaled dynamical system\n",
    "\n",
    "$$\n",
    "    \\frac{d\\mathbf{u}}{dt} = \\mathbf{F}(t,\\mathbf{u}, s^*),\\quad\\mathbf{u}(0)=\\mathbf{u}_0\n",
    "$$\n",
    "\n",
    "where \n",
    "$$\n",
    "    \\mathbf{u} = \\begin{bmatrix} s \\\\ i \\\\ r \\\\ \\end{bmatrix}, \\quad \n",
    "    \\mathbf{F}(t,\\mathbf{u},s^*) = \\begin{bmatrix} -si \\\\ (s - s^*)i \\\\ s^*i \\\\ \\end{bmatrix}\n",
    "$$"
   ]
  },
  {
   "cell_type": "markdown",
   "metadata": {},
   "source": [
    "**(e)** [4] Write function to return the RHS of the scaled dynamical system $\\mathbf{F}(t,\\mathbf{u},s^*)$ as a numpy array"
   ]
  },
  {
   "cell_type": "code",
   "execution_count": 3,
   "metadata": {
    "deletable": false,
    "hide_input": false,
    "nbgrader": {
     "cell_type": "code",
     "checksum": "b148b3f286eff78dda504836f9a0b224",
     "grade": false,
     "grade_id": "cell-262f28b1e5913ee6",
     "locked": false,
     "schema_version": 3,
     "solution": true,
     "task": false
    }
   },
   "outputs": [],
   "source": [
    "def F(t, u, s_star):\n",
    "    \"\"\" RHS of scaled SIR model of Kermack and McKendrick\n",
    "    \n",
    "    parameters\n",
    "    ----------\n",
    "        t: float\n",
    "            time (just a dummy variable here because this is an autonomous system)\n",
    "        u: numpy array\n",
    "            array of scaled [ s, i, r ] values such that sum(u) = 1 \n",
    "            (and s,i, r are fractions of the total population N)\n",
    "        s_star: float\n",
    "            scaled critical susceptible population = \\beta/(\\alpha N)\n",
    "            \n",
    "    returns:\n",
    "        F(u): numpy array\n",
    "    \n",
    "    \"\"\"\n",
    "    # YOUR CODE HERE\n",
    "    \n",
    "    #Scaling u\n",
    "    u = numpy.array([u[0]/(u[0]+u[1]+u[2]), u[1]/(u[0]+u[1]+u[2]), u[2]/(u[0]+u[1]+u[2])])\n",
    "    \n",
    "    #Returning F(u)\n",
    "    Fu = numpy.array([-u[0]*u[1], (u[0]-s_star)*u[1], s_star * u[1]])\n",
    "    return Fu\n",
    "    \n",
    "    "
   ]
  },
  {
   "cell_type": "code",
   "execution_count": 4,
   "metadata": {
    "deletable": false,
    "editable": false,
    "hide_input": false,
    "nbgrader": {
     "cell_type": "code",
     "checksum": "12fac581407142514fda702e3b5a978b",
     "grade": true,
     "grade_id": "cell-072d933c0fd03951",
     "locked": true,
     "points": 4,
     "schema_version": 3,
     "solution": false,
     "task": false
    }
   },
   "outputs": [
    {
     "name": "stdout",
     "output_type": "stream",
     "text": [
      "success!\n"
     ]
    }
   ],
   "source": [
    "# Let's assume the critical level of immunity is 60% of the total population\n",
    "s_star = 0.6\n",
    "\n",
    "# let there initially be .01 % infected cases and no recovered\n",
    "t = 0.\n",
    "i_0 = 1.e-4\n",
    "u_0 = numpy.array([1. - i_0, i_0, 0.0])\n",
    "answer = numpy.array([-9.999000000000001e-05,  3.999000000000001e-05, 6.000000000000000e-05])\n",
    "numpy.testing.assert_allclose(F(t, u_0, s_star), answer)\n",
    "print('success!')"
   ]
  },
  {
   "cell_type": "markdown",
   "metadata": {
    "deletable": false,
    "editable": false,
    "nbgrader": {
     "cell_type": "markdown",
     "checksum": "d088d59ce9dda59ab513f2e0809e93ec",
     "grade": false,
     "grade_id": "cell-4822191656183239434",
     "locked": true,
     "schema_version": 3,
     "solution": false
    }
   },
   "source": [
    "**(f)** [10] Use scipy.integrate.solve_ivp (imported above as solve_ivp),  to solve the scaled dynamical system above with for <font color=\"red\">$s^* = 0.6$</font> and initial condition\n",
    "\n",
    "$$\n",
    "    \\mathbf{u}_0 = \\begin{bmatrix} 1 - i_0\\\\ i_0 \\\\ 0\\\\ \\end{bmatrix}\n",
    "$$\n",
    "\n",
    "where $i_0=10^{-5}$ is the initially infected proportion of the available population $N$\n",
    "\n",
    "Integrate for $t\\in[0, 50]$ and make a plot showing the evolution of $s(t)$, $i(t)$, ${r}(t)$ vs. time \n",
    "\n",
    "**For full credit your plot should show the following**\n",
    "* show the actual time-steps chosen by the adaptive solver as well as a smooth solution (use dense_output=True) \n",
    "* the total cumulative number of cases at any tie\n",
    "* the time and infection level of the peak of the infection (hint: use the `events`, feature of solve_ivp)\n",
    "* the maximum fraction of people infected\n",
    "\n",
    "Explore the behavior of the solutions as a function of $s^*$ and $i_0$ and try to \"flatten the curve\" (we will try to make that more quantitative later). Also,  explore relative and absolute tolerances to convince yourself that your solutions are well resolved."
   ]
  },
  {
   "cell_type": "code",
   "execution_count": 5,
   "metadata": {
    "deletable": false,
    "hide_input": false,
    "nbgrader": {
     "cell_type": "code",
     "checksum": "f2bf5e8f1c26302e22265c386e195c9b",
     "grade": true,
     "grade_id": "cell-2d91985a44491d34",
     "locked": false,
     "points": 10,
     "schema_version": 3,
     "solution": true,
     "task": false
    }
   },
   "outputs": [
    {
     "data": {
      "image/png": "[encoded data removed]",
      "text/plain": [
       "<Figure size 720x432 with 1 Axes>"
      ]
     },
     "metadata": {
      "needs_background": "light"
     },
     "output_type": "display_data"
    }
   ],
   "source": [
    "# YOUR CODE HERE\n",
    "s_star = 0.6\n",
    "i0 = 1.e-5\n",
    "t_span = (0., 50)\n",
    "u0 = [1.-i0,i0,0 ]\n",
    "f = lambda t, u : F(t, u, s_star)\n",
    "sol = solve_ivp(f, t_span, u0, dense_output=True)\n",
    "\n",
    "## Plotting\n",
    "\n",
    "fig = plt.figure(figsize=(10,6))\n",
    "axes = fig.add_subplot(1, 1, 1)\n",
    "\n",
    "axes.plot(sol.t, sol.y[0], 'o-',label='Suspectible')\n",
    "axes.plot(sol.t, sol.y[1], 'o-',label='Infected')\n",
    "axes.plot(sol.t, sol.y[2], 'o-',label='Recovered/Otherwise')\n",
    "axes.vlines(sol.t[7],0,max(sol.y[1]),linestyle='dashed',label='Max Infected')\n",
    "axes.hlines(max(sol.y[1]),0,sol.t[7],linestyle='dashed')\n",
    "\n",
    "axes.set_title(\"Plot of Solution to SIR\", fontsize=18)\n",
    "axes.set_xlabel(\"t\", fontsize=16)\n",
    "axes.set_ylabel(\"y(t)\", fontsize=16)\n",
    "axes.legend()\n",
    "axes.grid()"
   ]
  },
  {
   "cell_type": "markdown",
   "metadata": {
    "deletable": false,
    "editable": false,
    "nbgrader": {
     "cell_type": "markdown",
     "checksum": "30d412ab682484e13aeb5dafe040b528",
     "grade": false,
     "grade_id": "cell-48221916561834547",
     "locked": true,
     "schema_version": 3,
     "solution": false
    }
   },
   "source": [
    "**(g)** [8] Write your own code to solve the same system using any constant step-size method we discussed in class that is higher than 2nd order (you can use or modify any of the example codes from the notes and make sure it works for vector valued functions.   Your code should be able to use your function $F$ defined above. Make sure to choose a method that will work for the non-linear right-hand-side. We will test it against the output from solve_ivp with N steps uniform steps in $t\\in[0,50]$.  What is the minimum number of steps does your routine take to pass the tests with a relative error of $10^{-4}$ and absolute error of $10^{-5}?.  You can control the number of steps taken with the `N=??` defined at the end of the cell.  **Extra Credit** determine the convergence rate of your method."
   ]
  },
  {
   "cell_type": "code",
   "execution_count": 6,
   "metadata": {
    "deletable": false,
    "hide_input": false,
    "nbgrader": {
     "cell_type": "code",
     "checksum": "13e09fcf965c1b3c41354c08f3f10977",
     "grade": false,
     "grade_id": "cell-918222306640123434",
     "locked": false,
     "schema_version": 3,
     "solution": true,
     "task": false
    }
   },
   "outputs": [],
   "source": [
    "def my_ode_solver(f, t_span, u0, N):\n",
    "    \"\"\" implement constant step size ODE integrator using a ________ method\n",
    "    \n",
    "    parameters\n",
    "    ----------\n",
    "        f: calleable\n",
    "            vector valued function with interface f(t,u) where u is the state vector\n",
    "        t_span: float list or array (or tuple)\n",
    "            array holding range of times to integrate over t_span = [ t_min, t_max]\n",
    "        u0:  numpy array\n",
    "            array of initial conditions\n",
    "        N: integer\n",
    "            number of time steps to take \n",
    "            \n",
    "    returns:\n",
    "    --------\n",
    "        t: numpy array\n",
    "            array of timesteps from t_min to t_max of length N\n",
    "        u: numpy array of shape (len(u0), len(t))\n",
    "            solution array,  the solution at timestep i should be u[:,i]\n",
    "    \"\"\"\n",
    "# YOUR CODE HERE\n",
    "    t = numpy.linspace(t_span[0], t_span[1], N)\n",
    "    delta_t = t[1] - t[0]\n",
    "    u = [u0]\n",
    "    \n",
    "    for (n, t_n) in enumerate(t[1:]):\n",
    "        K_1 = delta_t * f(t_n, u[n])\n",
    "        K_2 = delta_t * f(t_n + delta_t/2., u[n] + K_1/2.)\n",
    "        K_3 = delta_t * f(t_n + delta_t/2., u[n] + K_2/2.)\n",
    "        K_4 = delta_t * f(t_n + delta_t, u[n] + K_3)\n",
    "        u.append(u[n] + 1./6. * (K_1 + 2.*( K_2 + K_3) + K_4))\n",
    "    \n",
    "    u = list(zip(*u))\n",
    "    u = numpy.asarray(u)\n",
    "    u = u.reshape(3,N)\n",
    "    return t, u\n",
    "    \n",
    "    \n",
    "\n",
    "# you can control the number of steps used here\n",
    "N=100"
   ]
  },
  {
   "cell_type": "code",
   "execution_count": 7,
   "metadata": {},
   "outputs": [
    {
     "name": "stdout",
     "output_type": "stream",
     "text": [
      "success!\n"
     ]
    }
   ],
   "source": [
    "s_star = 0.6\n",
    "f = lambda t, u: F(t, u, s_star)\n",
    "\n",
    "t_span = [0., 50.]\n",
    "i_0 = 1.e-5\n",
    "u_0 = numpy.array([1. - i_0, i_0, 0.0])\n",
    "\n",
    "\n",
    "t, u = my_ode_solver(f, t_span, u_0, N)\n",
    "\n",
    "sol = solve_ivp(f, t_span, u_0, method='RK45', dense_output=True, rtol=1.e-6, atol = 1.e-8)\n",
    "\n",
    "numpy.testing.assert_allclose(u, sol.sol(t), rtol=1.e-4, atol=1.e-5)\n",
    "print('success!')"
   ]
  },
  {
   "cell_type": "code",
   "execution_count": 8,
   "metadata": {
    "deletable": false,
    "editable": false,
    "hide_input": false,
    "nbgrader": {
     "cell_type": "code",
     "checksum": "02d48cabba835bb153b660ff9c27ac7d",
     "grade": true,
     "grade_id": "cell-918222306640124",
     "locked": true,
     "points": 8,
     "schema_version": 3,
     "solution": false,
     "task": false
    }
   },
   "outputs": [
    {
     "name": "stdout",
     "output_type": "stream",
     "text": [
      "success!\n"
     ]
    }
   ],
   "source": [
    "s_star = 0.6\n",
    "f = lambda t, u: F(t, u, s_star)\n",
    "\n",
    "t_span = [0., 50.]\n",
    "i_0 = 1.e-5\n",
    "u_0 = numpy.array([1. - i_0, i_0, 0.0])\n",
    "\n",
    "\n",
    "t, u = my_ode_solver(f, t_span, u_0, N)\n",
    "\n",
    "# There is a hidden line here implementing sol = solve_ivp to get the \"True\" solution\n",
    "\n",
    "numpy.testing.assert_allclose(u, sol.sol(t), rtol=1.e-4, atol=1.e-5)\n",
    "print('success!')"
   ]
  },
  {
   "cell_type": "markdown",
   "metadata": {
    "deletable": false,
    "editable": false,
    "nbgrader": {
     "cell_type": "markdown",
     "checksum": "206ea91d42a6ed18738f8eb5e410ac6a",
     "grade": false,
     "grade_id": "cell-72ea6dc8a2813be7",
     "locked": true,
     "schema_version": 3,
     "solution": false,
     "task": false
    }
   },
   "source": [
    "**(h)** [2] Reproduce your figure from the scipy version (without events)"
   ]
  },
  {
   "cell_type": "code",
   "execution_count": 9,
   "metadata": {
    "deletable": false,
    "hide_input": false,
    "nbgrader": {
     "cell_type": "code",
     "checksum": "c7fbad01da98f1196ea96430b8c5cf0e",
     "grade": true,
     "grade_id": "cell-9182223066423o434",
     "locked": false,
     "points": 2,
     "schema_version": 3,
     "solution": true,
     "task": false
    }
   },
   "outputs": [
    {
     "data": {
      "image/png": "[encoded data removed]",
      "text/plain": [
       "<Figure size 720x432 with 1 Axes>"
      ]
     },
     "metadata": {
      "needs_background": "light"
     },
     "output_type": "display_data"
    }
   ],
   "source": [
    "fig = plt.figure(figsize=(10,6))\n",
    "axes = fig.add_subplot(1, 1, 1)\n",
    "\n",
    "axes.plot(sol.t, sol.y[0], 'o-',label='Suspectible')\n",
    "axes.plot(sol.t, sol.y[1], 'o-',label='Infected')\n",
    "axes.plot(sol.t, sol.y[2], 'o-',label='Recovered')\n",
    "\n",
    "axes.set_title(\"Plot of Solution to SIR\", fontsize=18)\n",
    "axes.set_xlabel(\"t\", fontsize=16)\n",
    "axes.set_ylabel(\"y(t)\", fontsize=16)\n",
    "axes.legend()\n",
    "axes.grid()"
   ]
  },
  {
   "cell_type": "markdown",
   "metadata": {
    "deletable": false,
    "editable": false,
    "nbgrader": {
     "cell_type": "markdown",
     "checksum": "bd324c6581844059a69be9901af5bcdb",
     "grade": false,
     "grade_id": "cell-062d990b667d61f1",
     "locked": true,
     "schema_version": 3,
     "solution": false,
     "task": false
    }
   },
   "source": [
    "### Themes and Variations [15]\n",
    "\n",
    "The classical Kermack and McKendric model is only one of a vast set of models used to model the spread of infection disease but assumes homogeneous mixing across the entire population.  In addition there are lots of things  to explore with even the simplest SIR model.   Try one (or more) of the following problems or come up with your own problem.  You may work in groups\n",
    "\n",
    "* Choose a fixed value of $N$ for the maximum susceptible population. Assume that maximum hospital capacity is achieved when the number of infected patients reaches $i_{max}$.  Construct a root-finding problem to find the value of $s^*$ required to keep  the peak number of infected cases $i_{peak} <= i_{max}$. \n",
    "\n",
    "* Consider the possibility of re-infection (ugh!).  One model of this assumes that recovered patients can become susceptible again at some rate $\\lambda$.  Modify the original SIR model to include this possibility and construct a new scaled set of equations.  This will now be a 2 parameter dynamical system ($s^*$ and another parameter say $\\lambda^*$.  Explore the behavior of this new problem.\n",
    "\n",
    "* There are lots of data on aggregated cases by country, state, and county.  Find some time-series data and attempt to fit the two parameters $\\alpha N$ (which controls the time scale) and $\\beta$ which controls $s*$. (A good source of data and a thorough discussion of what we know and don't know  is [Our world in Data](https://ourworldindata.org/coronavirus).\n",
    "\n",
    "* Read [Siettos and Russo, (2013)](https://doi.org/10.4161/viru.24041)  which reviews a range of epidemiology models including Stochastic SIR models. Pick another model and propose how to implement it.  Better yet, implement it\n",
    "\n",
    "* Something Numerical: Write an adaptive time stepper built around any two single-step multi-stage schemes and compare your solution to solve_ivp.\n",
    "\n",
    "* Your own best ideas!\n",
    "\n"
   ]
  },
  {
   "cell_type": "markdown",
   "metadata": {
    "deletable": false,
    "nbgrader": {
     "cell_type": "code",
     "checksum": "a79922008e56f4d1eafd0b64ccf61024",
     "grade": true,
     "grade_id": "cell-52d744104da718a8",
     "locked": false,
     "points": 15,
     "schema_version": 3,
     "solution": true,
     "task": false
    }
   },
   "source": [
    "## SIR Model with Vital Dynamics\n",
    "\n",
    "Something I wanted to explore was the SIR Model with Vital Dynamics, which are given by the set of equations:\n",
    "\n",
    "$$\n",
    "\\begin{align}\n",
    "\\frac{dS}{dt} &= \\mu - \\frac{\\alpha SI}{N} - \\nu S \\\\\n",
    "\\frac{dI}{dt} &= \\frac{\\alpha SI}{N} - \\beta I - \\nu I\\\\\n",
    "\\frac{dR}{dt} &= \\beta I - \\nu R\n",
    "\\end{align}\n",
    "$$\n",
    "\n",
    "where $\\mu$ is the birth rate and $\\nu$ is the death rate. When I do $S+I+R$ I'm getting:\n",
    "\n",
    "$$\n",
    "\\begin{align}\n",
    "S+I+R &= \\mu t - \\nu St - \\nu It - \\nu Rt \\\\\n",
    "&=\\mu t - \\nu t(S + I + R)\n",
    "\\end{align}\n",
    "$$\n",
    "\n",
    "When birth rate = death rate, i.e $\\mu = \\nu$, I still cannot seem to get the expression to equal $N$:\n",
    "$$\n",
    "\\begin{align}\n",
    "S + I + R &= \\mu t(1 - (S + I + R)) \\\\\n",
    "& = \\mu t(1 - S - I - R)\n",
    "\\end{align}\n",
    "$$\n",
    "\n",
    "We know the disease is gone when:\n",
    "$$\n",
    "\\begin{align}\n",
    "S &= \\frac{\\mu}{\\nu} \\\\\n",
    "I &= 0 \\\\\n",
    "R &= 0\n",
    "\\end{align}\n",
    "$$\n",
    "\n",
    "I don't have much more to go on this, but just something I found interesting. Now let us consider the problem of reinfection: \n",
    "\n",
    "$$\n",
    "\\begin{align}\n",
    "\\frac{dS}{dt} &= -\\alpha SI + \\lambda R \\\\\n",
    "\\frac{dI}{dt} &= \\alpha SI - \\beta I \\\\\n",
    "\\frac{dR}{dt} &= \\beta I - \\lambda R\n",
    "\\end{align}\n",
    "$$\n",
    "\n",
    "$$\n",
    "S+I+R = -\\alpha SIt + \\lambda Rt + \\alpha SIt - \\beta It + \\beta It - \\lambda Rt + 3C = 3C = N\n",
    "$$\n",
    "\n",
    "Our equations would be:\n",
    "\n",
    "$$\n",
    "\\begin{align}\n",
    "S &= -\\alpha SIt + \\lambda Rt + C\\\\\n",
    "I &= \\alpha SIt - \\beta It + C\\\\\n",
    "R &= \\beta It - \\lambda Rt + C\n",
    "\\end{align}\n",
    "$$\n",
    "\n",
    "If we let $S = N s,  I = Ni,  R = Nr, t = \\tau\\frac{1}{\\alpha N}$\n",
    "\n",
    "$$\n",
    "\\begin{align}\n",
    "Ns &= -\\alpha NsNi\\frac{\\tau}{\\alpha N} + \\lambda Nr\\frac{\\tau}{\\alpha N}  \\\\\n",
    "Ni &= -\\alpha NsNi\\frac{\\tau}{\\alpha N} - \\beta Ni\\frac{\\tau}{\\alpha N}  \\\\\n",
    "Nr &= \\beta Ni\\frac{\\tau}{\\alpha N} - \\lambda Nr\\frac{\\tau}{\\alpha N} \n",
    "\\end{align}\n",
    "$$\n",
    "\n",
    "That gives us:\n",
    "\n",
    "$$\n",
    "\\begin{align}\n",
    "Ns &= -Nsi\\tau + \\lambda r\\frac{\\tau}{\\alpha} \\\\\n",
    "Ni &= Nsi\\tau - \\beta i\\frac{\\tau}{\\alpha} \\\\\n",
    "Nr &= \\beta i\\frac{\\tau}{\\alpha} - \\lambda r\\frac{\\tau}{\\alpha}\n",
    "\\end{align}\n",
    "$$\n",
    "\n",
    "Dividing by $N$:\n",
    "$$\n",
    "\\begin{align}\n",
    "s &= -si\\tau - \\lambda r \\frac{\\tau}{\\alpha N} \\\\\n",
    "i &= si\\tau - \\beta i \\frac{\\tau}{\\alpha N} \\\\\n",
    "r &= \\beta i \\frac{\\tau}{\\alpha N} - \\lambda r \\frac{\\tau}{\\alpha N}\n",
    "\\end{align}\n",
    "$$\n",
    "\n",
    "Taking derivative with respect to $\\tau$:\n",
    "\n",
    "$$\n",
    "\\begin{align}\n",
    "\\frac{ds}{d\\tau} &= -si - r\\frac{\\lambda}{\\alpha N} \\\\\n",
    "\\frac{di}{d\\tau} &= si - i\\frac{\\beta}{\\alpha N} \\\\\n",
    "\\frac{dr}{d\\tau} &= i\\frac{\\beta}{\\alpha N} - r\\frac{\\lambda}{\\alpha N}\n",
    "\\end{align}\n",
    "$$\n",
    "\n",
    "We had that $s^* = \\frac{\\beta}{\\alpha N}$. Let $\\lambda^* = \\frac{\\lambda}{\\alpha N}$. We get the following set of equations:\n",
    "\n",
    "\n",
    "$$\n",
    "\\begin{align}\n",
    "\\frac{ds}{d\\tau} &= -si - r\\lambda^* \\\\\n",
    "\\frac{di}{d\\tau} &= si - is^* \\\\\n",
    "\\frac{dr}{d\\tau} &= is^* - r\\lambda^*\n",
    "\\end{align}\n",
    "$$"
   ]
  },
  {
   "cell_type": "markdown",
   "metadata": {
    "deletable": false,
    "editable": false,
    "nbgrader": {
     "cell_type": "markdown",
     "checksum": "9c2a0a5820245cfcf6f63f7488fd70ad",
     "grade": false,
     "grade_id": "cell-74f9c58c7046a7cd",
     "locked": true,
     "schema_version": 3,
     "solution": false
    }
   },
   "source": [
    "## Question 2: Derivation of Adams-Moulton"
   ]
  },
  {
   "cell_type": "markdown",
   "metadata": {
    "deletable": false,
    "editable": false,
    "nbgrader": {
     "cell_type": "markdown",
     "checksum": "bd4a293d0162da5fdaa513c421593087",
     "grade": false,
     "grade_id": "cell-74f9c58c7a7cd",
     "locked": true,
     "schema_version": 3,
     "solution": false
    }
   },
   "source": [
    "**(a)** [15] Show that the Adams-Moulton 2-step method can be derived by considering conditions derived from the truncation error expression for multi-step methods"
   ]
  },
  {
   "cell_type": "markdown",
   "metadata": {
    "deletable": false,
    "nbgrader": {
     "cell_type": "markdown",
     "checksum": "e8d44f48e64aa1ebd5fafd4597ea7559",
     "grade": true,
     "grade_id": "cell-415a1f1008c1",
     "locked": false,
     "points": 15,
     "schema_version": 3,
     "solution": true
    }
   },
   "source": [
    "## Solution\n",
    "\n",
    "The Adams-Moulton 2-step method is:\n",
    "$$\n",
    "\\begin{align}\n",
    "U_{n+2} &= U_{n+1} + \\frac{\\Delta t}{12} (-f(U_n) + 8f(U_{n+1}) + 5f(U_{n+2})) \\\\\n",
    "&=U_{n+1} - \\frac{\\Delta t}{12}f(U_n) + \\frac{2\\Delta t}{3}f(U_{n+1}) + \\frac{5\\Delta t}{12}f(U_{n+2})\n",
    "\\end{align}\n",
    "$$\n",
    "\n",
    "The truncation error in general for linear multi-step methods:\n",
    "$$\\begin{aligned}\n",
    "    T(t, u; \\Delta t) &= \\frac{1}{\\Delta t} \\left [\\sum^r_{j=0} \\alpha_j u_{n+j} - \\Delta t \\sum^r_{j=0} \\beta_j f(u_{n+j}, t_{n+j}) \\right ]\n",
    "\\end{aligned}$$\n",
    "\n",
    "Using the general expansion and evaluation of the Taylor series about $t_n$ we have\n",
    "$$\\begin{aligned}\n",
    "    u(t_{n+j}) &= u(t_n) + j \\Delta t u'(t_n) + \\frac{1}{2} (j \\Delta t)^2 u''(t_n) + \\frac{1}{6}(j\\Delta t)^3 u'''(t_n) + \\mathcal{O}(\\Delta t^4) \\\\\n",
    "    u'(t_{n+j}) &= u'(t_n) + j \\Delta t u''(t_n) + \\frac{1}{2} (j \\Delta t)^2 u'''(t_n) + \\frac{1}{6}(j\\Delta t)^3 u''''(t_n)+\\mathcal{O}(\\Delta t^4)\n",
    "\\end{aligned}$$\n",
    "\n",
    "When $j=1,j=2$, we have:\n",
    "\n",
    "$$\n",
    "\\begin{align}\n",
    "u(t_{n+1}) &= u(t_n) + \\Delta t u'(t_n) + \\frac{1}{2} ( \\Delta t)^2 u''(t_n) + \\frac{1}{6}(\\Delta t)^3 u'''(t_n) + \\mathcal{O}(\\Delta t^4) \\\\\n",
    "u(t_{n+2}) &= u(t_n) + 2 \\Delta t u'(t_n) + 2 ( \\Delta t)^2 u''(t_n) + \\frac{4}{3}(\\Delta t)^3 u'''(t_n) + \\mathcal{O}(\\Delta t^4)\n",
    "\\end{align}\n",
    "$$\n",
    "\n",
    "I'm kind of stuck here, and not sure where to go - but I know of a way to do it using an interpolating polynomial - in next question."
   ]
  },
  {
   "cell_type": "markdown",
   "metadata": {
    "deletable": false,
    "editable": false,
    "nbgrader": {
     "cell_type": "markdown",
     "checksum": "0dc8aea1d224aa1723d194cfcbfb42ef",
     "grade": false,
     "grade_id": "cell-77046a7cd",
     "locked": true,
     "schema_version": 3,
     "solution": false
    }
   },
   "source": [
    "**(b)** [15] **Extra Credit** We can also derive linear multi-step methods more generally by approximating either the unknown function $u(t)$ or the right-hand side function $f(t, u)$ as an interpolating polynomial and integrating both sides of the resulting approximation to derive the method.  Using a quadratic polynomial derive the coefficients for Adams-Moulton 2-step.  Note that here we will assume when interpolating $f(t, u)$ that the interpolant is in terms of points $(t_i, f(t_i))$."
   ]
  },
  {
   "cell_type": "markdown",
   "metadata": {
    "deletable": false,
    "nbgrader": {
     "cell_type": "markdown",
     "checksum": "88ec8eb17ddf5543d1bee4c73b8a1bfb",
     "grade": true,
     "grade_id": "cell-4696d7f08fb3cce",
     "locked": false,
     "points": 15,
     "schema_version": 3,
     "solution": true
    }
   },
   "source": [
    "Interpolating points: $(t_{k-1},y'_{k-1}),(t_k,y'_k),(t_{k-1},y'_{k-1})$\n",
    "\n",
    "$$\n",
    "\\begin{align}\n",
    "p^{AM}_2(t) &= \\frac{(t-t_k)(t-t_{k+1})}{(t_{k-1}-t_k)(t_{k-1}-t_{k+1})}y'_{k-1} + \\frac{(t-t_{k-1})(t-t_{k+1})}{(t_k-t_{k-1})(t_k - t_{k+1})}y'_k + \n",
    "\\frac{(t-t_{k-1})(t-t_k)}{(t_{k+1}-t_k)(t_{k+1}-t_{k-1})}y'_{k+1} \\\\\n",
    "&=\\frac{1}{2h^2}(t-t_k)(t-t_{k+1})y'_{k-1} - \\frac{1}{h^2}(t-t_{k-1})(t-t_{k+1})y'_k + \\frac{1}{2h^2}(t-t_{k-1})(t-t_k)y'_{k+1}\n",
    "\\end{align}\n",
    "$$\n",
    "\n",
    "Letting $I_1 = \\frac{1}{2h^2}\\int^{t_{k+1}}_{t_k} (t-t_k)(t-t_{k+1})dt = -\\frac{1}{6}h^3$ and let $t=t_k + \\tau$:\n",
    "\n",
    "$$\n",
    "I_2 = -\\frac{2}{3}h^3 \\\\\n",
    "I_3 = \\frac{5}{6}h^3\n",
    "$$\n",
    "\n",
    "Integrate: $\\int^{t_{k+1}}_{t_k} p^{AM}_2(t) dt = I_1y'_{k-1} - I_2y'_k - I_3y'_{k+1} = -\\frac{h}{12}y'_{k-1}+\\frac{2h}{3}y'_k + \\frac{5h}{12}y'_{k+1}$, we then get:\n",
    "\n",
    "$$\n",
    "y_{k+1} = y_k + \\int^{t_{k+1}}_{t_k} p^{AM}_2(t) dt = y_k + \\frac{h}{12} \\left(5f(t_{k+1},y_{k+1})+ 8f(t_k,y_k) -f(t_{k-1},y_{k-1}) \\right)\n",
    "$$\n",
    "\n",
    "Reference: http://macs.citadel.edu/chenm/344.dir/temp.dir/lect5_5.pdf"
   ]
  },
  {
   "cell_type": "code",
   "execution_count": null,
   "metadata": {},
   "outputs": [],
   "source": []
  }
 ],
 "metadata": {
  "kernelspec": {
   "display_name": "Python 3",
   "language": "python",
   "name": "python3"
  },
  "language_info": {
   "codemirror_mode": {
    "name": "ipython",
    "version": 3
   },
   "file_extension": ".py",
   "mimetype": "text/x-python",
   "name": "python",
   "nbconvert_exporter": "python",
   "pygments_lexer": "ipython3",
   "version": "3.7.3"
  },
  "latex_envs": {
   "bibliofile": "biblio.bib",
   "cite_by": "apalike",
   "current_citInitial": 1,
   "eqLabelWithNumbers": true,
   "eqNumInitial": 0
  }
 },
 "nbformat": 4,
 "nbformat_minor": 4
}
