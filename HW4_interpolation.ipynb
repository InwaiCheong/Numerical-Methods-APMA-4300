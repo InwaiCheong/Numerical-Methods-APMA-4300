{
 "cells": [
  {
   "cell_type": "markdown",
   "metadata": {},
   "source": [
    "Before you turn this problem in, make sure everything runs as expected. First, **restart the kernel** (in the menubar, select Kernel$\\rightarrow$Restart) and then **run all cells** (in the menubar, select Cell$\\rightarrow$Run All).\n",
    "\n",
    "Make sure you fill in any place that says `YOUR CODE HERE` or \"YOUR ANSWER HERE\", as well as your name and collaborators below:"
   ]
  },
  {
   "cell_type": "code",
   "execution_count": 1,
   "metadata": {},
   "outputs": [],
   "source": [
    "NAME = \"In Wai Cheong\"\n",
    "COLLABORATORS = \"\""
   ]
  },
  {
   "cell_type": "markdown",
   "metadata": {},
   "source": [
    "---"
   ]
  },
  {
   "cell_type": "code",
   "execution_count": 2,
   "metadata": {},
   "outputs": [],
   "source": [
    "%matplotlib inline\n",
    "import numpy\n",
    "import matplotlib.pyplot as plt"
   ]
  },
  {
   "cell_type": "markdown",
   "metadata": {
    "deletable": false,
    "editable": false,
    "nbgrader": {
     "cell_type": "markdown",
     "checksum": "935818b1cc5498fcab64162ff74a4e0a",
     "grade": false,
     "grade_id": "cell-6537906896021329",
     "locked": true,
     "schema_version": 3,
     "solution": false
    }
   },
   "source": [
    "Before you turn this problem in, make sure everything runs as expected. First, restart the kernel (in the menubar, select Kernel $\\rightarrow$ Restart) and then run all cells (in the menubar, select Cell $\\rightarrow$ Run All).\n",
    "\n",
    "Make sure you fill in any place that says YOUR CODE HERE or \"YOUR ANSWER HERE\", as well as your name and collaborators below:"
   ]
  },
  {
   "cell_type": "markdown",
   "metadata": {
    "deletable": false,
    "editable": false,
    "nbgrader": {
     "cell_type": "markdown",
     "checksum": "05a90bc96a8a096843e665eea1de53c4",
     "grade": false,
     "grade_id": "cell-5502088417300118",
     "locked": true,
     "schema_version": 3,
     "solution": false
    }
   },
   "source": [
    "# HW 4:  Interpolation"
   ]
  },
  {
   "cell_type": "markdown",
   "metadata": {
    "deletable": false,
    "editable": false,
    "nbgrader": {
     "cell_type": "markdown",
     "checksum": "09aa3e7992cd994495709007184999f6",
     "grade": false,
     "grade_id": "cell-82472618555790",
     "locked": true,
     "schema_version": 3,
     "solution": false
    }
   },
   "source": [
    "## Question 1\n",
    "\n",
    "Consider data at three points $(x_0, y_0) = (0, 0)$, $(x_1, y_1) = (1, 2)$, and $(x_2, y_2) = (2, 2)$."
   ]
  },
  {
   "cell_type": "markdown",
   "metadata": {
    "deletable": false,
    "editable": false,
    "nbgrader": {
     "cell_type": "markdown",
     "checksum": "799b014772dda1fc15420594007c2ff0",
     "grade": false,
     "grade_id": "cell-8265701073131704",
     "locked": true,
     "schema_version": 3,
     "solution": false
    }
   },
   "source": [
    "**(a)** Analytically find coefficients of the interpolating  polynomial $P_2(x)$ that passes through these three points in the following bases\n",
    "1. Monomial: $P(x) = p_0 + p_1 x + p_2 x^2$\n",
    "1. Lagrange: $P(x) = \\sum^2_{k=0} y_k \\ell_k(x)$\n",
    "1. Newton: $P(x) = \\sum^2_{i=0} a_i n_i(x)$\n",
    "\n",
    "and show that, independent of basis it's always the same polynomial"
   ]
  },
  {
   "cell_type": "markdown",
   "metadata": {
    "deletable": false,
    "nbgrader": {
     "cell_type": "markdown",
     "checksum": "62764ad9d796ac9fb93b82b1143785a6",
     "grade": true,
     "grade_id": "cell-3823725410153810",
     "locked": false,
     "points": 14,
     "schema_version": 3,
     "solution": true
    }
   },
   "source": [
    "## Solution\n",
    "\n",
    "For three points, we need to find $P_2(x) = p_2x^2+p_1x+p_0$, so we get the following system: <br>\n",
    "\n",
    "$$\n",
    "y_0 = p_2x_0^2 + p_1x_0 + p_0 \\\\\n",
    "y_0 = p_2x_1^2 + p_1x_1 + p_0 \\\\\n",
    "y_0 = p_2x_2^2 + p_1x_2 + p_0\n",
    "$$\n",
    "\n",
    "which becomes:\n",
    "\n",
    "$$\n",
    "0 = p_2(0)^2 + p_1(0) + p_0 \\\\\n",
    "2 = p_2(1)^2 + p_1(1) + p_0 \\\\\n",
    "2 = p_2(2)^2 + p_2(2) + p_0 \n",
    "$$\n",
    "\n",
    "then:\n",
    "\n",
    "$$\n",
    "p_0 = 0 \\\\\n",
    "p_1 + p_2 = 2 \\implies p_1 = 2-p_2 \\\\\n",
    "4p_2 + 2p_1 = 2 \\implies 2p_2 + p_1 = 1\n",
    "$$\n",
    "\n",
    "We know $p_0=0$ so the $p_0$ in the 2nd and 3rd equations are $0$. Now:\n",
    "\n",
    "$$\n",
    "2p_2 + p1 = 1, p_1 = 2 - p_2 \\\\\n",
    "2p_2 + 2 - p_2 = 1 \\\\\n",
    "p_2 + 2 = 1 \\\\\n",
    "p_2 = -1 \\implies p_1 = 3\n",
    "$$\n",
    "\n",
    "Therefore, our interpolating polynomial in the monomial basis is: $\\fbox{$P_2(x)=-x^2 + 3x$}$\n",
    "\n",
    "For the lagrange basis: $P(x)=y_0\\ell_0(x) + y_1\\ell_1(x) + y_2\\ell_2(x)$, so:\n",
    "\n",
    "$$\n",
    "P(x) = y_0\\frac{x-x_{1}}{x_0-x_1}\\frac{x-x_2}{x_0-x_2}+y_1\\frac{x-x_0}{x_1-x_0}\\frac{x-x_2}{x_1-x_2}+y_2\\frac{x-x_0}{x_2-x_0}\\frac{x-x_1}{x_2-x_1}\n",
    "$$\n",
    "\n",
    "$$\n",
    "P(x) = 0\\cdot\\frac{x-1}{0-1}\\frac{x-2}{0-2}+2\\cdot\\frac{x-0}{1-0}\\frac{x-2}{1-2}+2\\cdot\\frac{x-0}{2-0}\\frac{x-1}{2-1}\n",
    "$$\n",
    "\n",
    "We then get that our interpolating polynomial is: $\\fbox{$P_2(x)=-x^2+3x$}$\n",
    "\n",
    "For the Newton polynomial $P(x)=a_0n_0(x) + a_1n_1(x)+a_2n_2(x)$, this becomes:\n",
    "\n",
    "$$\n",
    "P(x)=[y_0] + [y_0,y_1](x-x_0) + [y_0,y_1,y_2](x-x_0)(x-x_1)\n",
    "$$\n",
    "where:\n",
    "$$\n",
    "n_i(x)=\\prod^{j-1}_{i=0}(x-x_i) \\\\\n",
    "a_j := [y_0,\\dots,y_j]\n",
    "$$\n",
    "\n",
    "and $[y_0,\\dots,y_j]$ is the divided difference notation. We then get:\n",
    "\n",
    "$$\n",
    "P(x)=y_0 + \\frac{y_1-y_0}{x_1-x_0}(x-x_0) + \\left(\\frac{y_2-y_1}{(x_2-x_1)(x_2-x_0)}-\\frac{y_1-y_0}{(x_1-x_0)(x_2-x_0)}\\right)(x-x_0)(x-x_1)\n",
    "$$\n",
    "\n",
    "which becomes:\n",
    "$$\n",
    "P(x)=0 + \\frac{2-0}{1-0}(x-0) + \\left(\\frac{2-2}{(2-1)(2-0)} - \\frac{2-0}{(1-0)(2-0)}\\right)(x-0)(x-1)\n",
    "$$\n",
    "\n",
    "and that simplifies to:\n",
    "$$\n",
    "\\fbox{$P_2(x)=-x^2+3x$}\n",
    "$$\n",
    "\n",
    "The polynomial will be the same regardless of what basis we use because the interpolating polynomial is unique. To show this, let us assume they are not unique and that there exist two interpolating polynomials $p_n$ and $q_n$ of degree less than or equal to $n$. The degree of $p_n - q_n$ is still the same, and has the value $0$ if we have more than $n$ points. But a polynomial of degree $n$ has at most $n$ zeroes unless it is the zero polynomial, so therefore $p_n - q_n = 0$ and this shows that $p_n = q_n$."
   ]
  },
  {
   "cell_type": "markdown",
   "metadata": {
    "deletable": false,
    "editable": false,
    "nbgrader": {
     "cell_type": "markdown",
     "checksum": "4e2d3cf2d27854587525f957b16e191d",
     "grade": false,
     "grade_id": "cell-3903963456638398",
     "locked": true,
     "schema_version": 3,
     "solution": false
    }
   },
   "source": [
    "**(b)** Extra Credit: Repeat the exercise for the general quadratic through three points $(x_0,y_0)$, $(x_1, y_1)$, $(x_2, y_2)$. Note, this isn't hard but it's quite tedious.\n"
   ]
  },
  {
   "cell_type": "markdown",
   "metadata": {
    "deletable": false,
    "nbgrader": {
     "cell_type": "markdown",
     "checksum": "88b3567371e9de88d662efa72bb085c7",
     "grade": true,
     "grade_id": "cell-4d5f9cb992960b2e",
     "locked": false,
     "points": 0,
     "schema_version": 3,
     "solution": true,
     "task": false
    }
   },
   "source": [
    "YOUR ANSWER HERE"
   ]
  },
  {
   "cell_type": "markdown",
   "metadata": {
    "deletable": false,
    "editable": false,
    "nbgrader": {
     "cell_type": "markdown",
     "checksum": "861c7bc4a9bfe6aab38d661035f4a7f9",
     "grade": false,
     "grade_id": "cell-3903963456629954",
     "locked": true,
     "schema_version": 3,
     "solution": false
    }
   },
   "source": [
    "**(c)** Use the uniqueness of the interpolating polynomial to show that for general $N+1$ points that for a function $f(x) = c$ with $c \\in \\mathbb R$ that\n",
    "\n",
    "$$\\sum^N_{i=0} \\ell_i(x) = 1$$\n",
    "\n",
    "holds for any value of $x$.\n"
   ]
  },
  {
   "cell_type": "markdown",
   "metadata": {
    "deletable": false,
    "nbgrader": {
     "cell_type": "markdown",
     "checksum": "a45926dd69a036c2edfd6cf82189426c",
     "grade": true,
     "grade_id": "cell-5902170639545808",
     "locked": false,
     "points": 4,
     "schema_version": 3,
     "solution": true
    }
   },
   "source": [
    "## Solution\n",
    "\n",
    "Since the interpolating polynomial is unique, it doesn't matter what basis we choose, so let us consider the Newton polynomial:\n",
    "\n",
    "$$\n",
    "P(x) = \\sum^N_{i=0}a_in_i(x)\n",
    "$$\n",
    "\n",
    "Upon expansion: $P(x)=[y_0] + [y_0,y_1](x-x_0) + \\dots + [y_0,y_1,\\dots,y_N](x-x_0)(x-x_1)\\dots(x-x_N)$\n",
    "\n",
    "Since $f(x)=c$ is a constant function, every term except $[y_0]=y_0$ is equal to $0$ since the numerators are just differences between two $y$ terms which will always go to $0$.\n",
    "\n",
    "By unique of interpolating polynomials, let us consider the lagrange basis now with $P(x)=y_0$\n",
    "\n",
    "$$\n",
    "y_0 = \\sum^N_{i=0}y_i\\ell_i(x)\n",
    "$$\n",
    "\n",
    "Expanding:\n",
    "\n",
    "$$\n",
    "y_0 = y_0\\ell_0(x) + y_1\\ell_1(x) + \\dots + y_N\\ell_N(x)\n",
    "$$ \n",
    "\n",
    "Since $f(x)$ is a constant function, $y_0=y_1=\\dots=y_n$, so:\n",
    "\n",
    "$$\n",
    "y_0 = y_0(\\ell_0(x) + \\ell_1(x) + \\dots + \\ell_N(x)) \\\\\n",
    "1 = \\ell_0(x) + \\ell_1(x) + \\dots + \\ell_N(x)\n",
    "$$\n",
    "\n",
    "Therefore, we have that:\n",
    "\n",
    "$$\n",
    "\\fbox{$\\sum^N_{i=0} \\ell_i(x) = 1$}\n",
    "$$"
   ]
  },
  {
   "cell_type": "markdown",
   "metadata": {
    "deletable": false,
    "editable": false,
    "nbgrader": {
     "cell_type": "markdown",
     "checksum": "de26cbdfc389a5634bf4dfd2fc55a00d",
     "grade": false,
     "grade_id": "cell-6806070912155660",
     "locked": true,
     "schema_version": 3,
     "solution": false
    }
   },
   "source": [
    "## Question 2\n",
    "\n",
    "The $n$th Chebyshev polynomial is characterized (up to a constant) by the identity\n",
    "\n",
    "$$T_n(\\cos \\theta) = \\cos (n \\theta)$$\n",
    "\n",
    "Use this identity to show that the Chebyshev polynomials are orthogonal on $x\\in[-1,1]$ with respect to the weight\n",
    "\n",
    "$$w(x) = \\frac{1}{\\sqrt{1 - x^2}}$$\n",
    "\n",
    "To do this you must prove that\n",
    "\n",
    "$$\\int^1_{-1} w(x) T_n(x) T_m(x) dx = \\left \\{ \\begin{aligned} \n",
    "a & ~ & m = n \\\\ \n",
    "0 & ~ & m \\neq n \n",
    "\\end{aligned} \\right .$$\n",
    "\n",
    "where $a$ is a finite constant (also find this coefficient).  Note that you may have multiple non-zero coefficients $a$.  Make sure to cover all these cases and list the conditions that you will find these values."
   ]
  },
  {
   "cell_type": "markdown",
   "metadata": {
    "deletable": false,
    "nbgrader": {
     "cell_type": "markdown",
     "checksum": "30fc92751374bb2710d4fe7648e32a75",
     "grade": true,
     "grade_id": "cell-8354694405440956",
     "locked": false,
     "points": 4,
     "schema_version": 3,
     "solution": true
    }
   },
   "source": [
    "## Solution\n",
    "\n",
    "Let $x=cos(\\theta)$, so $dx = -sin(\\theta)d\\theta$. We also have that $w(cos(\\theta))=\\frac{1}{\\sqrt{1-cos^2(\\theta)}}$. For the bounds $arccos(-1)=\\pi$ and $arccos(1)=0$. So, the integral will become:\n",
    "\n",
    "$$\n",
    "\\int^0_{\\pi} \\frac{1}{\\sqrt{1-cos^2\\theta}}\\cdot cos(m\\theta)\\cdot cos(n\\theta)\\cdot (-sin(\\theta))\\ d\\theta\n",
    "$$\n",
    "\n",
    "The square root term becomes $sin(\\theta)$ and cancels with $-sin(\\theta)$ to obtain:\n",
    "\n",
    "$$\n",
    "\\int^0_{\\pi} -cos(n\\theta)cos(m\\theta)\\ d\\theta = \\int^\\pi_{0} cos(m\\theta)cos(n\\theta)\\ d\\theta\n",
    "$$\n",
    "\n",
    "Using the identity $cos(A)cos(B) = \\frac{1}{2}(cos(A+B) + cos(A-B))$:\n",
    "\n",
    "$$\n",
    "\\int^\\pi_{0} \\frac{1}{2}(cos(m\\theta+n\\theta)+cos(m\\theta-n\\theta))\\ d\\theta = \\int^\\pi_{0} \\frac{1}{2}(cos((m+n)\\theta))+cos((m-n)\\theta))\\ d\\theta\n",
    "$$\n",
    "\n",
    "When $m=n$:\n",
    "\n",
    "$$\n",
    "\\frac{1}{2}\\int^\\pi_{0} cos(2\\pi n) - 1\\ d\\theta = \\frac{2n\\pi+sin(2n\\pi)}{4n}\n",
    "$$\n",
    "which is equal to $\\frac{\\pi}{2}$ for all $n\\in\\mathbb{N}$, and when $m\\neq n$ the integral is becomes:\n",
    "\n",
    "$$\n",
    "\\frac{m\\ cos(n\\pi)sin(m\\pi)-n\\ cos(m\\pi)sin(n\\pi)}{m^2-n^2}\n",
    "$$\n",
    "\n",
    "For this expression, there is a $sin(m\\pi)$ and $sin(n\\pi)$ in the numerator, and will be $0$ for any $n,m\\in \\mathbb{N}$, hence the fraction will always equals $0$.\n",
    "\n",
    "Therefore we have shown:\n",
    "\n",
    "$$\\int^\\pi_{0} \\frac{1}{2}(cos((m+n)\\theta))+cos((m-n)\\theta))\\ d\\theta = \\left \\{ \\begin{aligned} \n",
    "\\frac{\\pi}{2} & ~ & m = n \\\\ \n",
    "0 & ~ & m \\neq n \n",
    "\\end{aligned} \\right .$$"
   ]
  },
  {
   "cell_type": "markdown",
   "metadata": {
    "deletable": false,
    "editable": false,
    "nbgrader": {
     "cell_type": "markdown",
     "checksum": "4c03e2b7bbe9122de703b89bd8e41077",
     "grade": false,
     "grade_id": "cell-7819290100903685",
     "locked": true,
     "schema_version": 3,
     "solution": false
    }
   },
   "source": [
    "## Question 3\n",
    "\n",
    "We discussed in class that equally spaced points are not optimal and in fact the Lagrange interpolants can vary considerably from 1 near the ends.  For these questions consider the interval $x\\in[-1, 1]$."
   ]
  },
  {
   "cell_type": "markdown",
   "metadata": {
    "deletable": false,
    "editable": false,
    "nbgrader": {
     "cell_type": "markdown",
     "checksum": "9e0a62420a2fff53fc196f81e8a8f64c",
     "grade": false,
     "grade_id": "cell-1974680948166026",
     "locked": true,
     "schema_version": 3,
     "solution": false
    }
   },
   "source": [
    "**(a)** For $N = 4$ find the position and value of the maximum value on $[-1,1]$ of $|\\ell_k(x)|$ analytically for $\\ell_2(x)$ using equi-spaced points (extra credit for finding them for all analytically)."
   ]
  },
  {
   "cell_type": "markdown",
   "metadata": {
    "deletable": false,
    "nbgrader": {
     "cell_type": "markdown",
     "checksum": "a48b754ef8113b75bbf504e058c5f1f6",
     "grade": true,
     "grade_id": "cell-1609100275099664",
     "locked": false,
     "points": 4,
     "schema_version": 3,
     "solution": true
    }
   },
   "source": [
    "## Solution\n",
    "\n",
    "Separating the interval, we get:\n",
    "$$\n",
    "x_0=-1,\\ x_1= -0.5, \\ x_2 = 0, \\ x_3 = 0.5, \\ x_4 = 1\n",
    "$$\n",
    "\n",
    "Using the lagrange basis:\n",
    "\n",
    "$$\n",
    "\\ell_2(x) = \\frac{x-x_0}{x_2-x_0} \\frac{x-x_1}{x_2-x_1} \\frac{x-x_3}{x_2-x_3} \\frac{x-x_4}{x_2-x_4}\n",
    "= \\frac{x+1}{0+1} \\frac{x+0.5}{0+0.5} \\frac{x-0.5}{0-0.5} \\frac{x-1}{0-1}\n",
    "$$\n",
    "\n",
    "Simplifying, we get:\n",
    "\n",
    "$$\n",
    "\\ell_2(x)=(x-1)(x+1)(2x-1)(2x+1) = \\fbox{$4x^4 - 5x^2 + 1$}\n",
    "$$\n",
    "\n",
    "And according to the graph below, it reaches a maximum of $1$ when $x=0$.\n",
    "\n",
    "Let's do the others:\n",
    "\n",
    "$$\n",
    "\\ell_1(x)=\\frac{(x+1)(x-0)(x-0.5)(x-1)}{(-0.5+1)(-0.5-0)(-0.5-0.5)(-0.5-1)}\n",
    "=\\fbox{$-\\frac{8}{3}x^4 + \\frac{4}{3}x^3 + \\frac{8}{3}x^2 - \\frac{4}{3}x$}\\\\\n",
    "\\ell_3(x) = \\frac{(x+1)(x+0.5)(x-0)(x-1)}{(0.5+1)(0.5+0.5)(0.5-0)(0.5-1)}\n",
    "=\\fbox{$-\\frac{8}{3}x^4 - \\frac{4}{3}x^3 + \\frac{8}{3}x^2 + \\frac{4}{3}x$}\\\\\n",
    "\\ell_4(x) = \\frac{(x+1)(x+0.5)(x-0)(x-0.5)}{(1+1)(1+0.5)(1-0)(1-0.5)}\n",
    "=\\fbox{$\\frac{2}{3}x^4 + \\frac{2}{3}x^3 - \\frac{1}{6}x^2 - \\frac{1}{6}x$}\n",
    "$$\n",
    "\n",
    "Similarly:\n",
    "\n",
    "$\\ell_1(x)$ has a max of about $1.152$ at $x\\approx -0.663$ <br>\n",
    "$\\ell_3(x)$ has a max of about $1.152$ at $x\\approx 0.663$ <br>\n",
    "$\\ell_4(x)$ has a max $1$ at $x=1$"
   ]
  },
  {
   "cell_type": "code",
   "execution_count": 3,
   "metadata": {},
   "outputs": [
    {
     "data": {
      "image/png": "[encoded data removed]",
      "text/plain": [
       "<Figure size 1080x504 with 1 Axes>"
      ]
     },
     "metadata": {
      "needs_background": "light"
     },
     "output_type": "display_data"
    }
   ],
   "source": [
    "x = numpy.linspace(-1,1,100)\n",
    "y1 = 4*x**4 - 5*x**2 + 1\n",
    "y2 = (-8/3)*(x**4) + (4/3)*(x**3) + (8/3)*(x**2) - (4/3)*x\n",
    "y3 = (-8/3)*(x**4) - (4/3)*(x**3) + (8/3)*(x**2) + (4/3)*x\n",
    "y4 = (2/3)*(x**4) + (2/3)*(x**3) - (1/6)*(x**2) - (1/6)*x\n",
    "\n",
    "fig = plt.figure(figsize=(15,7))\n",
    "axes = fig.add_subplot(1,1,1)\n",
    "axes.plot(x,y2,label=\"$\\ell_1(x)$\")\n",
    "axes.plot(x,y1,label=\"$\\ell_2(x)$\")\n",
    "axes.plot(x,y3,label=\"$\\ell_3(x)$\")\n",
    "axes.plot(x,y4,label=\"$\\ell_4(x)$\")\n",
    "axes.legend(loc='best')\n",
    "axes.grid()"
   ]
  },
  {
   "cell_type": "markdown",
   "metadata": {
    "deletable": false,
    "editable": false,
    "nbgrader": {
     "cell_type": "markdown",
     "checksum": "ccf929360de699b79c6a94cb32c72ea5",
     "grade": false,
     "grade_id": "cell-108742731508443",
     "locked": true,
     "schema_version": 3,
     "solution": false
    }
   },
   "source": [
    "**(b)** Estimate $\\max |\\ell_k(x)|$ for $N > 2$ by writing a function that returns the maximum absolute value of all Lagrange basis functions for $N$ evenly spaced points.  Note that $N$ is the polynomial order, not the number of points.  Use\n",
    "```python\n",
    "x = numpy.linspace(-1, 1, 100)\n",
    "```\n",
    "to evaluate the polynomial.  Also it may be helpful to plot the basis and the maximum found to check your answer:\n",
    "```python\n",
    "fig = plt.figure()\n",
    "axes = fig.add_subplot(1, 1, 1)\n",
    "axes.plot(x, lagrange_basis)\n",
    "axes.plot(x_max, lagrange_basis_max, 'ko')\n",
    "```"
   ]
  },
  {
   "cell_type": "code",
   "execution_count": null,
   "metadata": {
    "deletable": false,
    "nbgrader": {
     "cell_type": "code",
     "checksum": "883e97a0b1b92e5301143cafc8747ce8",
     "grade": false,
     "grade_id": "cell-1846687567556877",
     "locked": false,
     "schema_version": 3,
     "solution": true
    }
   },
   "outputs": [],
   "source": [
    "def max_equal_basis(N):\n",
    "    r\"\"\"Compute the maximum amplitude of the Lagrange\n",
    "    polynomial basis of degree *N*\n",
    "    \n",
    "    \"\"\"\n",
    "    x = numpy.linspace(-1, 1, 100)\n",
    "    \n",
    "    # YOUR CODE HERE\n",
    "    maxes=[]\n",
    "    for (i in x) and (j in x-1):\n",
    "        l_i = lambda y: (y - j) / (i - j)\n",
    "        vals = l_i(x)\n",
    "        evaluate = evaluate * vals\n",
    "    max_li = max(numpy.abs(evaluate))\n",
    "    maxes.append(max_li)        \n",
    "    return max(maxes)"
   ]
  },
  {
   "cell_type": "code",
   "execution_count": null,
   "metadata": {
    "deletable": false,
    "editable": false,
    "nbgrader": {
     "cell_type": "code",
     "checksum": "4e0f268eb7831439127594e044c7a5ab",
     "grade": true,
     "grade_id": "cell-4790850008223281",
     "locked": true,
     "points": 4,
     "schema_version": 3,
     "solution": false
    }
   },
   "outputs": [],
   "source": [
    "N = [2, 4, 6, 8, 10, 12, 20, 30, 40]\n",
    "max_value = numpy.empty(len(N))\n",
    "for (i, n) in enumerate(N):\n",
    "    max_value[i] = max_equal_basis(n)\n",
    "numpy.testing.assert_allclose(max_value, [1.00000000e+00, 1.15204532e+00, 1.36216139e+00, \n",
    "                                          2.54889859e+00, 6.50684027e+00, 1.80407350e+01, \n",
    "                                          1.79785431e+03, 8.77912809e+05, 4.27506380e+08])\n",
    "\n",
    "print(\"Success!\")"
   ]
  },
  {
   "cell_type": "markdown",
   "metadata": {
    "deletable": false,
    "editable": false,
    "nbgrader": {
     "cell_type": "markdown",
     "checksum": "4301c2f33f0f9235a71250527f53aada",
     "grade": false,
     "grade_id": "cell-4319376963517508",
     "locked": true,
     "schema_version": 3,
     "solution": false
    }
   },
   "source": [
    "**(c)** Repeat part **b** but choose the sampling points $x_i$ to be the  Chebyshev points.  Note that these are Lagrangian basis functions using Chebyshev points (or nodes) rather than the Chebyshev polynomial basis.  Again use the plotting code above if you need to debug."
   ]
  },
  {
   "cell_type": "code",
   "execution_count": 42,
   "metadata": {
    "deletable": false,
    "nbgrader": {
     "cell_type": "code",
     "checksum": "977042cecd36427e1284c95a5e93d762",
     "grade": false,
     "grade_id": "cell-7014398607882874",
     "locked": false,
     "schema_version": 3,
     "solution": true
    }
   },
   "outputs": [],
   "source": [
    "def max_chebyshev_basis(N):\n",
    "    \"\"\"Using Chebyshev nodes and the corresponding Lagrangian basis\n",
    "    compute the maximum amplitude of the basis function of degree *N*.\n",
    "    \"\"\"\n",
    "    x = numpy.linspace(-1, 1, 100)\n",
    "    # YOUR CODE HERE\n",
    "    maxes = []\n",
    "    num = numpy.arange(1, N+2, 1)\n",
    "    nodes = numpy.cos(((2*num-1)*numpy.pi)/(2*N+2))\n",
    "    pts = set(nodes)\n",
    "    for i in nodes:\n",
    "        evaluate = numpy.ones(len(x))\n",
    "        rest = pts.difference({i})\n",
    "        for j in rest:\n",
    "            l_i = lambda y: (y - j) / (i - j)\n",
    "            vals = l_i(x)\n",
    "            evaluate = evaluate * vals\n",
    "        max_li = max(numpy.abs(evaluate))\n",
    "        maxes.append(max_li)        \n",
    "    return max(maxes)"
   ]
  },
  {
   "cell_type": "code",
   "execution_count": 43,
   "metadata": {
    "deletable": false,
    "editable": false,
    "nbgrader": {
     "cell_type": "code",
     "checksum": "de21116905d7e3b0d6dff784a13c3dea",
     "grade": true,
     "grade_id": "cell-4966796702486256",
     "locked": true,
     "points": 4,
     "schema_version": 3,
     "solution": false
    }
   },
   "outputs": [
    {
     "name": "stdout",
     "output_type": "stream",
     "text": [
      "Success!\n"
     ]
    }
   ],
   "source": [
    "N = [2, 4, 6, 8, 10, 12, 20, 30, 40]\n",
    "max_value = numpy.empty(len(N))\n",
    "for (i, n) in enumerate(N):\n",
    "    max_value[i] = max_chebyshev_basis(n)\n",
    "\n",
    "numpy.testing.assert_allclose(max_value, [1.24401694, 1.2627503, 1.26789221, 1.27000581, \n",
    "                                          1.27107518, 1.27169006, 1.27264584, 1.27296711,\n",
    "                                          1.2730838])\n",
    "\n",
    "print(\"Success!\")"
   ]
  },
  {
   "cell_type": "markdown",
   "metadata": {
    "deletable": false,
    "editable": false,
    "nbgrader": {
     "cell_type": "markdown",
     "checksum": "1e486699ba15d781fbdd9ced11af72d5",
     "grade": false,
     "grade_id": "cell-2867612339147590",
     "locked": true,
     "schema_version": 3,
     "solution": false
    }
   },
   "source": [
    "**(d)** Plot a comparison of the results (on the same plot) from part **b** and **c** using the same values of N.  Make sure to use a `semilogy` plot so that the values are vieable (at least for one of the series)."
   ]
  },
  {
   "cell_type": "code",
   "execution_count": 26,
   "metadata": {
    "deletable": false,
    "nbgrader": {
     "cell_type": "code",
     "checksum": "6f228b3b25bde552eba92f7897e6d10e",
     "grade": true,
     "grade_id": "cell-7707828088791371",
     "locked": false,
     "points": 4,
     "schema_version": 3,
     "solution": true
    }
   },
   "outputs": [],
   "source": [
    "# YOUR CODE HERE"
   ]
  },
  {
   "cell_type": "markdown",
   "metadata": {
    "deletable": false,
    "editable": false,
    "nbgrader": {
     "cell_type": "markdown",
     "checksum": "4abe82a033995318c709d39432061024",
     "grade": false,
     "grade_id": "cell-aacc4a58b6be2d10",
     "locked": true,
     "schema_version": 3,
     "solution": false,
     "task": false
    }
   },
   "source": [
    "## Question 4\n",
    "\n",
    "In lecture we constructed the system of equations we need to solve for each interval if we wanted to use a piece-wise cubic function and have an interpolant that is $C^1$.  This questions addresses the details of that derivation."
   ]
  },
  {
   "cell_type": "markdown",
   "metadata": {
    "deletable": false,
    "editable": false,
    "nbgrader": {
     "cell_type": "markdown",
     "checksum": "820a90975b4ccabca823058fb5388d03",
     "grade": false,
     "grade_id": "cell-481b6e0e419aeb45",
     "locked": true,
     "schema_version": 3,
     "solution": false,
     "task": false
    }
   },
   "source": [
    "**(a)** [4] Let $x \\in [x_k, x_{k+1}] = X$ and $s \\in [0, 1] = S$.  Write down the transformation we need to map the $X$ and $S$ to each other, i.e. $T:X \\rightarrow S$, along with its inverse $T^{-1}$."
   ]
  },
  {
   "cell_type": "markdown",
   "metadata": {
    "deletable": false,
    "nbgrader": {
     "cell_type": "markdown",
     "checksum": "4341897645a8aae83b01ad6df62aa2d3",
     "grade": true,
     "grade_id": "cell-37ac387132d31666",
     "locked": false,
     "points": 4,
     "schema_version": 3,
     "solution": true,
     "task": false
    }
   },
   "source": [
    "## Solution\n",
    "\n",
    "$$\n",
    "T(x) = \\frac{x-x_{k}}{x_{k+1}-x_k}\n",
    "$$\n",
    "\n",
    "It's inverse:\n",
    "\n",
    "$$\n",
    "T^{-1}(s) = -sx_k + x_k + sx_{k+1} = s \\Delta x + x_k\n",
    "$$"
   ]
  },
  {
   "cell_type": "markdown",
   "metadata": {},
   "source": [
    "**(b)** [4] After making the transformation of the equations we found that the system of equations that result are\n",
    "$$\\begin{bmatrix}\n",
    "    1 & 0 & 0 & 0 \\\\\n",
    "    1 & 1 & 1 & 1 \\\\\n",
    "    0 & 1 & 0 & 0 \\\\\n",
    "    0 & 1 & 2 & 3\n",
    "\\end{bmatrix} \\begin{bmatrix}\n",
    "p_0 \\\\ p_1 \\\\ p_2 \\\\ p_3\n",
    "\\end{bmatrix} = \\begin{bmatrix}\n",
    "y_k \\\\ y_{k+1} \\\\ d_k \\\\ d_{k+1}\n",
    "\\end{bmatrix}$$\n",
    "Show that the solution is\n",
    "$$\n",
    "    \\mathcal{P}(s) = (1-s)^2 (1 + 2s) y_k + s^2 (3 - 2 s) y_{k+1} + s (1 - s)^2 d_k - s^2 (1 - s)d_{k+1}\n",
    "$$"
   ]
  },
  {
   "cell_type": "markdown",
   "metadata": {
    "deletable": false,
    "nbgrader": {
     "cell_type": "markdown",
     "checksum": "89d001a3116d912a1d3dafbcfad3bfa7",
     "grade": true,
     "grade_id": "cell-cd0c565f9c40541b",
     "locked": false,
     "points": 4,
     "schema_version": 3,
     "solution": true,
     "task": false
    }
   },
   "source": [
    "## Solution\n",
    "\n",
    "Transposing the matrix:\n",
    "$$\n",
    "\\begin{bmatrix}\n",
    "    1 & 1 & 0 & 0 \\\\\n",
    "    0 & 1 & 1 & 1 \\\\\n",
    "    0 & 1 & 0 & 2 \\\\\n",
    "    0 & 1 & 0 & 3\n",
    "\\end{bmatrix}\n",
    "$$\n",
    "\n",
    "It's inverse:\n",
    "\n",
    "$$\n",
    "\\begin{bmatrix}\n",
    "    1 & 0 & -3 & 2 \\\\\n",
    "    0 & 0 & 3 & -2 \\\\\n",
    "    0 & 1 & -2 & 1 \\\\\n",
    "    0 & 0 & -1 & 1\n",
    "\\end{bmatrix}\n",
    "$$\n",
    "\n",
    "We get:\n",
    "\n",
    "$$\n",
    "P(s) = (2s^3 - 3s^2  1)y_k + (-2s^3 + 3s^2)y_{k+1} + (s^3 - 2s^2 + s)d_k + (s^3 - s^2)d_{k+1}\n",
    "$$\n",
    "\n",
    "Factoring yields our result:\n",
    "$$\n",
    "P(s) = (1-s)^2 (1 + 2s) y_k + s^2 (3 - 2 s) y_{k+1} + s (1 - s)^2 d_k - s^2 (1 - s)d_{k+1}\n",
    "$$"
   ]
  },
  {
   "cell_type": "markdown",
   "metadata": {
    "deletable": false,
    "editable": false,
    "nbgrader": {
     "cell_type": "markdown",
     "checksum": "434e019702736e31724dbc3d5f45f661",
     "grade": false,
     "grade_id": "cell-c4f4c621bcf3635d",
     "locked": true,
     "schema_version": 3,
     "solution": false,
     "task": false
    }
   },
   "source": [
    "**(c)** Use $T^{-1}$ to transform back to $X$ and write down the polynomial in terms of the original variable $x$."
   ]
  },
  {
   "cell_type": "markdown",
   "metadata": {},
   "source": [
    "$$\n",
    "P(x) = (1-x)^2(1+2x)y_k + x^2(3-2x)y_{k+1} + x(1-x)^2d_k - x^2(1-x)d_{k+1}\n",
    "$$"
   ]
  },
  {
   "cell_type": "code",
   "execution_count": null,
   "metadata": {
    "deletable": false,
    "nbgrader": {
     "cell_type": "code",
     "checksum": "12cda56b0242994699548c24920963ff",
     "grade": true,
     "grade_id": "cell-9b2ba1a1789bbba3",
     "locked": false,
     "points": 4,
     "schema_version": 3,
     "solution": true,
     "task": false
    }
   },
   "outputs": [],
   "source": [
    "# YOUR CODE HERE"
   ]
  },
  {
   "cell_type": "code",
   "execution_count": null,
   "metadata": {},
   "outputs": [],
   "source": []
  }
 ],
 "metadata": {
  "kernelspec": {
   "display_name": "Python 3",
   "language": "python",
   "name": "python3"
  },
  "language_info": {
   "codemirror_mode": {
    "name": "ipython",
    "version": 3
   },
   "file_extension": ".py",
   "mimetype": "text/x-python",
   "name": "python",
   "nbconvert_exporter": "python",
   "pygments_lexer": "ipython3",
   "version": "3.7.3"
  },
  "latex_envs": {
   "bibliofile": "biblio.bib",
   "cite_by": "apalike",
   "current_citInitial": 1,
   "eqLabelWithNumbers": true,
   "eqNumInitial": 0
  }
 },
 "nbformat": 4,
 "nbformat_minor": 4
}
